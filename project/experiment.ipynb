{
 "cells": [
  {
   "cell_type": "markdown",
   "metadata": {},
   "source": [
    "# Практическая часть эксперимента"
   ]
  },
  {
   "cell_type": "code",
   "execution_count": 1,
   "metadata": {},
   "outputs": [],
   "source": [
    "import sys\n",
    "\n",
    "sys.path.append(\"/home/alex/dev/uni/formal-lang-course/\")"
   ]
  },
  {
   "cell_type": "code",
   "execution_count": 2,
   "metadata": {},
   "outputs": [
    {
     "name": "stdout",
     "output_type": "stream",
     "text": [
      "import sources directory\n"
     ]
    }
   ],
   "source": [
    "import time\n",
    "\n",
    "import cfpq_data as cd\n",
    "import pandas as pd\n",
    "from scipy.sparse import (\n",
    "    csc_matrix,\n",
    "    csr_matrix,\n",
    "    dok_matrix,\n",
    "    lil_matrix,\n",
    ")\n",
    "from task1 import GraphInfo\n",
    "from task5 import experimental_ms_bfs_based_rpq, experimental_tensor_based_rpq"
   ]
  },
  {
   "cell_type": "markdown",
   "metadata": {},
   "source": [
    "Выбранные графы:\n",
    "* `generations`\n",
    "* `travel`"
   ]
  },
  {
   "cell_type": "code",
   "execution_count": 3,
   "metadata": {},
   "outputs": [],
   "source": [
    "graph_names = [\"generations\", \"travel\"]\n",
    "\n",
    "matrix_types = {\n",
    "    csr_matrix: \"csr\",\n",
    "    csc_matrix: \"csc\",\n",
    "    dok_matrix: \"dok\",\n",
    "    lil_matrix: \"lil\",\n",
    "}"
   ]
  },
  {
   "cell_type": "code",
   "execution_count": 4,
   "metadata": {},
   "outputs": [],
   "source": [
    "def get_counted_labels(graph) -> dict[str, int]:\n",
    "    labelsNotCounted = [edge[2] for edge in list(graph.edges(data=\"label\"))]\n",
    "    labelsCounted: dict[str, int] = {}\n",
    "    while len(labelsNotCounted) != 0:\n",
    "        label = labelsNotCounted.pop()\n",
    "        if label not in labelsCounted:\n",
    "            labelsCounted[label] = 1\n",
    "        else:\n",
    "            labelsCounted[label] += 1\n",
    "\n",
    "    orderedLabelsCounted = dict(\n",
    "        sorted(labelsCounted.items(), key=lambda x: x[1], reverse=True)\n",
    "    )\n",
    "\n",
    "    return orderedLabelsCounted"
   ]
  },
  {
   "cell_type": "markdown",
   "metadata": {},
   "source": [
    "Запросы:\n",
    "* `l1* | l2*`\n",
    "* `(l1 | l2)* l3`\n",
    "* `(l3 | l4)+ l1*`\n",
    "* `l1 l2 l3 (l4|l1)*`"
   ]
  },
  {
   "cell_type": "code",
   "execution_count": 5,
   "metadata": {},
   "outputs": [
    {
     "name": "stderr",
     "output_type": "stream",
     "text": [
      "[2024-10-15 20:26:25]>INFO>Found graph with name='generations'\n",
      "[2024-10-15 20:26:25]>INFO>Load archive graph_archive=PosixPath('/home/alex/dev/uni/formal-lang-course/.venv/lib/python3.12/site-packages/cfpq_data/data/graphs/generations.tar.gz')\n",
      "[2024-10-15 20:26:25]>INFO>Unzip graph name='generations' to file graph=PosixPath('/home/alex/dev/uni/formal-lang-course/.venv/lib/python3.12/site-packages/cfpq_data/data/graphs/generations/generations.csv')\n",
      "[2024-10-15 20:26:25]>INFO>Remove archive graph_archive=PosixPath('/home/alex/dev/uni/formal-lang-course/.venv/lib/python3.12/site-packages/cfpq_data/data/graphs/generations.tar.gz')\n",
      "[2024-10-15 20:26:25]>INFO>Load graph=<networkx.classes.multidigraph.MultiDiGraph object at 0x7f3a4c685100> from path=PosixPath('/home/alex/dev/uni/formal-lang-course/.venv/lib/python3.12/site-packages/cfpq_data/data/graphs/generations/generations.csv')\n",
      "[2024-10-15 20:26:25]>INFO>Construct labels_frequency=defaultdict(<class 'int'>, {'rest': 45, 'first': 45, 'onProperty': 27, 'type': 78, 'hasValue': 12, 'someValuesFrom': 15, 'equivalentClass': 17, 'intersectionOf': 18, 'inverseOf': 2, 'range': 1, 'hasSibling': 1, 'sameAs': 2, 'hasParent': 2, 'hasSex': 4, 'hasChild': 2, 'versionInfo': 1, 'oneOf': 1}) for graph=<networkx.classes.multidigraph.MultiDiGraph object at 0x7f3a4c685100>\n",
      "[2024-10-15 20:26:25]>INFO>Sort edge labels=['type', 'first', 'rest', 'onProperty', 'intersectionOf', 'equivalentClass', 'someValuesFrom', 'hasValue', 'hasSex', 'hasChild', 'hasParent', 'inverseOf', 'sameAs', 'hasSibling', 'oneOf', 'range', 'versionInfo'] of graph=<networkx.classes.multidigraph.MultiDiGraph object at 0x7f3a4c685100>\n",
      "[2024-10-15 20:26:25]>INFO>Found graph with name='travel'\n",
      "[2024-10-15 20:26:25]>INFO>Load archive graph_archive=PosixPath('/home/alex/dev/uni/formal-lang-course/.venv/lib/python3.12/site-packages/cfpq_data/data/graphs/travel.tar.gz')\n",
      "[2024-10-15 20:26:25]>INFO>Unzip graph name='travel' to file graph=PosixPath('/home/alex/dev/uni/formal-lang-course/.venv/lib/python3.12/site-packages/cfpq_data/data/graphs/travel/travel.csv')\n",
      "[2024-10-15 20:26:25]>INFO>Remove archive graph_archive=PosixPath('/home/alex/dev/uni/formal-lang-course/.venv/lib/python3.12/site-packages/cfpq_data/data/graphs/travel.tar.gz')\n",
      "[2024-10-15 20:26:25]>INFO>Load graph=<networkx.classes.multidigraph.MultiDiGraph object at 0x7f3a0643c650> from path=PosixPath('/home/alex/dev/uni/formal-lang-course/.venv/lib/python3.12/site-packages/cfpq_data/data/graphs/travel/travel.csv')\n",
      "[2024-10-15 20:26:25]>INFO>Construct labels_frequency=defaultdict(<class 'int'>, {'type': 90, 'subClassOf': 30, 'disjointWith': 20, 'first': 24, 'rest': 24, 'onProperty': 15, 'someValuesFrom': 10, 'domain': 10, 'range': 10, 'oneOf': 2, 'comment': 9, 'equivalentClass': 7, 'intersectionOf': 7, 'minCardinality': 2, 'inverseOf': 2, 'differentFrom': 6, 'hasAccommodation': 1, 'hasPart': 2, 'unionOf': 1, 'hasValue': 3, 'complementOf': 1, 'versionInfo': 1}) for graph=<networkx.classes.multidigraph.MultiDiGraph object at 0x7f3a0643c650>\n",
      "[2024-10-15 20:26:25]>INFO>Sort edge labels=['type', 'subClassOf', 'first', 'rest', 'disjointWith', 'onProperty', 'domain', 'range', 'someValuesFrom', 'comment', 'equivalentClass', 'intersectionOf', 'differentFrom', 'hasValue', 'hasPart', 'inverseOf', 'minCardinality', 'oneOf', 'complementOf', 'hasAccommodation', 'unionOf', 'versionInfo'] of graph=<networkx.classes.multidigraph.MultiDiGraph object at 0x7f3a0643c650>\n"
     ]
    }
   ],
   "source": [
    "def build_regexes(counted_labels) -> list[str]:\n",
    "    orderedLabels = list(counted_labels.keys())\n",
    "    l1, l2, l3, l4 = (\n",
    "        orderedLabels[0],\n",
    "        orderedLabels[1],\n",
    "        orderedLabels[2],\n",
    "        orderedLabels[3],\n",
    "    )\n",
    "\n",
    "    return [\n",
    "        f\"{l1}* | {l2}\",\n",
    "        f\"({l1} | {l2})* {l3}\",\n",
    "        f\"({l1} | {l2})+ {l3}*\",\n",
    "        f\"{l1} {l2} {l3} ({l4} | {l1})*\",\n",
    "    ]\n",
    "\n",
    "\n",
    "regexes = {\n",
    "    graph_name: build_regexes(get_counted_labels(GraphInfo(graph_name)._graph))\n",
    "    for graph_name in graph_names\n",
    "}"
   ]
  },
  {
   "cell_type": "code",
   "execution_count": 6,
   "metadata": {},
   "outputs": [],
   "source": [
    "results = {\n",
    "    \"algorithm\": [],\n",
    "    \"graph_name\": [],\n",
    "    \"matrix_format\": [],\n",
    "    \"regex\": [],\n",
    "    \"start_nodes_percentage\": [],\n",
    "    \"time\": [],\n",
    "}"
   ]
  },
  {
   "cell_type": "markdown",
   "metadata": {},
   "source": [
    "`dok_matrix` не используется при постановке эксперимента с помощью `tensor_based_rpq`, так как для проведения эксперимента потребуется слишком большое количество времени и ресурсов, что видно из следующего блока."
   ]
  },
  {
   "cell_type": "code",
   "execution_count": 7,
   "metadata": {},
   "outputs": [
    {
     "name": "stderr",
     "output_type": "stream",
     "text": [
      "[2024-10-15 20:26:25]>INFO>Found graph with name='generations'\n",
      "[2024-10-15 20:26:25]>INFO>Load archive graph_archive=PosixPath('/home/alex/dev/uni/formal-lang-course/.venv/lib/python3.12/site-packages/cfpq_data/data/graphs/generations.tar.gz')\n",
      "[2024-10-15 20:26:26]>INFO>Unzip graph name='generations' to file graph=PosixPath('/home/alex/dev/uni/formal-lang-course/.venv/lib/python3.12/site-packages/cfpq_data/data/graphs/generations/generations.csv')\n",
      "[2024-10-15 20:26:26]>INFO>Remove archive graph_archive=PosixPath('/home/alex/dev/uni/formal-lang-course/.venv/lib/python3.12/site-packages/cfpq_data/data/graphs/generations.tar.gz')\n",
      "[2024-10-15 20:26:26]>INFO>Load graph=<networkx.classes.multidigraph.MultiDiGraph object at 0x7f3a04babcb0> from path=PosixPath('/home/alex/dev/uni/formal-lang-course/.venv/lib/python3.12/site-packages/cfpq_data/data/graphs/generations/generations.csv')\n",
      "[2024-10-15 20:26:26]>INFO>Construct labels_frequency=defaultdict(<class 'int'>, {'rest': 45, 'first': 45, 'onProperty': 27, 'type': 78, 'hasValue': 12, 'someValuesFrom': 15, 'equivalentClass': 17, 'intersectionOf': 18, 'inverseOf': 2, 'range': 1, 'hasSibling': 1, 'sameAs': 2, 'hasParent': 2, 'hasSex': 4, 'hasChild': 2, 'versionInfo': 1, 'oneOf': 1}) for graph=<networkx.classes.multidigraph.MultiDiGraph object at 0x7f3a04babcb0>\n",
      "[2024-10-15 20:26:26]>INFO>Sort edge labels=['type', 'first', 'rest', 'onProperty', 'intersectionOf', 'equivalentClass', 'someValuesFrom', 'hasValue', 'hasSex', 'hasChild', 'hasParent', 'inverseOf', 'sameAs', 'hasSibling', 'oneOf', 'range', 'versionInfo'] of graph=<networkx.classes.multidigraph.MultiDiGraph object at 0x7f3a04babcb0>\n",
      "[2024-10-15 20:26:26]>INFO>Generate set of source vertices of 6 nodes for graph=<networkx.classes.multidigraph.MultiDiGraph object at 0x7f3a04babcb0> for multiple-source evaluation\n"
     ]
    },
    {
     "name": "stdout",
     "output_type": "stream",
     "text": [
      "tensor_based_rqp | dok_matrix | (type* | rest): 46.20679259300232\n",
      "tensor_based_rqp | dok_matrix | ((type | rest)* first): 83.55320811271667\n",
      "tensor_based_rqp | dok_matrix | ((type | rest)+ first*): 84.39034605026245\n"
     ]
    },
    {
     "name": "stderr",
     "output_type": "stream",
     "text": [
      "[2024-10-15 20:33:59]>INFO>Found graph with name='travel'\n"
     ]
    },
    {
     "name": "stdout",
     "output_type": "stream",
     "text": [
      "tensor_based_rqp | dok_matrix | (type rest first (onProperty | type)*): 239.74330258369446\n",
      "Time total for one repeat of tensor_based_rpq using dok_matrix, generations graph and 4 different regexes: 453.894\n",
      " Approximate time needed for the whole experiment: 18155.746 s = 5.043 h\n"
     ]
    },
    {
     "name": "stderr",
     "output_type": "stream",
     "text": [
      "[2024-10-15 20:34:00]>INFO>Load archive graph_archive=PosixPath('/home/alex/dev/uni/formal-lang-course/.venv/lib/python3.12/site-packages/cfpq_data/data/graphs/travel.tar.gz')\n",
      "[2024-10-15 20:34:00]>INFO>Unzip graph name='travel' to file graph=PosixPath('/home/alex/dev/uni/formal-lang-course/.venv/lib/python3.12/site-packages/cfpq_data/data/graphs/travel/travel.csv')\n",
      "[2024-10-15 20:34:00]>INFO>Remove archive graph_archive=PosixPath('/home/alex/dev/uni/formal-lang-course/.venv/lib/python3.12/site-packages/cfpq_data/data/graphs/travel.tar.gz')\n",
      "[2024-10-15 20:34:00]>INFO>Load graph=<networkx.classes.multidigraph.MultiDiGraph object at 0x7f39da3032c0> from path=PosixPath('/home/alex/dev/uni/formal-lang-course/.venv/lib/python3.12/site-packages/cfpq_data/data/graphs/travel/travel.csv')\n",
      "[2024-10-15 20:34:00]>INFO>Construct labels_frequency=defaultdict(<class 'int'>, {'type': 90, 'subClassOf': 30, 'disjointWith': 20, 'first': 24, 'rest': 24, 'onProperty': 15, 'someValuesFrom': 10, 'domain': 10, 'range': 10, 'oneOf': 2, 'comment': 9, 'equivalentClass': 7, 'intersectionOf': 7, 'minCardinality': 2, 'inverseOf': 2, 'differentFrom': 6, 'hasAccommodation': 1, 'hasPart': 2, 'unionOf': 1, 'hasValue': 3, 'complementOf': 1, 'versionInfo': 1}) for graph=<networkx.classes.multidigraph.MultiDiGraph object at 0x7f39da3032c0>\n",
      "[2024-10-15 20:34:00]>INFO>Sort edge labels=['type', 'subClassOf', 'first', 'rest', 'disjointWith', 'onProperty', 'domain', 'range', 'someValuesFrom', 'comment', 'equivalentClass', 'intersectionOf', 'differentFrom', 'hasValue', 'hasPart', 'inverseOf', 'minCardinality', 'oneOf', 'complementOf', 'hasAccommodation', 'unionOf', 'versionInfo'] of graph=<networkx.classes.multidigraph.MultiDiGraph object at 0x7f39da3032c0>\n",
      "[2024-10-15 20:34:00]>INFO>Generate set of source vertices of 6 nodes for graph=<networkx.classes.multidigraph.MultiDiGraph object at 0x7f39da3032c0> for multiple-source evaluation\n"
     ]
    },
    {
     "name": "stdout",
     "output_type": "stream",
     "text": [
      "tensor_based_rqp | dok_matrix | (type* | rest): 43.03268575668335\n",
      "tensor_based_rqp | dok_matrix | ((type | rest)* first): 87.41163969039917\n",
      "tensor_based_rqp | dok_matrix | ((type | rest)+ first*): 92.20527958869934\n",
      "tensor_based_rqp | dok_matrix | (type rest first (onProperty | type)*): 254.14322757720947\n",
      "Time total for one repeat of tensor_based_rpq using dok_matrix, travel graph and 4 different regexes: 930.686\n",
      " Approximate time needed for the whole experiment: 37227.459 s = 10.341 h\n"
     ]
    }
   ],
   "source": [
    "matrix_types_test = {dok_matrix: \"dok\"}\n",
    "time_total = 0\n",
    "times = 20\n",
    "\n",
    "for graph_name in graph_names:\n",
    "    graph_test = GraphInfo(graph_name)._graph\n",
    "    start_nodes_test = cd.generate_multiple_source(\n",
    "        graph_test, int(0.05 * len(graph_test.nodes))\n",
    "    )\n",
    "    for matrix_type, matrix_format in matrix_types_test.items():\n",
    "        for regex in regexes[\"generations\"]:\n",
    "            st = time.time()\n",
    "            experimental_tensor_based_rpq(\n",
    "                regex,\n",
    "                graph_test,\n",
    "                start_nodes_test,\n",
    "                None,\n",
    "                matrix_type,\n",
    "                matrix_format,\n",
    "            )\n",
    "            fn = time.time()\n",
    "            elapsed_time = fn - st\n",
    "            time_total += fn - st\n",
    "            print(\n",
    "                f\"tensor_based_rqp | {matrix_type.__name__} | ({regex}): {elapsed_time}\"\n",
    "            )\n",
    "    print(\n",
    "        f\"Time total for one repeat of tensor_based_rpq using dok_matrix, {graph_name} graph and 4 different regexes: {time_total:.3f}\\n Approximate time needed for the whole experiment: {(time_total * times * len(graph_names)):.3f} s = {(time_total * times * len(graph_names) / 3600):.3f} h\"\n",
    "    )"
   ]
  },
  {
   "cell_type": "code",
   "execution_count": 8,
   "metadata": {},
   "outputs": [],
   "source": [
    "def conduct_experiment(rpq_function, matrix_types, graph_names, times, regexes):\n",
    "    for graph_name in graph_names:\n",
    "        graph = GraphInfo(graph_name)._graph\n",
    "        start_nodes_percentages = [0.05, 0.3, 0.5, 0.8, 1]\n",
    "        for percentage in start_nodes_percentages:\n",
    "            start_nodes = cd.generate_multiple_source(\n",
    "                graph, int(percentage * len(graph.nodes))\n",
    "            )\n",
    "            final_nodes = None\n",
    "\n",
    "            for regex in regexes[graph_name]:\n",
    "                for matrix_type, matrix_format in matrix_types.items():\n",
    "                    if (\n",
    "                        matrix_format == \"dok\"\n",
    "                        and rpq_function == experimental_tensor_based_rpq\n",
    "                    ):\n",
    "                        continue\n",
    "                    else:\n",
    "                        elapsed_time = 0\n",
    "                        for _ in range(times):\n",
    "                            st = time.time()\n",
    "                            rpq_function(\n",
    "                                regex,\n",
    "                                graph,\n",
    "                                start_nodes,\n",
    "                                final_nodes,\n",
    "                                matrix_type,\n",
    "                                matrix_format,\n",
    "                            )\n",
    "                            fn = time.time()\n",
    "                            elapsed_time += fn - st\n",
    "\n",
    "                        results[\"algorithm\"].append(rpq_function.__name__)\n",
    "                        results[\"graph_name\"].append(graph_name)\n",
    "                        results[\"matrix_format\"].append(matrix_format)\n",
    "                        results[\"regex\"].append(regex)\n",
    "                        results[\"start_nodes_percentage\"].append(\n",
    "                            f\"{int(percentage*100)}%\"\n",
    "                        )\n",
    "                        results[\"time\"].append(elapsed_time / times)\n",
    "\n",
    "                        print(\n",
    "                            f\"{graph_name} | {rpq_function.__name__} | {percentage * 100}% | ({regex}) | {matrix_type.__name__} | {elapsed_time / times:.3f}\"\n",
    "                        )"
   ]
  },
  {
   "cell_type": "code",
   "execution_count": 9,
   "metadata": {},
   "outputs": [
    {
     "name": "stderr",
     "output_type": "stream",
     "text": [
      "[2024-10-15 20:41:56]>INFO>Found graph with name='generations'\n",
      "[2024-10-15 20:41:57]>INFO>Load archive graph_archive=PosixPath('/home/alex/dev/uni/formal-lang-course/.venv/lib/python3.12/site-packages/cfpq_data/data/graphs/generations.tar.gz')\n",
      "[2024-10-15 20:41:57]>INFO>Unzip graph name='generations' to file graph=PosixPath('/home/alex/dev/uni/formal-lang-course/.venv/lib/python3.12/site-packages/cfpq_data/data/graphs/generations/generations.csv')\n",
      "[2024-10-15 20:41:57]>INFO>Remove archive graph_archive=PosixPath('/home/alex/dev/uni/formal-lang-course/.venv/lib/python3.12/site-packages/cfpq_data/data/graphs/generations.tar.gz')\n",
      "[2024-10-15 20:41:57]>INFO>Load graph=<networkx.classes.multidigraph.MultiDiGraph object at 0x7f3a54129760> from path=PosixPath('/home/alex/dev/uni/formal-lang-course/.venv/lib/python3.12/site-packages/cfpq_data/data/graphs/generations/generations.csv')\n",
      "[2024-10-15 20:41:57]>INFO>Construct labels_frequency=defaultdict(<class 'int'>, {'rest': 45, 'first': 45, 'onProperty': 27, 'type': 78, 'hasValue': 12, 'someValuesFrom': 15, 'equivalentClass': 17, 'intersectionOf': 18, 'inverseOf': 2, 'range': 1, 'hasSibling': 1, 'sameAs': 2, 'hasParent': 2, 'hasSex': 4, 'hasChild': 2, 'versionInfo': 1, 'oneOf': 1}) for graph=<networkx.classes.multidigraph.MultiDiGraph object at 0x7f3a54129760>\n",
      "[2024-10-15 20:41:57]>INFO>Sort edge labels=['type', 'first', 'rest', 'onProperty', 'intersectionOf', 'equivalentClass', 'someValuesFrom', 'hasValue', 'hasSex', 'hasChild', 'hasParent', 'inverseOf', 'sameAs', 'hasSibling', 'oneOf', 'range', 'versionInfo'] of graph=<networkx.classes.multidigraph.MultiDiGraph object at 0x7f3a54129760>\n",
      "[2024-10-15 20:41:57]>INFO>Generate set of source vertices of 6 nodes for graph=<networkx.classes.multidigraph.MultiDiGraph object at 0x7f3a54129760> for multiple-source evaluation\n"
     ]
    },
    {
     "name": "stdout",
     "output_type": "stream",
     "text": [
      "generations | experimental_tensor_based_rpq | 5.0% | (type* | rest) | csr_matrix | 0.271\n",
      "generations | experimental_tensor_based_rpq | 5.0% | (type* | rest) | csc_matrix | 0.281\n",
      "generations | experimental_tensor_based_rpq | 5.0% | (type* | rest) | lil_matrix | 0.272\n",
      "generations | experimental_tensor_based_rpq | 5.0% | ((type | rest)* first) | csr_matrix | 0.839\n",
      "generations | experimental_tensor_based_rpq | 5.0% | ((type | rest)* first) | csc_matrix | 0.830\n",
      "generations | experimental_tensor_based_rpq | 5.0% | ((type | rest)* first) | lil_matrix | 0.828\n",
      "generations | experimental_tensor_based_rpq | 5.0% | ((type | rest)+ first*) | csr_matrix | 0.174\n",
      "generations | experimental_tensor_based_rpq | 5.0% | ((type | rest)+ first*) | csc_matrix | 0.180\n",
      "generations | experimental_tensor_based_rpq | 5.0% | ((type | rest)+ first*) | lil_matrix | 0.185\n",
      "generations | experimental_tensor_based_rpq | 5.0% | (type rest first (onProperty | type)*) | csr_matrix | 2.240\n",
      "generations | experimental_tensor_based_rpq | 5.0% | (type rest first (onProperty | type)*) | csc_matrix | 2.284\n"
     ]
    },
    {
     "name": "stderr",
     "output_type": "stream",
     "text": [
      "[2024-10-15 20:45:30]>INFO>Generate set of source vertices of 38 nodes for graph=<networkx.classes.multidigraph.MultiDiGraph object at 0x7f3a54129760> for multiple-source evaluation\n"
     ]
    },
    {
     "name": "stdout",
     "output_type": "stream",
     "text": [
      "generations | experimental_tensor_based_rpq | 5.0% | (type rest first (onProperty | type)*) | lil_matrix | 2.262\n",
      "generations | experimental_tensor_based_rpq | 30.0% | (type* | rest) | csr_matrix | 0.483\n",
      "generations | experimental_tensor_based_rpq | 30.0% | (type* | rest) | csc_matrix | 0.480\n",
      "generations | experimental_tensor_based_rpq | 30.0% | (type* | rest) | lil_matrix | 0.493\n",
      "generations | experimental_tensor_based_rpq | 30.0% | ((type | rest)* first) | csr_matrix | 1.528\n",
      "generations | experimental_tensor_based_rpq | 30.0% | ((type | rest)* first) | csc_matrix | 1.571\n",
      "generations | experimental_tensor_based_rpq | 30.0% | ((type | rest)* first) | lil_matrix | 1.584\n",
      "generations | experimental_tensor_based_rpq | 30.0% | ((type | rest)+ first*) | csr_matrix | 0.332\n",
      "generations | experimental_tensor_based_rpq | 30.0% | ((type | rest)+ first*) | csc_matrix | 0.342\n",
      "generations | experimental_tensor_based_rpq | 30.0% | ((type | rest)+ first*) | lil_matrix | 0.345\n",
      "generations | experimental_tensor_based_rpq | 30.0% | (type rest first (onProperty | type)*) | csr_matrix | 4.258\n",
      "generations | experimental_tensor_based_rpq | 30.0% | (type rest first (onProperty | type)*) | csc_matrix | 4.326\n"
     ]
    },
    {
     "name": "stderr",
     "output_type": "stream",
     "text": [
      "[2024-10-15 20:52:10]>INFO>Generate set of source vertices of 64 nodes for graph=<networkx.classes.multidigraph.MultiDiGraph object at 0x7f3a54129760> for multiple-source evaluation\n"
     ]
    },
    {
     "name": "stdout",
     "output_type": "stream",
     "text": [
      "generations | experimental_tensor_based_rpq | 30.0% | (type rest first (onProperty | type)*) | lil_matrix | 4.303\n",
      "generations | experimental_tensor_based_rpq | 50.0% | (type* | rest) | csr_matrix | 0.791\n",
      "generations | experimental_tensor_based_rpq | 50.0% | (type* | rest) | csc_matrix | 0.775\n",
      "generations | experimental_tensor_based_rpq | 50.0% | (type* | rest) | lil_matrix | 0.783\n",
      "generations | experimental_tensor_based_rpq | 50.0% | ((type | rest)* first) | csr_matrix | 2.418\n",
      "generations | experimental_tensor_based_rpq | 50.0% | ((type | rest)* first) | csc_matrix | 2.425\n",
      "generations | experimental_tensor_based_rpq | 50.0% | ((type | rest)* first) | lil_matrix | 2.367\n",
      "generations | experimental_tensor_based_rpq | 50.0% | ((type | rest)+ first*) | csr_matrix | 0.498\n",
      "generations | experimental_tensor_based_rpq | 50.0% | ((type | rest)+ first*) | csc_matrix | 0.507\n",
      "generations | experimental_tensor_based_rpq | 50.0% | ((type | rest)+ first*) | lil_matrix | 0.515\n",
      "generations | experimental_tensor_based_rpq | 50.0% | (type rest first (onProperty | type)*) | csr_matrix | 6.400\n",
      "generations | experimental_tensor_based_rpq | 50.0% | (type rest first (onProperty | type)*) | csc_matrix | 6.398\n"
     ]
    },
    {
     "name": "stderr",
     "output_type": "stream",
     "text": [
      "[2024-10-15 21:02:15]>INFO>Generate set of source vertices of 103 nodes for graph=<networkx.classes.multidigraph.MultiDiGraph object at 0x7f3a54129760> for multiple-source evaluation\n"
     ]
    },
    {
     "name": "stdout",
     "output_type": "stream",
     "text": [
      "generations | experimental_tensor_based_rpq | 50.0% | (type rest first (onProperty | type)*) | lil_matrix | 6.326\n",
      "generations | experimental_tensor_based_rpq | 80.0% | (type* | rest) | csr_matrix | 1.309\n",
      "generations | experimental_tensor_based_rpq | 80.0% | (type* | rest) | csc_matrix | 1.277\n",
      "generations | experimental_tensor_based_rpq | 80.0% | (type* | rest) | lil_matrix | 1.280\n",
      "generations | experimental_tensor_based_rpq | 80.0% | ((type | rest)* first) | csr_matrix | 3.989\n",
      "generations | experimental_tensor_based_rpq | 80.0% | ((type | rest)* first) | csc_matrix | 4.020\n",
      "generations | experimental_tensor_based_rpq | 80.0% | ((type | rest)* first) | lil_matrix | 4.172\n",
      "generations | experimental_tensor_based_rpq | 80.0% | ((type | rest)+ first*) | csr_matrix | 0.871\n",
      "generations | experimental_tensor_based_rpq | 80.0% | ((type | rest)+ first*) | csc_matrix | 0.910\n",
      "generations | experimental_tensor_based_rpq | 80.0% | ((type | rest)+ first*) | lil_matrix | 0.899\n",
      "generations | experimental_tensor_based_rpq | 80.0% | (type rest first (onProperty | type)*) | csr_matrix | 12.903\n",
      "generations | experimental_tensor_based_rpq | 80.0% | (type rest first (onProperty | type)*) | csc_matrix | 11.401\n"
     ]
    },
    {
     "name": "stderr",
     "output_type": "stream",
     "text": [
      "[2024-10-15 21:20:13]>INFO>Generate set of source vertices of 129 nodes for graph=<networkx.classes.multidigraph.MultiDiGraph object at 0x7f3a54129760> for multiple-source evaluation\n"
     ]
    },
    {
     "name": "stdout",
     "output_type": "stream",
     "text": [
      "generations | experimental_tensor_based_rpq | 80.0% | (type rest first (onProperty | type)*) | lil_matrix | 10.900\n",
      "generations | experimental_tensor_based_rpq | 100% | (type* | rest) | csr_matrix | 1.731\n",
      "generations | experimental_tensor_based_rpq | 100% | (type* | rest) | csc_matrix | 1.733\n",
      "generations | experimental_tensor_based_rpq | 100% | (type* | rest) | lil_matrix | 1.733\n",
      "generations | experimental_tensor_based_rpq | 100% | ((type | rest)* first) | csr_matrix | 5.461\n",
      "generations | experimental_tensor_based_rpq | 100% | ((type | rest)* first) | csc_matrix | 5.488\n",
      "generations | experimental_tensor_based_rpq | 100% | ((type | rest)* first) | lil_matrix | 5.485\n",
      "generations | experimental_tensor_based_rpq | 100% | ((type | rest)+ first*) | csr_matrix | 1.145\n",
      "generations | experimental_tensor_based_rpq | 100% | ((type | rest)+ first*) | csc_matrix | 1.177\n",
      "generations | experimental_tensor_based_rpq | 100% | ((type | rest)+ first*) | lil_matrix | 1.169\n",
      "generations | experimental_tensor_based_rpq | 100% | (type rest first (onProperty | type)*) | csr_matrix | 15.132\n",
      "generations | experimental_tensor_based_rpq | 100% | (type rest first (onProperty | type)*) | csc_matrix | 15.798\n"
     ]
    },
    {
     "name": "stderr",
     "output_type": "stream",
     "text": [
      "[2024-10-15 21:44:02]>INFO>Found graph with name='travel'\n"
     ]
    },
    {
     "name": "stdout",
     "output_type": "stream",
     "text": [
      "generations | experimental_tensor_based_rpq | 100% | (type rest first (onProperty | type)*) | lil_matrix | 15.385\n"
     ]
    },
    {
     "name": "stderr",
     "output_type": "stream",
     "text": [
      "[2024-10-15 21:44:02]>INFO>Load archive graph_archive=PosixPath('/home/alex/dev/uni/formal-lang-course/.venv/lib/python3.12/site-packages/cfpq_data/data/graphs/travel.tar.gz')\n",
      "[2024-10-15 21:44:02]>INFO>Unzip graph name='travel' to file graph=PosixPath('/home/alex/dev/uni/formal-lang-course/.venv/lib/python3.12/site-packages/cfpq_data/data/graphs/travel/travel.csv')\n",
      "[2024-10-15 21:44:02]>INFO>Remove archive graph_archive=PosixPath('/home/alex/dev/uni/formal-lang-course/.venv/lib/python3.12/site-packages/cfpq_data/data/graphs/travel.tar.gz')\n",
      "[2024-10-15 21:44:02]>INFO>Load graph=<networkx.classes.multidigraph.MultiDiGraph object at 0x7f39da32c7a0> from path=PosixPath('/home/alex/dev/uni/formal-lang-course/.venv/lib/python3.12/site-packages/cfpq_data/data/graphs/travel/travel.csv')\n",
      "[2024-10-15 21:44:02]>INFO>Construct labels_frequency=defaultdict(<class 'int'>, {'type': 90, 'subClassOf': 30, 'disjointWith': 20, 'first': 24, 'rest': 24, 'onProperty': 15, 'someValuesFrom': 10, 'domain': 10, 'range': 10, 'oneOf': 2, 'comment': 9, 'equivalentClass': 7, 'intersectionOf': 7, 'minCardinality': 2, 'inverseOf': 2, 'differentFrom': 6, 'hasAccommodation': 1, 'hasPart': 2, 'unionOf': 1, 'hasValue': 3, 'complementOf': 1, 'versionInfo': 1}) for graph=<networkx.classes.multidigraph.MultiDiGraph object at 0x7f39da32c7a0>\n",
      "[2024-10-15 21:44:02]>INFO>Sort edge labels=['type', 'subClassOf', 'first', 'rest', 'disjointWith', 'onProperty', 'domain', 'range', 'someValuesFrom', 'comment', 'equivalentClass', 'intersectionOf', 'differentFrom', 'hasValue', 'hasPart', 'inverseOf', 'minCardinality', 'oneOf', 'complementOf', 'hasAccommodation', 'unionOf', 'versionInfo'] of graph=<networkx.classes.multidigraph.MultiDiGraph object at 0x7f39da32c7a0>\n",
      "[2024-10-15 21:44:02]>INFO>Generate set of source vertices of 6 nodes for graph=<networkx.classes.multidigraph.MultiDiGraph object at 0x7f39da32c7a0> for multiple-source evaluation\n"
     ]
    },
    {
     "name": "stdout",
     "output_type": "stream",
     "text": [
      "travel | experimental_tensor_based_rpq | 5.0% | (type* | subClassOf) | csr_matrix | 0.282\n",
      "travel | experimental_tensor_based_rpq | 5.0% | (type* | subClassOf) | csc_matrix | 0.295\n",
      "travel | experimental_tensor_based_rpq | 5.0% | (type* | subClassOf) | lil_matrix | 0.293\n",
      "travel | experimental_tensor_based_rpq | 5.0% | ((type | subClassOf)* rest) | csr_matrix | 0.859\n",
      "travel | experimental_tensor_based_rpq | 5.0% | ((type | subClassOf)* rest) | csc_matrix | 0.869\n",
      "travel | experimental_tensor_based_rpq | 5.0% | ((type | subClassOf)* rest) | lil_matrix | 0.892\n",
      "travel | experimental_tensor_based_rpq | 5.0% | ((type | subClassOf)+ rest*) | csr_matrix | 0.862\n",
      "travel | experimental_tensor_based_rpq | 5.0% | ((type | subClassOf)+ rest*) | csc_matrix | 0.881\n",
      "travel | experimental_tensor_based_rpq | 5.0% | ((type | subClassOf)+ rest*) | lil_matrix | 0.919\n",
      "travel | experimental_tensor_based_rpq | 5.0% | (type subClassOf rest (first | type)*) | csr_matrix | 2.384\n",
      "travel | experimental_tensor_based_rpq | 5.0% | (type subClassOf rest (first | type)*) | csc_matrix | 2.409\n"
     ]
    },
    {
     "name": "stderr",
     "output_type": "stream",
     "text": [
      "[2024-10-15 21:48:28]>INFO>Generate set of source vertices of 39 nodes for graph=<networkx.classes.multidigraph.MultiDiGraph object at 0x7f39da32c7a0> for multiple-source evaluation\n"
     ]
    },
    {
     "name": "stdout",
     "output_type": "stream",
     "text": [
      "travel | experimental_tensor_based_rpq | 5.0% | (type subClassOf rest (first | type)*) | lil_matrix | 2.354\n",
      "travel | experimental_tensor_based_rpq | 30.0% | (type* | subClassOf) | csr_matrix | 0.524\n",
      "travel | experimental_tensor_based_rpq | 30.0% | (type* | subClassOf) | csc_matrix | 0.527\n",
      "travel | experimental_tensor_based_rpq | 30.0% | (type* | subClassOf) | lil_matrix | 0.556\n",
      "travel | experimental_tensor_based_rpq | 30.0% | ((type | subClassOf)* rest) | csr_matrix | 1.622\n",
      "travel | experimental_tensor_based_rpq | 30.0% | ((type | subClassOf)* rest) | csc_matrix | 1.674\n",
      "travel | experimental_tensor_based_rpq | 30.0% | ((type | subClassOf)* rest) | lil_matrix | 1.755\n",
      "travel | experimental_tensor_based_rpq | 30.0% | ((type | subClassOf)+ rest*) | csr_matrix | 1.749\n",
      "travel | experimental_tensor_based_rpq | 30.0% | ((type | subClassOf)+ rest*) | csc_matrix | 1.592\n",
      "travel | experimental_tensor_based_rpq | 30.0% | ((type | subClassOf)+ rest*) | lil_matrix | 1.674\n",
      "travel | experimental_tensor_based_rpq | 30.0% | (type subClassOf rest (first | type)*) | csr_matrix | 4.403\n",
      "travel | experimental_tensor_based_rpq | 30.0% | (type subClassOf rest (first | type)*) | csc_matrix | 4.530\n"
     ]
    },
    {
     "name": "stderr",
     "output_type": "stream",
     "text": [
      "[2024-10-15 21:56:50]>INFO>Generate set of source vertices of 65 nodes for graph=<networkx.classes.multidigraph.MultiDiGraph object at 0x7f39da32c7a0> for multiple-source evaluation\n"
     ]
    },
    {
     "name": "stdout",
     "output_type": "stream",
     "text": [
      "travel | experimental_tensor_based_rpq | 30.0% | (type subClassOf rest (first | type)*) | lil_matrix | 4.503\n",
      "travel | experimental_tensor_based_rpq | 50.0% | (type* | subClassOf) | csr_matrix | 0.809\n",
      "travel | experimental_tensor_based_rpq | 50.0% | (type* | subClassOf) | csc_matrix | 0.794\n",
      "travel | experimental_tensor_based_rpq | 50.0% | (type* | subClassOf) | lil_matrix | 0.807\n",
      "travel | experimental_tensor_based_rpq | 50.0% | ((type | subClassOf)* rest) | csr_matrix | 2.456\n",
      "travel | experimental_tensor_based_rpq | 50.0% | ((type | subClassOf)* rest) | csc_matrix | 2.524\n",
      "travel | experimental_tensor_based_rpq | 50.0% | ((type | subClassOf)* rest) | lil_matrix | 2.490\n",
      "travel | experimental_tensor_based_rpq | 50.0% | ((type | subClassOf)+ rest*) | csr_matrix | 2.471\n",
      "travel | experimental_tensor_based_rpq | 50.0% | ((type | subClassOf)+ rest*) | csc_matrix | 2.501\n",
      "travel | experimental_tensor_based_rpq | 50.0% | ((type | subClassOf)+ rest*) | lil_matrix | 2.517\n",
      "travel | experimental_tensor_based_rpq | 50.0% | (type subClassOf rest (first | type)*) | csr_matrix | 6.925\n",
      "travel | experimental_tensor_based_rpq | 50.0% | (type subClassOf rest (first | type)*) | csc_matrix | 6.890\n"
     ]
    },
    {
     "name": "stderr",
     "output_type": "stream",
     "text": [
      "[2024-10-15 22:09:27]>INFO>Generate set of source vertices of 104 nodes for graph=<networkx.classes.multidigraph.MultiDiGraph object at 0x7f39da32c7a0> for multiple-source evaluation\n"
     ]
    },
    {
     "name": "stdout",
     "output_type": "stream",
     "text": [
      "travel | experimental_tensor_based_rpq | 50.0% | (type subClassOf rest (first | type)*) | lil_matrix | 6.667\n",
      "travel | experimental_tensor_based_rpq | 80.0% | (type* | subClassOf) | csr_matrix | 1.394\n",
      "travel | experimental_tensor_based_rpq | 80.0% | (type* | subClassOf) | csc_matrix | 1.398\n",
      "travel | experimental_tensor_based_rpq | 80.0% | (type* | subClassOf) | lil_matrix | 1.398\n",
      "travel | experimental_tensor_based_rpq | 80.0% | ((type | subClassOf)* rest) | csr_matrix | 4.273\n",
      "travel | experimental_tensor_based_rpq | 80.0% | ((type | subClassOf)* rest) | csc_matrix | 4.293\n",
      "travel | experimental_tensor_based_rpq | 80.0% | ((type | subClassOf)* rest) | lil_matrix | 4.343\n",
      "travel | experimental_tensor_based_rpq | 80.0% | ((type | subClassOf)+ rest*) | csr_matrix | 4.279\n",
      "travel | experimental_tensor_based_rpq | 80.0% | ((type | subClassOf)+ rest*) | csc_matrix | 4.276\n",
      "travel | experimental_tensor_based_rpq | 80.0% | ((type | subClassOf)+ rest*) | lil_matrix | 4.247\n",
      "travel | experimental_tensor_based_rpq | 80.0% | (type subClassOf rest (first | type)*) | csr_matrix | 11.486\n",
      "travel | experimental_tensor_based_rpq | 80.0% | (type subClassOf rest (first | type)*) | csc_matrix | 11.529\n"
     ]
    },
    {
     "name": "stderr",
     "output_type": "stream",
     "text": [
      "[2024-10-15 22:30:55]>INFO>Generate set of source vertices of 131 nodes for graph=<networkx.classes.multidigraph.MultiDiGraph object at 0x7f39da32c7a0> for multiple-source evaluation\n"
     ]
    },
    {
     "name": "stdout",
     "output_type": "stream",
     "text": [
      "travel | experimental_tensor_based_rpq | 80.0% | (type subClassOf rest (first | type)*) | lil_matrix | 11.466\n",
      "travel | experimental_tensor_based_rpq | 100% | (type* | subClassOf) | csr_matrix | 1.849\n",
      "travel | experimental_tensor_based_rpq | 100% | (type* | subClassOf) | csc_matrix | 1.873\n",
      "travel | experimental_tensor_based_rpq | 100% | (type* | subClassOf) | lil_matrix | 1.855\n",
      "travel | experimental_tensor_based_rpq | 100% | ((type | subClassOf)* rest) | csr_matrix | 5.836\n",
      "travel | experimental_tensor_based_rpq | 100% | ((type | subClassOf)* rest) | csc_matrix | 5.806\n",
      "travel | experimental_tensor_based_rpq | 100% | ((type | subClassOf)* rest) | lil_matrix | 5.847\n",
      "travel | experimental_tensor_based_rpq | 100% | ((type | subClassOf)+ rest*) | csr_matrix | 5.815\n",
      "travel | experimental_tensor_based_rpq | 100% | ((type | subClassOf)+ rest*) | csc_matrix | 5.873\n",
      "travel | experimental_tensor_based_rpq | 100% | ((type | subClassOf)+ rest*) | lil_matrix | 5.843\n",
      "travel | experimental_tensor_based_rpq | 100% | (type subClassOf rest (first | type)*) | csr_matrix | 16.291\n",
      "travel | experimental_tensor_based_rpq | 100% | (type subClassOf rest (first | type)*) | csc_matrix | 15.844\n"
     ]
    },
    {
     "name": "stderr",
     "output_type": "stream",
     "text": [
      "[2024-10-15 23:00:13]>INFO>Found graph with name='generations'\n"
     ]
    },
    {
     "name": "stdout",
     "output_type": "stream",
     "text": [
      "travel | experimental_tensor_based_rpq | 100% | (type subClassOf rest (first | type)*) | lil_matrix | 15.158\n"
     ]
    },
    {
     "name": "stderr",
     "output_type": "stream",
     "text": [
      "[2024-10-15 23:00:13]>INFO>Load archive graph_archive=PosixPath('/home/alex/dev/uni/formal-lang-course/.venv/lib/python3.12/site-packages/cfpq_data/data/graphs/generations.tar.gz')\n",
      "[2024-10-15 23:00:13]>INFO>Unzip graph name='generations' to file graph=PosixPath('/home/alex/dev/uni/formal-lang-course/.venv/lib/python3.12/site-packages/cfpq_data/data/graphs/generations/generations.csv')\n",
      "[2024-10-15 23:00:13]>INFO>Remove archive graph_archive=PosixPath('/home/alex/dev/uni/formal-lang-course/.venv/lib/python3.12/site-packages/cfpq_data/data/graphs/generations.tar.gz')\n",
      "[2024-10-15 23:00:13]>INFO>Load graph=<networkx.classes.multidigraph.MultiDiGraph object at 0x7f3a04babcb0> from path=PosixPath('/home/alex/dev/uni/formal-lang-course/.venv/lib/python3.12/site-packages/cfpq_data/data/graphs/generations/generations.csv')\n",
      "[2024-10-15 23:00:13]>INFO>Construct labels_frequency=defaultdict(<class 'int'>, {'rest': 45, 'first': 45, 'onProperty': 27, 'type': 78, 'hasValue': 12, 'someValuesFrom': 15, 'equivalentClass': 17, 'intersectionOf': 18, 'inverseOf': 2, 'range': 1, 'hasSibling': 1, 'sameAs': 2, 'hasParent': 2, 'hasSex': 4, 'hasChild': 2, 'versionInfo': 1, 'oneOf': 1}) for graph=<networkx.classes.multidigraph.MultiDiGraph object at 0x7f3a04babcb0>\n",
      "[2024-10-15 23:00:13]>INFO>Sort edge labels=['type', 'first', 'rest', 'onProperty', 'intersectionOf', 'equivalentClass', 'someValuesFrom', 'hasValue', 'hasSex', 'hasChild', 'hasParent', 'inverseOf', 'sameAs', 'hasSibling', 'oneOf', 'range', 'versionInfo'] of graph=<networkx.classes.multidigraph.MultiDiGraph object at 0x7f3a04babcb0>\n",
      "[2024-10-15 23:00:13]>INFO>Generate set of source vertices of 6 nodes for graph=<networkx.classes.multidigraph.MultiDiGraph object at 0x7f3a04babcb0> for multiple-source evaluation\n",
      "/home/alex/dev/uni/formal-lang-course/.venv/lib/python3.12/site-packages/scipy/sparse/_index.py:142: SparseEfficiencyWarning: Changing the sparsity structure of a csr_matrix is expensive. lil and dok are more efficient.\n",
      "  self._set_arrayXarray_sparse(i, j, x)\n"
     ]
    },
    {
     "name": "stdout",
     "output_type": "stream",
     "text": [
      "generations | experimental_ms_bfs_based_rpq | 5.0% | (type* | rest) | csr_matrix | 0.018\n"
     ]
    },
    {
     "name": "stderr",
     "output_type": "stream",
     "text": [
      "/home/alex/dev/uni/formal-lang-course/.venv/lib/python3.12/site-packages/scipy/sparse/_index.py:142: SparseEfficiencyWarning: Changing the sparsity structure of a csc_matrix is expensive. lil and dok are more efficient.\n",
      "  self._set_arrayXarray_sparse(i, j, x)\n"
     ]
    },
    {
     "name": "stdout",
     "output_type": "stream",
     "text": [
      "generations | experimental_ms_bfs_based_rpq | 5.0% | (type* | rest) | csc_matrix | 0.018\n",
      "generations | experimental_ms_bfs_based_rpq | 5.0% | (type* | rest) | dok_matrix | 0.023\n",
      "generations | experimental_ms_bfs_based_rpq | 5.0% | (type* | rest) | lil_matrix | 0.026\n",
      "generations | experimental_ms_bfs_based_rpq | 5.0% | ((type | rest)* first) | csr_matrix | 0.022\n",
      "generations | experimental_ms_bfs_based_rpq | 5.0% | ((type | rest)* first) | csc_matrix | 0.020\n",
      "generations | experimental_ms_bfs_based_rpq | 5.0% | ((type | rest)* first) | dok_matrix | 0.024\n",
      "generations | experimental_ms_bfs_based_rpq | 5.0% | ((type | rest)* first) | lil_matrix | 0.030\n",
      "generations | experimental_ms_bfs_based_rpq | 5.0% | ((type | rest)+ first*) | csr_matrix | 0.020\n",
      "generations | experimental_ms_bfs_based_rpq | 5.0% | ((type | rest)+ first*) | csc_matrix | 0.021\n",
      "generations | experimental_ms_bfs_based_rpq | 5.0% | ((type | rest)+ first*) | dok_matrix | 0.029\n",
      "generations | experimental_ms_bfs_based_rpq | 5.0% | ((type | rest)+ first*) | lil_matrix | 0.035\n",
      "generations | experimental_ms_bfs_based_rpq | 5.0% | (type rest first (onProperty | type)*) | csr_matrix | 0.026\n",
      "generations | experimental_ms_bfs_based_rpq | 5.0% | (type rest first (onProperty | type)*) | csc_matrix | 0.025\n",
      "generations | experimental_ms_bfs_based_rpq | 5.0% | (type rest first (onProperty | type)*) | dok_matrix | 0.034\n"
     ]
    },
    {
     "name": "stderr",
     "output_type": "stream",
     "text": [
      "[2024-10-15 23:00:21]>INFO>Generate set of source vertices of 38 nodes for graph=<networkx.classes.multidigraph.MultiDiGraph object at 0x7f3a04babcb0> for multiple-source evaluation\n"
     ]
    },
    {
     "name": "stdout",
     "output_type": "stream",
     "text": [
      "generations | experimental_ms_bfs_based_rpq | 5.0% | (type rest first (onProperty | type)*) | lil_matrix | 0.034\n",
      "generations | experimental_ms_bfs_based_rpq | 30.0% | (type* | rest) | csr_matrix | 0.059\n",
      "generations | experimental_ms_bfs_based_rpq | 30.0% | (type* | rest) | csc_matrix | 0.062\n",
      "generations | experimental_ms_bfs_based_rpq | 30.0% | (type* | rest) | dok_matrix | 0.094\n",
      "generations | experimental_ms_bfs_based_rpq | 30.0% | (type* | rest) | lil_matrix | 0.095\n",
      "generations | experimental_ms_bfs_based_rpq | 30.0% | ((type | rest)* first) | csr_matrix | 0.141\n",
      "generations | experimental_ms_bfs_based_rpq | 30.0% | ((type | rest)* first) | csc_matrix | 0.143\n",
      "generations | experimental_ms_bfs_based_rpq | 30.0% | ((type | rest)* first) | dok_matrix | 0.181\n",
      "generations | experimental_ms_bfs_based_rpq | 30.0% | ((type | rest)* first) | lil_matrix | 0.164\n",
      "generations | experimental_ms_bfs_based_rpq | 30.0% | ((type | rest)+ first*) | csr_matrix | 0.085\n",
      "generations | experimental_ms_bfs_based_rpq | 30.0% | ((type | rest)+ first*) | csc_matrix | 0.087\n",
      "generations | experimental_ms_bfs_based_rpq | 30.0% | ((type | rest)+ first*) | dok_matrix | 0.131\n",
      "generations | experimental_ms_bfs_based_rpq | 30.0% | ((type | rest)+ first*) | lil_matrix | 0.126\n",
      "generations | experimental_ms_bfs_based_rpq | 30.0% | (type rest first (onProperty | type)*) | csr_matrix | 0.094\n",
      "generations | experimental_ms_bfs_based_rpq | 30.0% | (type rest first (onProperty | type)*) | csc_matrix | 0.097\n",
      "generations | experimental_ms_bfs_based_rpq | 30.0% | (type rest first (onProperty | type)*) | dok_matrix | 0.137\n"
     ]
    },
    {
     "name": "stderr",
     "output_type": "stream",
     "text": [
      "[2024-10-15 23:00:58]>INFO>Generate set of source vertices of 64 nodes for graph=<networkx.classes.multidigraph.MultiDiGraph object at 0x7f3a04babcb0> for multiple-source evaluation\n"
     ]
    },
    {
     "name": "stdout",
     "output_type": "stream",
     "text": [
      "generations | experimental_ms_bfs_based_rpq | 30.0% | (type rest first (onProperty | type)*) | lil_matrix | 0.130\n",
      "generations | experimental_ms_bfs_based_rpq | 50.0% | (type* | rest) | csr_matrix | 0.125\n",
      "generations | experimental_ms_bfs_based_rpq | 50.0% | (type* | rest) | csc_matrix | 0.129\n",
      "generations | experimental_ms_bfs_based_rpq | 50.0% | (type* | rest) | dok_matrix | 0.194\n",
      "generations | experimental_ms_bfs_based_rpq | 50.0% | (type* | rest) | lil_matrix | 0.182\n",
      "generations | experimental_ms_bfs_based_rpq | 50.0% | ((type | rest)* first) | csr_matrix | 0.228\n",
      "generations | experimental_ms_bfs_based_rpq | 50.0% | ((type | rest)* first) | csc_matrix | 0.229\n",
      "generations | experimental_ms_bfs_based_rpq | 50.0% | ((type | rest)* first) | dok_matrix | 0.292\n",
      "generations | experimental_ms_bfs_based_rpq | 50.0% | ((type | rest)* first) | lil_matrix | 0.265\n",
      "generations | experimental_ms_bfs_based_rpq | 50.0% | ((type | rest)+ first*) | csr_matrix | 0.132\n",
      "generations | experimental_ms_bfs_based_rpq | 50.0% | ((type | rest)+ first*) | csc_matrix | 0.141\n",
      "generations | experimental_ms_bfs_based_rpq | 50.0% | ((type | rest)+ first*) | dok_matrix | 0.215\n",
      "generations | experimental_ms_bfs_based_rpq | 50.0% | ((type | rest)+ first*) | lil_matrix | 0.203\n",
      "generations | experimental_ms_bfs_based_rpq | 50.0% | (type rest first (onProperty | type)*) | csr_matrix | 0.153\n",
      "generations | experimental_ms_bfs_based_rpq | 50.0% | (type rest first (onProperty | type)*) | csc_matrix | 0.157\n",
      "generations | experimental_ms_bfs_based_rpq | 50.0% | (type rest first (onProperty | type)*) | dok_matrix | 0.224\n"
     ]
    },
    {
     "name": "stderr",
     "output_type": "stream",
     "text": [
      "[2024-10-15 23:01:59]>INFO>Generate set of source vertices of 103 nodes for graph=<networkx.classes.multidigraph.MultiDiGraph object at 0x7f3a04babcb0> for multiple-source evaluation\n"
     ]
    },
    {
     "name": "stdout",
     "output_type": "stream",
     "text": [
      "generations | experimental_ms_bfs_based_rpq | 50.0% | (type rest first (onProperty | type)*) | lil_matrix | 0.213\n",
      "generations | experimental_ms_bfs_based_rpq | 80.0% | (type* | rest) | csr_matrix | 0.194\n",
      "generations | experimental_ms_bfs_based_rpq | 80.0% | (type* | rest) | csc_matrix | 0.203\n",
      "generations | experimental_ms_bfs_based_rpq | 80.0% | (type* | rest) | dok_matrix | 0.312\n",
      "generations | experimental_ms_bfs_based_rpq | 80.0% | (type* | rest) | lil_matrix | 0.286\n",
      "generations | experimental_ms_bfs_based_rpq | 80.0% | ((type | rest)* first) | csr_matrix | 0.363\n",
      "generations | experimental_ms_bfs_based_rpq | 80.0% | ((type | rest)* first) | csc_matrix | 0.364\n",
      "generations | experimental_ms_bfs_based_rpq | 80.0% | ((type | rest)* first) | dok_matrix | 0.463\n",
      "generations | experimental_ms_bfs_based_rpq | 80.0% | ((type | rest)* first) | lil_matrix | 0.414\n",
      "generations | experimental_ms_bfs_based_rpq | 80.0% | ((type | rest)+ first*) | csr_matrix | 0.204\n",
      "generations | experimental_ms_bfs_based_rpq | 80.0% | ((type | rest)+ first*) | csc_matrix | 0.222\n",
      "generations | experimental_ms_bfs_based_rpq | 80.0% | ((type | rest)+ first*) | dok_matrix | 0.349\n",
      "generations | experimental_ms_bfs_based_rpq | 80.0% | ((type | rest)+ first*) | lil_matrix | 0.322\n",
      "generations | experimental_ms_bfs_based_rpq | 80.0% | (type rest first (onProperty | type)*) | csr_matrix | 0.240\n",
      "generations | experimental_ms_bfs_based_rpq | 80.0% | (type rest first (onProperty | type)*) | csc_matrix | 0.247\n",
      "generations | experimental_ms_bfs_based_rpq | 80.0% | (type rest first (onProperty | type)*) | dok_matrix | 0.361\n"
     ]
    },
    {
     "name": "stderr",
     "output_type": "stream",
     "text": [
      "[2024-10-15 23:03:37]>INFO>Generate set of source vertices of 129 nodes for graph=<networkx.classes.multidigraph.MultiDiGraph object at 0x7f3a04babcb0> for multiple-source evaluation\n"
     ]
    },
    {
     "name": "stdout",
     "output_type": "stream",
     "text": [
      "generations | experimental_ms_bfs_based_rpq | 80.0% | (type rest first (onProperty | type)*) | lil_matrix | 0.331\n",
      "generations | experimental_ms_bfs_based_rpq | 100% | (type* | rest) | csr_matrix | 0.244\n",
      "generations | experimental_ms_bfs_based_rpq | 100% | (type* | rest) | csc_matrix | 0.259\n",
      "generations | experimental_ms_bfs_based_rpq | 100% | (type* | rest) | dok_matrix | 0.385\n",
      "generations | experimental_ms_bfs_based_rpq | 100% | (type* | rest) | lil_matrix | 0.360\n",
      "generations | experimental_ms_bfs_based_rpq | 100% | ((type | rest)* first) | csr_matrix | 0.456\n",
      "generations | experimental_ms_bfs_based_rpq | 100% | ((type | rest)* first) | csc_matrix | 0.457\n",
      "generations | experimental_ms_bfs_based_rpq | 100% | ((type | rest)* first) | dok_matrix | 0.581\n",
      "generations | experimental_ms_bfs_based_rpq | 100% | ((type | rest)* first) | lil_matrix | 0.518\n",
      "generations | experimental_ms_bfs_based_rpq | 100% | ((type | rest)+ first*) | csr_matrix | 0.260\n",
      "generations | experimental_ms_bfs_based_rpq | 100% | ((type | rest)+ first*) | csc_matrix | 0.277\n",
      "generations | experimental_ms_bfs_based_rpq | 100% | ((type | rest)+ first*) | dok_matrix | 0.433\n",
      "generations | experimental_ms_bfs_based_rpq | 100% | ((type | rest)+ first*) | lil_matrix | 0.409\n",
      "generations | experimental_ms_bfs_based_rpq | 100% | (type rest first (onProperty | type)*) | csr_matrix | 0.302\n",
      "generations | experimental_ms_bfs_based_rpq | 100% | (type rest first (onProperty | type)*) | csc_matrix | 0.313\n",
      "generations | experimental_ms_bfs_based_rpq | 100% | (type rest first (onProperty | type)*) | dok_matrix | 0.453\n"
     ]
    },
    {
     "name": "stderr",
     "output_type": "stream",
     "text": [
      "[2024-10-15 23:05:39]>INFO>Found graph with name='travel'\n",
      "[2024-10-15 23:05:39]>INFO>Load archive graph_archive=PosixPath('/home/alex/dev/uni/formal-lang-course/.venv/lib/python3.12/site-packages/cfpq_data/data/graphs/travel.tar.gz')\n",
      "[2024-10-15 23:05:39]>INFO>Unzip graph name='travel' to file graph=PosixPath('/home/alex/dev/uni/formal-lang-course/.venv/lib/python3.12/site-packages/cfpq_data/data/graphs/travel/travel.csv')\n",
      "[2024-10-15 23:05:39]>INFO>Remove archive graph_archive=PosixPath('/home/alex/dev/uni/formal-lang-course/.venv/lib/python3.12/site-packages/cfpq_data/data/graphs/travel.tar.gz')\n",
      "[2024-10-15 23:05:39]>INFO>Load graph=<networkx.classes.multidigraph.MultiDiGraph object at 0x7f39da303bf0> from path=PosixPath('/home/alex/dev/uni/formal-lang-course/.venv/lib/python3.12/site-packages/cfpq_data/data/graphs/travel/travel.csv')\n",
      "[2024-10-15 23:05:39]>INFO>Construct labels_frequency=defaultdict(<class 'int'>, {'type': 90, 'subClassOf': 30, 'disjointWith': 20, 'first': 24, 'rest': 24, 'onProperty': 15, 'someValuesFrom': 10, 'domain': 10, 'range': 10, 'oneOf': 2, 'comment': 9, 'equivalentClass': 7, 'intersectionOf': 7, 'minCardinality': 2, 'inverseOf': 2, 'differentFrom': 6, 'hasAccommodation': 1, 'hasPart': 2, 'unionOf': 1, 'hasValue': 3, 'complementOf': 1, 'versionInfo': 1}) for graph=<networkx.classes.multidigraph.MultiDiGraph object at 0x7f39da303bf0>\n",
      "[2024-10-15 23:05:39]>INFO>Sort edge labels=['type', 'subClassOf', 'first', 'rest', 'disjointWith', 'onProperty', 'domain', 'range', 'someValuesFrom', 'comment', 'equivalentClass', 'intersectionOf', 'differentFrom', 'hasValue', 'hasPart', 'inverseOf', 'minCardinality', 'oneOf', 'complementOf', 'hasAccommodation', 'unionOf', 'versionInfo'] of graph=<networkx.classes.multidigraph.MultiDiGraph object at 0x7f39da303bf0>\n",
      "[2024-10-15 23:05:39]>INFO>Generate set of source vertices of 6 nodes for graph=<networkx.classes.multidigraph.MultiDiGraph object at 0x7f39da303bf0> for multiple-source evaluation\n"
     ]
    },
    {
     "name": "stdout",
     "output_type": "stream",
     "text": [
      "generations | experimental_ms_bfs_based_rpq | 100% | (type rest first (onProperty | type)*) | lil_matrix | 0.411\n"
     ]
    },
    {
     "name": "stderr",
     "output_type": "stream",
     "text": [
      "/home/alex/dev/uni/formal-lang-course/.venv/lib/python3.12/site-packages/scipy/sparse/_index.py:142: SparseEfficiencyWarning: Changing the sparsity structure of a csr_matrix is expensive. lil and dok are more efficient.\n",
      "  self._set_arrayXarray_sparse(i, j, x)\n"
     ]
    },
    {
     "name": "stdout",
     "output_type": "stream",
     "text": [
      "travel | experimental_ms_bfs_based_rpq | 5.0% | (type* | subClassOf) | csr_matrix | 0.023\n"
     ]
    },
    {
     "name": "stderr",
     "output_type": "stream",
     "text": [
      "/home/alex/dev/uni/formal-lang-course/.venv/lib/python3.12/site-packages/scipy/sparse/_index.py:142: SparseEfficiencyWarning: Changing the sparsity structure of a csc_matrix is expensive. lil and dok are more efficient.\n",
      "  self._set_arrayXarray_sparse(i, j, x)\n"
     ]
    },
    {
     "name": "stdout",
     "output_type": "stream",
     "text": [
      "travel | experimental_ms_bfs_based_rpq | 5.0% | (type* | subClassOf) | csc_matrix | 0.021\n",
      "travel | experimental_ms_bfs_based_rpq | 5.0% | (type* | subClassOf) | dok_matrix | 0.028\n",
      "travel | experimental_ms_bfs_based_rpq | 5.0% | (type* | subClassOf) | lil_matrix | 0.033\n",
      "travel | experimental_ms_bfs_based_rpq | 5.0% | ((type | subClassOf)* rest) | csr_matrix | 0.026\n",
      "travel | experimental_ms_bfs_based_rpq | 5.0% | ((type | subClassOf)* rest) | csc_matrix | 0.026\n",
      "travel | experimental_ms_bfs_based_rpq | 5.0% | ((type | subClassOf)* rest) | dok_matrix | 0.032\n",
      "travel | experimental_ms_bfs_based_rpq | 5.0% | ((type | subClassOf)* rest) | lil_matrix | 0.037\n",
      "travel | experimental_ms_bfs_based_rpq | 5.0% | ((type | subClassOf)+ rest*) | csr_matrix | 0.026\n",
      "travel | experimental_ms_bfs_based_rpq | 5.0% | ((type | subClassOf)+ rest*) | csc_matrix | 0.027\n",
      "travel | experimental_ms_bfs_based_rpq | 5.0% | ((type | subClassOf)+ rest*) | dok_matrix | 0.038\n",
      "travel | experimental_ms_bfs_based_rpq | 5.0% | ((type | subClassOf)+ rest*) | lil_matrix | 0.041\n",
      "travel | experimental_ms_bfs_based_rpq | 5.0% | (type subClassOf rest (first | type)*) | csr_matrix | 0.031\n",
      "travel | experimental_ms_bfs_based_rpq | 5.0% | (type subClassOf rest (first | type)*) | csc_matrix | 0.031\n",
      "travel | experimental_ms_bfs_based_rpq | 5.0% | (type subClassOf rest (first | type)*) | dok_matrix | 0.041\n"
     ]
    },
    {
     "name": "stderr",
     "output_type": "stream",
     "text": [
      "[2024-10-15 23:05:49]>INFO>Generate set of source vertices of 39 nodes for graph=<networkx.classes.multidigraph.MultiDiGraph object at 0x7f39da303bf0> for multiple-source evaluation\n"
     ]
    },
    {
     "name": "stdout",
     "output_type": "stream",
     "text": [
      "travel | experimental_ms_bfs_based_rpq | 5.0% | (type subClassOf rest (first | type)*) | lil_matrix | 0.044\n",
      "travel | experimental_ms_bfs_based_rpq | 30.0% | (type* | subClassOf) | csr_matrix | 0.080\n",
      "travel | experimental_ms_bfs_based_rpq | 30.0% | (type* | subClassOf) | csc_matrix | 0.084\n",
      "travel | experimental_ms_bfs_based_rpq | 30.0% | (type* | subClassOf) | dok_matrix | 0.120\n",
      "travel | experimental_ms_bfs_based_rpq | 30.0% | (type* | subClassOf) | lil_matrix | 0.118\n",
      "travel | experimental_ms_bfs_based_rpq | 30.0% | ((type | subClassOf)* rest) | csr_matrix | 0.177\n",
      "travel | experimental_ms_bfs_based_rpq | 30.0% | ((type | subClassOf)* rest) | csc_matrix | 0.176\n",
      "travel | experimental_ms_bfs_based_rpq | 30.0% | ((type | subClassOf)* rest) | dok_matrix | 0.220\n",
      "travel | experimental_ms_bfs_based_rpq | 30.0% | ((type | subClassOf)* rest) | lil_matrix | 0.199\n",
      "travel | experimental_ms_bfs_based_rpq | 30.0% | ((type | subClassOf)+ rest*) | csr_matrix | 0.113\n",
      "travel | experimental_ms_bfs_based_rpq | 30.0% | ((type | subClassOf)+ rest*) | csc_matrix | 0.117\n",
      "travel | experimental_ms_bfs_based_rpq | 30.0% | ((type | subClassOf)+ rest*) | dok_matrix | 0.169\n",
      "travel | experimental_ms_bfs_based_rpq | 30.0% | ((type | subClassOf)+ rest*) | lil_matrix | 0.159\n",
      "travel | experimental_ms_bfs_based_rpq | 30.0% | (type subClassOf rest (first | type)*) | csr_matrix | 0.141\n",
      "travel | experimental_ms_bfs_based_rpq | 30.0% | (type subClassOf rest (first | type)*) | csc_matrix | 0.143\n",
      "travel | experimental_ms_bfs_based_rpq | 30.0% | (type subClassOf rest (first | type)*) | dok_matrix | 0.194\n"
     ]
    },
    {
     "name": "stderr",
     "output_type": "stream",
     "text": [
      "[2024-10-15 23:06:37]>INFO>Generate set of source vertices of 65 nodes for graph=<networkx.classes.multidigraph.MultiDiGraph object at 0x7f39da303bf0> for multiple-source evaluation\n"
     ]
    },
    {
     "name": "stdout",
     "output_type": "stream",
     "text": [
      "travel | experimental_ms_bfs_based_rpq | 30.0% | (type subClassOf rest (first | type)*) | lil_matrix | 0.178\n",
      "travel | experimental_ms_bfs_based_rpq | 50.0% | (type* | subClassOf) | csr_matrix | 0.128\n",
      "travel | experimental_ms_bfs_based_rpq | 50.0% | (type* | subClassOf) | csc_matrix | 0.132\n",
      "travel | experimental_ms_bfs_based_rpq | 50.0% | (type* | subClassOf) | dok_matrix | 0.194\n",
      "travel | experimental_ms_bfs_based_rpq | 50.0% | (type* | subClassOf) | lil_matrix | 0.188\n",
      "travel | experimental_ms_bfs_based_rpq | 50.0% | ((type | subClassOf)* rest) | csr_matrix | 0.282\n",
      "travel | experimental_ms_bfs_based_rpq | 50.0% | ((type | subClassOf)* rest) | csc_matrix | 0.283\n",
      "travel | experimental_ms_bfs_based_rpq | 50.0% | ((type | subClassOf)* rest) | dok_matrix | 0.357\n",
      "travel | experimental_ms_bfs_based_rpq | 50.0% | ((type | subClassOf)* rest) | lil_matrix | 0.318\n",
      "travel | experimental_ms_bfs_based_rpq | 50.0% | ((type | subClassOf)+ rest*) | csr_matrix | 0.228\n",
      "travel | experimental_ms_bfs_based_rpq | 50.0% | ((type | subClassOf)+ rest*) | csc_matrix | 0.238\n",
      "travel | experimental_ms_bfs_based_rpq | 50.0% | ((type | subClassOf)+ rest*) | dok_matrix | 0.335\n",
      "travel | experimental_ms_bfs_based_rpq | 50.0% | ((type | subClassOf)+ rest*) | lil_matrix | 0.310\n",
      "travel | experimental_ms_bfs_based_rpq | 50.0% | (type subClassOf rest (first | type)*) | csr_matrix | 0.224\n",
      "travel | experimental_ms_bfs_based_rpq | 50.0% | (type subClassOf rest (first | type)*) | csc_matrix | 0.231\n",
      "travel | experimental_ms_bfs_based_rpq | 50.0% | (type subClassOf rest (first | type)*) | dok_matrix | 0.315\n"
     ]
    },
    {
     "name": "stderr",
     "output_type": "stream",
     "text": [
      "[2024-10-15 23:07:58]>INFO>Generate set of source vertices of 104 nodes for graph=<networkx.classes.multidigraph.MultiDiGraph object at 0x7f39da303bf0> for multiple-source evaluation\n"
     ]
    },
    {
     "name": "stdout",
     "output_type": "stream",
     "text": [
      "travel | experimental_ms_bfs_based_rpq | 50.0% | (type subClassOf rest (first | type)*) | lil_matrix | 0.288\n",
      "travel | experimental_ms_bfs_based_rpq | 80.0% | (type* | subClassOf) | csr_matrix | 0.197\n",
      "travel | experimental_ms_bfs_based_rpq | 80.0% | (type* | subClassOf) | csc_matrix | 0.207\n",
      "travel | experimental_ms_bfs_based_rpq | 80.0% | (type* | subClassOf) | dok_matrix | 0.314\n",
      "travel | experimental_ms_bfs_based_rpq | 80.0% | (type* | subClassOf) | lil_matrix | 0.295\n",
      "travel | experimental_ms_bfs_based_rpq | 80.0% | ((type | subClassOf)* rest) | csr_matrix | 0.448\n",
      "travel | experimental_ms_bfs_based_rpq | 80.0% | ((type | subClassOf)* rest) | csc_matrix | 0.447\n",
      "travel | experimental_ms_bfs_based_rpq | 80.0% | ((type | subClassOf)* rest) | dok_matrix | 0.566\n",
      "travel | experimental_ms_bfs_based_rpq | 80.0% | ((type | subClassOf)* rest) | lil_matrix | 0.500\n",
      "travel | experimental_ms_bfs_based_rpq | 80.0% | ((type | subClassOf)+ rest*) | csr_matrix | 0.362\n",
      "travel | experimental_ms_bfs_based_rpq | 80.0% | ((type | subClassOf)+ rest*) | csc_matrix | 0.379\n",
      "travel | experimental_ms_bfs_based_rpq | 80.0% | ((type | subClassOf)+ rest*) | dok_matrix | 0.537\n",
      "travel | experimental_ms_bfs_based_rpq | 80.0% | ((type | subClassOf)+ rest*) | lil_matrix | 0.495\n",
      "travel | experimental_ms_bfs_based_rpq | 80.0% | (type subClassOf rest (first | type)*) | csr_matrix | 0.354\n",
      "travel | experimental_ms_bfs_based_rpq | 80.0% | (type subClassOf rest (first | type)*) | csc_matrix | 0.364\n",
      "travel | experimental_ms_bfs_based_rpq | 80.0% | (type subClassOf rest (first | type)*) | dok_matrix | 0.499\n"
     ]
    },
    {
     "name": "stderr",
     "output_type": "stream",
     "text": [
      "[2024-10-15 23:10:07]>INFO>Generate set of source vertices of 131 nodes for graph=<networkx.classes.multidigraph.MultiDiGraph object at 0x7f39da303bf0> for multiple-source evaluation\n"
     ]
    },
    {
     "name": "stdout",
     "output_type": "stream",
     "text": [
      "travel | experimental_ms_bfs_based_rpq | 80.0% | (type subClassOf rest (first | type)*) | lil_matrix | 0.456\n",
      "travel | experimental_ms_bfs_based_rpq | 100% | (type* | subClassOf) | csr_matrix | 0.250\n",
      "travel | experimental_ms_bfs_based_rpq | 100% | (type* | subClassOf) | csc_matrix | 0.259\n",
      "travel | experimental_ms_bfs_based_rpq | 100% | (type* | subClassOf) | dok_matrix | 0.395\n",
      "travel | experimental_ms_bfs_based_rpq | 100% | (type* | subClassOf) | lil_matrix | 0.370\n",
      "travel | experimental_ms_bfs_based_rpq | 100% | ((type | subClassOf)* rest) | csr_matrix | 0.568\n",
      "travel | experimental_ms_bfs_based_rpq | 100% | ((type | subClassOf)* rest) | csc_matrix | 0.571\n",
      "travel | experimental_ms_bfs_based_rpq | 100% | ((type | subClassOf)* rest) | dok_matrix | 0.714\n",
      "travel | experimental_ms_bfs_based_rpq | 100% | ((type | subClassOf)* rest) | lil_matrix | 0.627\n",
      "travel | experimental_ms_bfs_based_rpq | 100% | ((type | subClassOf)+ rest*) | csr_matrix | 0.459\n",
      "travel | experimental_ms_bfs_based_rpq | 100% | ((type | subClassOf)+ rest*) | csc_matrix | 0.470\n",
      "travel | experimental_ms_bfs_based_rpq | 100% | ((type | subClassOf)+ rest*) | dok_matrix | 0.683\n",
      "travel | experimental_ms_bfs_based_rpq | 100% | ((type | subClassOf)+ rest*) | lil_matrix | 0.614\n",
      "travel | experimental_ms_bfs_based_rpq | 100% | (type subClassOf rest (first | type)*) | csr_matrix | 0.450\n",
      "travel | experimental_ms_bfs_based_rpq | 100% | (type subClassOf rest (first | type)*) | csc_matrix | 0.454\n",
      "travel | experimental_ms_bfs_based_rpq | 100% | (type subClassOf rest (first | type)*) | dok_matrix | 0.626\n",
      "travel | experimental_ms_bfs_based_rpq | 100% | (type subClassOf rest (first | type)*) | lil_matrix | 0.567\n"
     ]
    }
   ],
   "source": [
    "rpq_functions = [experimental_tensor_based_rpq, experimental_ms_bfs_based_rpq]\n",
    "times = 20\n",
    "for rpq_function in rpq_functions:\n",
    "    conduct_experiment(rpq_function, matrix_types, graph_names, times, regexes)\n",
    "\n",
    "df = pd.DataFrame(results)"
   ]
  },
  {
   "cell_type": "code",
   "execution_count": 53,
   "metadata": {},
   "outputs": [
    {
     "data": {
      "text/html": [
       "<div>\n",
       "<style scoped>\n",
       "    .dataframe tbody tr th:only-of-type {\n",
       "        vertical-align: middle;\n",
       "    }\n",
       "\n",
       "    .dataframe tbody tr th {\n",
       "        vertical-align: top;\n",
       "    }\n",
       "\n",
       "    .dataframe thead th {\n",
       "        text-align: right;\n",
       "    }\n",
       "</style>\n",
       "<table border=\"1\" class=\"dataframe\">\n",
       "  <thead>\n",
       "    <tr style=\"text-align: right;\">\n",
       "      <th></th>\n",
       "      <th>algorithm</th>\n",
       "      <th>graph_name</th>\n",
       "      <th>matrix_format</th>\n",
       "      <th>regex</th>\n",
       "      <th>start_nodes_percentage</th>\n",
       "      <th>time</th>\n",
       "    </tr>\n",
       "  </thead>\n",
       "  <tbody>\n",
       "    <tr>\n",
       "      <th>0</th>\n",
       "      <td>experimental_tensor_based_rpq</td>\n",
       "      <td>generations</td>\n",
       "      <td>csr</td>\n",
       "      <td>type* | rest</td>\n",
       "      <td>5%</td>\n",
       "      <td>0.271400</td>\n",
       "    </tr>\n",
       "    <tr>\n",
       "      <th>1</th>\n",
       "      <td>experimental_tensor_based_rpq</td>\n",
       "      <td>generations</td>\n",
       "      <td>csc</td>\n",
       "      <td>type* | rest</td>\n",
       "      <td>5%</td>\n",
       "      <td>0.280651</td>\n",
       "    </tr>\n",
       "    <tr>\n",
       "      <th>2</th>\n",
       "      <td>experimental_tensor_based_rpq</td>\n",
       "      <td>generations</td>\n",
       "      <td>lil</td>\n",
       "      <td>type* | rest</td>\n",
       "      <td>5%</td>\n",
       "      <td>0.271606</td>\n",
       "    </tr>\n",
       "    <tr>\n",
       "      <th>3</th>\n",
       "      <td>experimental_tensor_based_rpq</td>\n",
       "      <td>generations</td>\n",
       "      <td>csr</td>\n",
       "      <td>(type | rest)* first</td>\n",
       "      <td>5%</td>\n",
       "      <td>0.839180</td>\n",
       "    </tr>\n",
       "    <tr>\n",
       "      <th>4</th>\n",
       "      <td>experimental_tensor_based_rpq</td>\n",
       "      <td>generations</td>\n",
       "      <td>csc</td>\n",
       "      <td>(type | rest)* first</td>\n",
       "      <td>5%</td>\n",
       "      <td>0.830277</td>\n",
       "    </tr>\n",
       "    <tr>\n",
       "      <th>...</th>\n",
       "      <td>...</td>\n",
       "      <td>...</td>\n",
       "      <td>...</td>\n",
       "      <td>...</td>\n",
       "      <td>...</td>\n",
       "      <td>...</td>\n",
       "    </tr>\n",
       "    <tr>\n",
       "      <th>275</th>\n",
       "      <td>experimental_ms_bfs_based_rpq</td>\n",
       "      <td>travel</td>\n",
       "      <td>lil</td>\n",
       "      <td>(type | subClassOf)+ rest*</td>\n",
       "      <td>100%</td>\n",
       "      <td>0.613722</td>\n",
       "    </tr>\n",
       "    <tr>\n",
       "      <th>276</th>\n",
       "      <td>experimental_ms_bfs_based_rpq</td>\n",
       "      <td>travel</td>\n",
       "      <td>csr</td>\n",
       "      <td>type subClassOf rest (first | type)*</td>\n",
       "      <td>100%</td>\n",
       "      <td>0.449948</td>\n",
       "    </tr>\n",
       "    <tr>\n",
       "      <th>277</th>\n",
       "      <td>experimental_ms_bfs_based_rpq</td>\n",
       "      <td>travel</td>\n",
       "      <td>csc</td>\n",
       "      <td>type subClassOf rest (first | type)*</td>\n",
       "      <td>100%</td>\n",
       "      <td>0.453612</td>\n",
       "    </tr>\n",
       "    <tr>\n",
       "      <th>278</th>\n",
       "      <td>experimental_ms_bfs_based_rpq</td>\n",
       "      <td>travel</td>\n",
       "      <td>dok</td>\n",
       "      <td>type subClassOf rest (first | type)*</td>\n",
       "      <td>100%</td>\n",
       "      <td>0.625568</td>\n",
       "    </tr>\n",
       "    <tr>\n",
       "      <th>279</th>\n",
       "      <td>experimental_ms_bfs_based_rpq</td>\n",
       "      <td>travel</td>\n",
       "      <td>lil</td>\n",
       "      <td>type subClassOf rest (first | type)*</td>\n",
       "      <td>100%</td>\n",
       "      <td>0.566981</td>\n",
       "    </tr>\n",
       "  </tbody>\n",
       "</table>\n",
       "<p>280 rows × 6 columns</p>\n",
       "</div>"
      ],
      "text/plain": [
       "                         algorithm   graph_name matrix_format  \\\n",
       "0    experimental_tensor_based_rpq  generations           csr   \n",
       "1    experimental_tensor_based_rpq  generations           csc   \n",
       "2    experimental_tensor_based_rpq  generations           lil   \n",
       "3    experimental_tensor_based_rpq  generations           csr   \n",
       "4    experimental_tensor_based_rpq  generations           csc   \n",
       "..                             ...          ...           ...   \n",
       "275  experimental_ms_bfs_based_rpq       travel           lil   \n",
       "276  experimental_ms_bfs_based_rpq       travel           csr   \n",
       "277  experimental_ms_bfs_based_rpq       travel           csc   \n",
       "278  experimental_ms_bfs_based_rpq       travel           dok   \n",
       "279  experimental_ms_bfs_based_rpq       travel           lil   \n",
       "\n",
       "                                    regex start_nodes_percentage      time  \n",
       "0                            type* | rest                     5%  0.271400  \n",
       "1                            type* | rest                     5%  0.280651  \n",
       "2                            type* | rest                     5%  0.271606  \n",
       "3                    (type | rest)* first                     5%  0.839180  \n",
       "4                    (type | rest)* first                     5%  0.830277  \n",
       "..                                    ...                    ...       ...  \n",
       "275            (type | subClassOf)+ rest*                   100%  0.613722  \n",
       "276  type subClassOf rest (first | type)*                   100%  0.449948  \n",
       "277  type subClassOf rest (first | type)*                   100%  0.453612  \n",
       "278  type subClassOf rest (first | type)*                   100%  0.625568  \n",
       "279  type subClassOf rest (first | type)*                   100%  0.566981  \n",
       "\n",
       "[280 rows x 6 columns]"
      ]
     },
     "execution_count": 53,
     "metadata": {},
     "output_type": "execute_result"
    }
   ],
   "source": [
    "df"
   ]
  },
  {
   "cell_type": "code",
   "execution_count": 17,
   "metadata": {},
   "outputs": [
    {
     "data": {
      "text/html": [
       "<div>\n",
       "<style scoped>\n",
       "    .dataframe tbody tr th:only-of-type {\n",
       "        vertical-align: middle;\n",
       "    }\n",
       "\n",
       "    .dataframe tbody tr th {\n",
       "        vertical-align: top;\n",
       "    }\n",
       "\n",
       "    .dataframe thead th {\n",
       "        text-align: right;\n",
       "    }\n",
       "</style>\n",
       "<table border=\"1\" class=\"dataframe\">\n",
       "  <thead>\n",
       "    <tr style=\"text-align: right;\">\n",
       "      <th></th>\n",
       "      <th>algorithm</th>\n",
       "      <th>matrix_format</th>\n",
       "      <th>time</th>\n",
       "    </tr>\n",
       "  </thead>\n",
       "  <tbody>\n",
       "    <tr>\n",
       "      <th>0</th>\n",
       "      <td>experimental_ms_bfs_based_rpq</td>\n",
       "      <td>csc</td>\n",
       "      <td>0.203299</td>\n",
       "    </tr>\n",
       "    <tr>\n",
       "      <th>1</th>\n",
       "      <td>experimental_ms_bfs_based_rpq</td>\n",
       "      <td>csr</td>\n",
       "      <td>0.198253</td>\n",
       "    </tr>\n",
       "    <tr>\n",
       "      <th>2</th>\n",
       "      <td>experimental_ms_bfs_based_rpq</td>\n",
       "      <td>dok</td>\n",
       "      <td>0.282254</td>\n",
       "    </tr>\n",
       "    <tr>\n",
       "      <th>3</th>\n",
       "      <td>experimental_ms_bfs_based_rpq</td>\n",
       "      <td>lil</td>\n",
       "      <td>0.259815</td>\n",
       "    </tr>\n",
       "    <tr>\n",
       "      <th>4</th>\n",
       "      <td>experimental_tensor_based_rpq</td>\n",
       "      <td>csc</td>\n",
       "      <td>3.464469</td>\n",
       "    </tr>\n",
       "    <tr>\n",
       "      <th>5</th>\n",
       "      <td>experimental_tensor_based_rpq</td>\n",
       "      <td>csr</td>\n",
       "      <td>3.483528</td>\n",
       "    </tr>\n",
       "    <tr>\n",
       "      <th>6</th>\n",
       "      <td>experimental_tensor_based_rpq</td>\n",
       "      <td>lil</td>\n",
       "      <td>3.421633</td>\n",
       "    </tr>\n",
       "  </tbody>\n",
       "</table>\n",
       "</div>"
      ],
      "text/plain": [
       "                       algorithm matrix_format      time\n",
       "0  experimental_ms_bfs_based_rpq           csc  0.203299\n",
       "1  experimental_ms_bfs_based_rpq           csr  0.198253\n",
       "2  experimental_ms_bfs_based_rpq           dok  0.282254\n",
       "3  experimental_ms_bfs_based_rpq           lil  0.259815\n",
       "4  experimental_tensor_based_rpq           csc  3.464469\n",
       "5  experimental_tensor_based_rpq           csr  3.483528\n",
       "6  experimental_tensor_based_rpq           lil  3.421633"
      ]
     },
     "metadata": {},
     "output_type": "display_data"
    },
    {
     "data": {
      "image/png": "[encoded data removed]",
      "text/plain": [
       "<Figure size 1000x500 with 2 Axes>"
      ]
     },
     "metadata": {},
     "output_type": "display_data"
    }
   ],
   "source": [
    "import matplotlib.pyplot as plt\n",
    "\n",
    "average_times = df.groupby([\"algorithm\", \"matrix_format\"])[\"time\"].mean().reset_index()\n",
    "\n",
    "fig, axes = plt.subplots(1, 2, figsize=(10, 5))\n",
    "\n",
    "for i, algo in enumerate(average_times[\"algorithm\"].unique()):\n",
    "    algo_data = average_times[average_times[\"algorithm\"] == algo]\n",
    "\n",
    "    grouped_data = algo_data.groupby(\"matrix_format\")[\"time\"].mean()\n",
    "\n",
    "    axes[i].bar(grouped_data.index, grouped_data.values)\n",
    "\n",
    "    axes[i].set_title(f\"{algo}\")\n",
    "    axes[i].set_xlabel(\"Data Type\")\n",
    "    axes[i].set_ylabel(\"Average Time\")\n",
    "\n",
    "display(average_times)\n",
    "plt.tight_layout()\n",
    "plt.show()\n"
   ]
  },
  {
   "cell_type": "code",
   "execution_count": 52,
   "metadata": {},
   "outputs": [
    {
     "ename": "TypeError",
     "evalue": "agg function failed [how->mean,dtype->object]",
     "output_type": "error",
     "traceback": [
      "\u001b[0;31m---------------------------------------------------------------------------\u001b[0m",
      "\u001b[0;31mTypeError\u001b[0m                                 Traceback (most recent call last)",
      "File \u001b[0;32m~/dev/uni/formal-lang-course/.venv/lib/python3.12/site-packages/pandas/core/groupby/groupby.py:1942\u001b[0m, in \u001b[0;36mGroupBy._agg_py_fallback\u001b[0;34m(self, how, values, ndim, alt)\u001b[0m\n\u001b[1;32m   1941\u001b[0m \u001b[38;5;28;01mtry\u001b[39;00m:\n\u001b[0;32m-> 1942\u001b[0m     res_values \u001b[38;5;241m=\u001b[39m \u001b[38;5;28;43mself\u001b[39;49m\u001b[38;5;241;43m.\u001b[39;49m\u001b[43m_grouper\u001b[49m\u001b[38;5;241;43m.\u001b[39;49m\u001b[43magg_series\u001b[49m\u001b[43m(\u001b[49m\u001b[43mser\u001b[49m\u001b[43m,\u001b[49m\u001b[43m \u001b[49m\u001b[43malt\u001b[49m\u001b[43m,\u001b[49m\u001b[43m \u001b[49m\u001b[43mpreserve_dtype\u001b[49m\u001b[38;5;241;43m=\u001b[39;49m\u001b[38;5;28;43;01mTrue\u001b[39;49;00m\u001b[43m)\u001b[49m\n\u001b[1;32m   1943\u001b[0m \u001b[38;5;28;01mexcept\u001b[39;00m \u001b[38;5;167;01mException\u001b[39;00m \u001b[38;5;28;01mas\u001b[39;00m err:\n",
      "File \u001b[0;32m~/dev/uni/formal-lang-course/.venv/lib/python3.12/site-packages/pandas/core/groupby/ops.py:864\u001b[0m, in \u001b[0;36mBaseGrouper.agg_series\u001b[0;34m(self, obj, func, preserve_dtype)\u001b[0m\n\u001b[1;32m    862\u001b[0m     preserve_dtype \u001b[38;5;241m=\u001b[39m \u001b[38;5;28;01mTrue\u001b[39;00m\n\u001b[0;32m--> 864\u001b[0m result \u001b[38;5;241m=\u001b[39m \u001b[38;5;28;43mself\u001b[39;49m\u001b[38;5;241;43m.\u001b[39;49m\u001b[43m_aggregate_series_pure_python\u001b[49m\u001b[43m(\u001b[49m\u001b[43mobj\u001b[49m\u001b[43m,\u001b[49m\u001b[43m \u001b[49m\u001b[43mfunc\u001b[49m\u001b[43m)\u001b[49m\n\u001b[1;32m    866\u001b[0m npvalues \u001b[38;5;241m=\u001b[39m lib\u001b[38;5;241m.\u001b[39mmaybe_convert_objects(result, try_float\u001b[38;5;241m=\u001b[39m\u001b[38;5;28;01mFalse\u001b[39;00m)\n",
      "File \u001b[0;32m~/dev/uni/formal-lang-course/.venv/lib/python3.12/site-packages/pandas/core/groupby/ops.py:885\u001b[0m, in \u001b[0;36mBaseGrouper._aggregate_series_pure_python\u001b[0;34m(self, obj, func)\u001b[0m\n\u001b[1;32m    884\u001b[0m \u001b[38;5;28;01mfor\u001b[39;00m i, group \u001b[38;5;129;01min\u001b[39;00m \u001b[38;5;28menumerate\u001b[39m(splitter):\n\u001b[0;32m--> 885\u001b[0m     res \u001b[38;5;241m=\u001b[39m \u001b[43mfunc\u001b[49m\u001b[43m(\u001b[49m\u001b[43mgroup\u001b[49m\u001b[43m)\u001b[49m\n\u001b[1;32m    886\u001b[0m     res \u001b[38;5;241m=\u001b[39m extract_result(res)\n",
      "File \u001b[0;32m~/dev/uni/formal-lang-course/.venv/lib/python3.12/site-packages/pandas/core/groupby/groupby.py:2454\u001b[0m, in \u001b[0;36mGroupBy.mean.<locals>.<lambda>\u001b[0;34m(x)\u001b[0m\n\u001b[1;32m   2451\u001b[0m \u001b[38;5;28;01melse\u001b[39;00m:\n\u001b[1;32m   2452\u001b[0m     result \u001b[38;5;241m=\u001b[39m \u001b[38;5;28mself\u001b[39m\u001b[38;5;241m.\u001b[39m_cython_agg_general(\n\u001b[1;32m   2453\u001b[0m         \u001b[38;5;124m\"\u001b[39m\u001b[38;5;124mmean\u001b[39m\u001b[38;5;124m\"\u001b[39m,\n\u001b[0;32m-> 2454\u001b[0m         alt\u001b[38;5;241m=\u001b[39m\u001b[38;5;28;01mlambda\u001b[39;00m x: \u001b[43mSeries\u001b[49m\u001b[43m(\u001b[49m\u001b[43mx\u001b[49m\u001b[43m,\u001b[49m\u001b[43m \u001b[49m\u001b[43mcopy\u001b[49m\u001b[38;5;241;43m=\u001b[39;49m\u001b[38;5;28;43;01mFalse\u001b[39;49;00m\u001b[43m)\u001b[49m\u001b[38;5;241;43m.\u001b[39;49m\u001b[43mmean\u001b[49m\u001b[43m(\u001b[49m\u001b[43mnumeric_only\u001b[49m\u001b[38;5;241;43m=\u001b[39;49m\u001b[43mnumeric_only\u001b[49m\u001b[43m)\u001b[49m,\n\u001b[1;32m   2455\u001b[0m         numeric_only\u001b[38;5;241m=\u001b[39mnumeric_only,\n\u001b[1;32m   2456\u001b[0m     )\n\u001b[1;32m   2457\u001b[0m     \u001b[38;5;28;01mreturn\u001b[39;00m result\u001b[38;5;241m.\u001b[39m__finalize__(\u001b[38;5;28mself\u001b[39m\u001b[38;5;241m.\u001b[39mobj, method\u001b[38;5;241m=\u001b[39m\u001b[38;5;124m\"\u001b[39m\u001b[38;5;124mgroupby\u001b[39m\u001b[38;5;124m\"\u001b[39m)\n",
      "File \u001b[0;32m~/dev/uni/formal-lang-course/.venv/lib/python3.12/site-packages/pandas/core/series.py:6540\u001b[0m, in \u001b[0;36mSeries.mean\u001b[0;34m(self, axis, skipna, numeric_only, **kwargs)\u001b[0m\n\u001b[1;32m   6532\u001b[0m \u001b[38;5;129m@doc\u001b[39m(make_doc(\u001b[38;5;124m\"\u001b[39m\u001b[38;5;124mmean\u001b[39m\u001b[38;5;124m\"\u001b[39m, ndim\u001b[38;5;241m=\u001b[39m\u001b[38;5;241m1\u001b[39m))\n\u001b[1;32m   6533\u001b[0m \u001b[38;5;28;01mdef\u001b[39;00m \u001b[38;5;21mmean\u001b[39m(\n\u001b[1;32m   6534\u001b[0m     \u001b[38;5;28mself\u001b[39m,\n\u001b[0;32m   (...)\u001b[0m\n\u001b[1;32m   6538\u001b[0m     \u001b[38;5;241m*\u001b[39m\u001b[38;5;241m*\u001b[39mkwargs,\n\u001b[1;32m   6539\u001b[0m ):\n\u001b[0;32m-> 6540\u001b[0m     \u001b[38;5;28;01mreturn\u001b[39;00m \u001b[43mNDFrame\u001b[49m\u001b[38;5;241;43m.\u001b[39;49m\u001b[43mmean\u001b[49m\u001b[43m(\u001b[49m\u001b[38;5;28;43mself\u001b[39;49m\u001b[43m,\u001b[49m\u001b[43m \u001b[49m\u001b[43maxis\u001b[49m\u001b[43m,\u001b[49m\u001b[43m \u001b[49m\u001b[43mskipna\u001b[49m\u001b[43m,\u001b[49m\u001b[43m \u001b[49m\u001b[43mnumeric_only\u001b[49m\u001b[43m,\u001b[49m\u001b[43m \u001b[49m\u001b[38;5;241;43m*\u001b[39;49m\u001b[38;5;241;43m*\u001b[39;49m\u001b[43mkwargs\u001b[49m\u001b[43m)\u001b[49m\n",
      "File \u001b[0;32m~/dev/uni/formal-lang-course/.venv/lib/python3.12/site-packages/pandas/core/generic.py:12417\u001b[0m, in \u001b[0;36mNDFrame.mean\u001b[0;34m(self, axis, skipna, numeric_only, **kwargs)\u001b[0m\n\u001b[1;32m  12410\u001b[0m \u001b[38;5;28;01mdef\u001b[39;00m \u001b[38;5;21mmean\u001b[39m(\n\u001b[1;32m  12411\u001b[0m     \u001b[38;5;28mself\u001b[39m,\n\u001b[1;32m  12412\u001b[0m     axis: Axis \u001b[38;5;241m|\u001b[39m \u001b[38;5;28;01mNone\u001b[39;00m \u001b[38;5;241m=\u001b[39m \u001b[38;5;241m0\u001b[39m,\n\u001b[0;32m   (...)\u001b[0m\n\u001b[1;32m  12415\u001b[0m     \u001b[38;5;241m*\u001b[39m\u001b[38;5;241m*\u001b[39mkwargs,\n\u001b[1;32m  12416\u001b[0m ) \u001b[38;5;241m-\u001b[39m\u001b[38;5;241m>\u001b[39m Series \u001b[38;5;241m|\u001b[39m \u001b[38;5;28mfloat\u001b[39m:\n\u001b[0;32m> 12417\u001b[0m     \u001b[38;5;28;01mreturn\u001b[39;00m \u001b[38;5;28;43mself\u001b[39;49m\u001b[38;5;241;43m.\u001b[39;49m\u001b[43m_stat_function\u001b[49m\u001b[43m(\u001b[49m\n\u001b[1;32m  12418\u001b[0m \u001b[43m        \u001b[49m\u001b[38;5;124;43m\"\u001b[39;49m\u001b[38;5;124;43mmean\u001b[39;49m\u001b[38;5;124;43m\"\u001b[39;49m\u001b[43m,\u001b[49m\u001b[43m \u001b[49m\u001b[43mnanops\u001b[49m\u001b[38;5;241;43m.\u001b[39;49m\u001b[43mnanmean\u001b[49m\u001b[43m,\u001b[49m\u001b[43m \u001b[49m\u001b[43maxis\u001b[49m\u001b[43m,\u001b[49m\u001b[43m \u001b[49m\u001b[43mskipna\u001b[49m\u001b[43m,\u001b[49m\u001b[43m \u001b[49m\u001b[43mnumeric_only\u001b[49m\u001b[43m,\u001b[49m\u001b[43m \u001b[49m\u001b[38;5;241;43m*\u001b[39;49m\u001b[38;5;241;43m*\u001b[39;49m\u001b[43mkwargs\u001b[49m\n\u001b[1;32m  12419\u001b[0m \u001b[43m    \u001b[49m\u001b[43m)\u001b[49m\n",
      "File \u001b[0;32m~/dev/uni/formal-lang-course/.venv/lib/python3.12/site-packages/pandas/core/generic.py:12374\u001b[0m, in \u001b[0;36mNDFrame._stat_function\u001b[0;34m(self, name, func, axis, skipna, numeric_only, **kwargs)\u001b[0m\n\u001b[1;32m  12372\u001b[0m validate_bool_kwarg(skipna, \u001b[38;5;124m\"\u001b[39m\u001b[38;5;124mskipna\u001b[39m\u001b[38;5;124m\"\u001b[39m, none_allowed\u001b[38;5;241m=\u001b[39m\u001b[38;5;28;01mFalse\u001b[39;00m)\n\u001b[0;32m> 12374\u001b[0m \u001b[38;5;28;01mreturn\u001b[39;00m \u001b[38;5;28;43mself\u001b[39;49m\u001b[38;5;241;43m.\u001b[39;49m\u001b[43m_reduce\u001b[49m\u001b[43m(\u001b[49m\n\u001b[1;32m  12375\u001b[0m \u001b[43m    \u001b[49m\u001b[43mfunc\u001b[49m\u001b[43m,\u001b[49m\u001b[43m \u001b[49m\u001b[43mname\u001b[49m\u001b[38;5;241;43m=\u001b[39;49m\u001b[43mname\u001b[49m\u001b[43m,\u001b[49m\u001b[43m \u001b[49m\u001b[43maxis\u001b[49m\u001b[38;5;241;43m=\u001b[39;49m\u001b[43maxis\u001b[49m\u001b[43m,\u001b[49m\u001b[43m \u001b[49m\u001b[43mskipna\u001b[49m\u001b[38;5;241;43m=\u001b[39;49m\u001b[43mskipna\u001b[49m\u001b[43m,\u001b[49m\u001b[43m \u001b[49m\u001b[43mnumeric_only\u001b[49m\u001b[38;5;241;43m=\u001b[39;49m\u001b[43mnumeric_only\u001b[49m\n\u001b[1;32m  12376\u001b[0m \u001b[43m\u001b[49m\u001b[43m)\u001b[49m\n",
      "File \u001b[0;32m~/dev/uni/formal-lang-course/.venv/lib/python3.12/site-packages/pandas/core/series.py:6448\u001b[0m, in \u001b[0;36mSeries._reduce\u001b[0;34m(self, op, name, axis, skipna, numeric_only, filter_type, **kwds)\u001b[0m\n\u001b[1;32m   6444\u001b[0m     \u001b[38;5;28;01mraise\u001b[39;00m \u001b[38;5;167;01mTypeError\u001b[39;00m(\n\u001b[1;32m   6445\u001b[0m         \u001b[38;5;124mf\u001b[39m\u001b[38;5;124m\"\u001b[39m\u001b[38;5;124mSeries.\u001b[39m\u001b[38;5;132;01m{\u001b[39;00mname\u001b[38;5;132;01m}\u001b[39;00m\u001b[38;5;124m does not allow \u001b[39m\u001b[38;5;132;01m{\u001b[39;00mkwd_name\u001b[38;5;132;01m}\u001b[39;00m\u001b[38;5;124m=\u001b[39m\u001b[38;5;132;01m{\u001b[39;00mnumeric_only\u001b[38;5;132;01m}\u001b[39;00m\u001b[38;5;124m \u001b[39m\u001b[38;5;124m\"\u001b[39m\n\u001b[1;32m   6446\u001b[0m         \u001b[38;5;124m\"\u001b[39m\u001b[38;5;124mwith non-numeric dtypes.\u001b[39m\u001b[38;5;124m\"\u001b[39m\n\u001b[1;32m   6447\u001b[0m     )\n\u001b[0;32m-> 6448\u001b[0m \u001b[38;5;28;01mreturn\u001b[39;00m \u001b[43mop\u001b[49m\u001b[43m(\u001b[49m\u001b[43mdelegate\u001b[49m\u001b[43m,\u001b[49m\u001b[43m \u001b[49m\u001b[43mskipna\u001b[49m\u001b[38;5;241;43m=\u001b[39;49m\u001b[43mskipna\u001b[49m\u001b[43m,\u001b[49m\u001b[43m \u001b[49m\u001b[38;5;241;43m*\u001b[39;49m\u001b[38;5;241;43m*\u001b[39;49m\u001b[43mkwds\u001b[49m\u001b[43m)\u001b[49m\n",
      "File \u001b[0;32m~/dev/uni/formal-lang-course/.venv/lib/python3.12/site-packages/pandas/core/nanops.py:147\u001b[0m, in \u001b[0;36mbottleneck_switch.__call__.<locals>.f\u001b[0;34m(values, axis, skipna, **kwds)\u001b[0m\n\u001b[1;32m    146\u001b[0m \u001b[38;5;28;01melse\u001b[39;00m:\n\u001b[0;32m--> 147\u001b[0m     result \u001b[38;5;241m=\u001b[39m \u001b[43malt\u001b[49m\u001b[43m(\u001b[49m\u001b[43mvalues\u001b[49m\u001b[43m,\u001b[49m\u001b[43m \u001b[49m\u001b[43maxis\u001b[49m\u001b[38;5;241;43m=\u001b[39;49m\u001b[43maxis\u001b[49m\u001b[43m,\u001b[49m\u001b[43m \u001b[49m\u001b[43mskipna\u001b[49m\u001b[38;5;241;43m=\u001b[39;49m\u001b[43mskipna\u001b[49m\u001b[43m,\u001b[49m\u001b[43m \u001b[49m\u001b[38;5;241;43m*\u001b[39;49m\u001b[38;5;241;43m*\u001b[39;49m\u001b[43mkwds\u001b[49m\u001b[43m)\u001b[49m\n\u001b[1;32m    149\u001b[0m \u001b[38;5;28;01mreturn\u001b[39;00m result\n",
      "File \u001b[0;32m~/dev/uni/formal-lang-course/.venv/lib/python3.12/site-packages/pandas/core/nanops.py:404\u001b[0m, in \u001b[0;36m_datetimelike_compat.<locals>.new_func\u001b[0;34m(values, axis, skipna, mask, **kwargs)\u001b[0m\n\u001b[1;32m    402\u001b[0m     mask \u001b[38;5;241m=\u001b[39m isna(values)\n\u001b[0;32m--> 404\u001b[0m result \u001b[38;5;241m=\u001b[39m \u001b[43mfunc\u001b[49m\u001b[43m(\u001b[49m\u001b[43mvalues\u001b[49m\u001b[43m,\u001b[49m\u001b[43m \u001b[49m\u001b[43maxis\u001b[49m\u001b[38;5;241;43m=\u001b[39;49m\u001b[43maxis\u001b[49m\u001b[43m,\u001b[49m\u001b[43m \u001b[49m\u001b[43mskipna\u001b[49m\u001b[38;5;241;43m=\u001b[39;49m\u001b[43mskipna\u001b[49m\u001b[43m,\u001b[49m\u001b[43m \u001b[49m\u001b[43mmask\u001b[49m\u001b[38;5;241;43m=\u001b[39;49m\u001b[43mmask\u001b[49m\u001b[43m,\u001b[49m\u001b[43m \u001b[49m\u001b[38;5;241;43m*\u001b[39;49m\u001b[38;5;241;43m*\u001b[39;49m\u001b[43mkwargs\u001b[49m\u001b[43m)\u001b[49m\n\u001b[1;32m    406\u001b[0m \u001b[38;5;28;01mif\u001b[39;00m datetimelike:\n",
      "File \u001b[0;32m~/dev/uni/formal-lang-course/.venv/lib/python3.12/site-packages/pandas/core/nanops.py:720\u001b[0m, in \u001b[0;36mnanmean\u001b[0;34m(values, axis, skipna, mask)\u001b[0m\n\u001b[1;32m    719\u001b[0m the_sum \u001b[38;5;241m=\u001b[39m values\u001b[38;5;241m.\u001b[39msum(axis, dtype\u001b[38;5;241m=\u001b[39mdtype_sum)\n\u001b[0;32m--> 720\u001b[0m the_sum \u001b[38;5;241m=\u001b[39m \u001b[43m_ensure_numeric\u001b[49m\u001b[43m(\u001b[49m\u001b[43mthe_sum\u001b[49m\u001b[43m)\u001b[49m\n\u001b[1;32m    722\u001b[0m \u001b[38;5;28;01mif\u001b[39;00m axis \u001b[38;5;129;01mis\u001b[39;00m \u001b[38;5;129;01mnot\u001b[39;00m \u001b[38;5;28;01mNone\u001b[39;00m \u001b[38;5;129;01mand\u001b[39;00m \u001b[38;5;28mgetattr\u001b[39m(the_sum, \u001b[38;5;124m\"\u001b[39m\u001b[38;5;124mndim\u001b[39m\u001b[38;5;124m\"\u001b[39m, \u001b[38;5;28;01mFalse\u001b[39;00m):\n",
      "File \u001b[0;32m~/dev/uni/formal-lang-course/.venv/lib/python3.12/site-packages/pandas/core/nanops.py:1701\u001b[0m, in \u001b[0;36m_ensure_numeric\u001b[0;34m(x)\u001b[0m\n\u001b[1;32m   1699\u001b[0m \u001b[38;5;28;01mif\u001b[39;00m \u001b[38;5;28misinstance\u001b[39m(x, \u001b[38;5;28mstr\u001b[39m):\n\u001b[1;32m   1700\u001b[0m     \u001b[38;5;66;03m# GH#44008, GH#36703 avoid casting e.g. strings to numeric\u001b[39;00m\n\u001b[0;32m-> 1701\u001b[0m     \u001b[38;5;28;01mraise\u001b[39;00m \u001b[38;5;167;01mTypeError\u001b[39;00m(\u001b[38;5;124mf\u001b[39m\u001b[38;5;124m\"\u001b[39m\u001b[38;5;124mCould not convert string \u001b[39m\u001b[38;5;124m'\u001b[39m\u001b[38;5;132;01m{\u001b[39;00mx\u001b[38;5;132;01m}\u001b[39;00m\u001b[38;5;124m'\u001b[39m\u001b[38;5;124m to numeric\u001b[39m\u001b[38;5;124m\"\u001b[39m)\n\u001b[1;32m   1702\u001b[0m \u001b[38;5;28;01mtry\u001b[39;00m:\n",
      "\u001b[0;31mTypeError\u001b[0m: Could not convert string 'experimental_ms_bfs_based_rpq' to numeric",
      "\nThe above exception was the direct cause of the following exception:\n",
      "\u001b[0;31mTypeError\u001b[0m                                 Traceback (most recent call last)",
      "Cell \u001b[0;32mIn[52], line 14\u001b[0m\n\u001b[1;32m     11\u001b[0m \u001b[38;5;28;01mfor\u001b[39;00m i, algo \u001b[38;5;129;01min\u001b[39;00m \u001b[38;5;28menumerate\u001b[39m(average_times[\u001b[38;5;124m\"\u001b[39m\u001b[38;5;124malgorithm\u001b[39m\u001b[38;5;124m\"\u001b[39m]\u001b[38;5;241m.\u001b[39munique()):\n\u001b[1;32m     12\u001b[0m     algo_data \u001b[38;5;241m=\u001b[39m average_times[average_times[\u001b[38;5;124m\"\u001b[39m\u001b[38;5;124malgorithm\u001b[39m\u001b[38;5;124m\"\u001b[39m] \u001b[38;5;241m==\u001b[39m algo]\n\u001b[0;32m---> 14\u001b[0m     grouped_data \u001b[38;5;241m=\u001b[39m \u001b[43malgo_data\u001b[49m\u001b[38;5;241;43m.\u001b[39;49m\u001b[43mgroupby\u001b[49m\u001b[43m(\u001b[49m\u001b[38;5;124;43m\"\u001b[39;49m\u001b[38;5;124;43mstart_nodes_percentage\u001b[39;49m\u001b[38;5;124;43m\"\u001b[39;49m\u001b[43m)\u001b[49m\u001b[43m[\u001b[49m\u001b[38;5;124;43m\"\u001b[39;49m\u001b[38;5;124;43malgorithm\u001b[39;49m\u001b[38;5;124;43m\"\u001b[39;49m\u001b[43m]\u001b[49m\u001b[38;5;241;43m.\u001b[39;49m\u001b[43mmean\u001b[49m\u001b[43m(\u001b[49m\u001b[43m)\u001b[49m\n\u001b[1;32m     16\u001b[0m     axes[i]\u001b[38;5;241m.\u001b[39mbar(grouped_data\u001b[38;5;241m.\u001b[39mindex, grouped_data\u001b[38;5;241m.\u001b[39mvalues)\n\u001b[1;32m     18\u001b[0m     axes[i]\u001b[38;5;241m.\u001b[39mset_title(\u001b[38;5;124mf\u001b[39m\u001b[38;5;124m\"\u001b[39m\u001b[38;5;132;01m{\u001b[39;00malgo\u001b[38;5;132;01m}\u001b[39;00m\u001b[38;5;124m\"\u001b[39m)\n",
      "File \u001b[0;32m~/dev/uni/formal-lang-course/.venv/lib/python3.12/site-packages/pandas/core/groupby/groupby.py:2452\u001b[0m, in \u001b[0;36mGroupBy.mean\u001b[0;34m(self, numeric_only, engine, engine_kwargs)\u001b[0m\n\u001b[1;32m   2445\u001b[0m     \u001b[38;5;28;01mreturn\u001b[39;00m \u001b[38;5;28mself\u001b[39m\u001b[38;5;241m.\u001b[39m_numba_agg_general(\n\u001b[1;32m   2446\u001b[0m         grouped_mean,\n\u001b[1;32m   2447\u001b[0m         executor\u001b[38;5;241m.\u001b[39mfloat_dtype_mapping,\n\u001b[1;32m   2448\u001b[0m         engine_kwargs,\n\u001b[1;32m   2449\u001b[0m         min_periods\u001b[38;5;241m=\u001b[39m\u001b[38;5;241m0\u001b[39m,\n\u001b[1;32m   2450\u001b[0m     )\n\u001b[1;32m   2451\u001b[0m \u001b[38;5;28;01melse\u001b[39;00m:\n\u001b[0;32m-> 2452\u001b[0m     result \u001b[38;5;241m=\u001b[39m \u001b[38;5;28;43mself\u001b[39;49m\u001b[38;5;241;43m.\u001b[39;49m\u001b[43m_cython_agg_general\u001b[49m\u001b[43m(\u001b[49m\n\u001b[1;32m   2453\u001b[0m \u001b[43m        \u001b[49m\u001b[38;5;124;43m\"\u001b[39;49m\u001b[38;5;124;43mmean\u001b[39;49m\u001b[38;5;124;43m\"\u001b[39;49m\u001b[43m,\u001b[49m\n\u001b[1;32m   2454\u001b[0m \u001b[43m        \u001b[49m\u001b[43malt\u001b[49m\u001b[38;5;241;43m=\u001b[39;49m\u001b[38;5;28;43;01mlambda\u001b[39;49;00m\u001b[43m \u001b[49m\u001b[43mx\u001b[49m\u001b[43m:\u001b[49m\u001b[43m \u001b[49m\u001b[43mSeries\u001b[49m\u001b[43m(\u001b[49m\u001b[43mx\u001b[49m\u001b[43m,\u001b[49m\u001b[43m \u001b[49m\u001b[43mcopy\u001b[49m\u001b[38;5;241;43m=\u001b[39;49m\u001b[38;5;28;43;01mFalse\u001b[39;49;00m\u001b[43m)\u001b[49m\u001b[38;5;241;43m.\u001b[39;49m\u001b[43mmean\u001b[49m\u001b[43m(\u001b[49m\u001b[43mnumeric_only\u001b[49m\u001b[38;5;241;43m=\u001b[39;49m\u001b[43mnumeric_only\u001b[49m\u001b[43m)\u001b[49m\u001b[43m,\u001b[49m\n\u001b[1;32m   2455\u001b[0m \u001b[43m        \u001b[49m\u001b[43mnumeric_only\u001b[49m\u001b[38;5;241;43m=\u001b[39;49m\u001b[43mnumeric_only\u001b[49m\u001b[43m,\u001b[49m\n\u001b[1;32m   2456\u001b[0m \u001b[43m    \u001b[49m\u001b[43m)\u001b[49m\n\u001b[1;32m   2457\u001b[0m     \u001b[38;5;28;01mreturn\u001b[39;00m result\u001b[38;5;241m.\u001b[39m__finalize__(\u001b[38;5;28mself\u001b[39m\u001b[38;5;241m.\u001b[39mobj, method\u001b[38;5;241m=\u001b[39m\u001b[38;5;124m\"\u001b[39m\u001b[38;5;124mgroupby\u001b[39m\u001b[38;5;124m\"\u001b[39m)\n",
      "File \u001b[0;32m~/dev/uni/formal-lang-course/.venv/lib/python3.12/site-packages/pandas/core/groupby/groupby.py:1998\u001b[0m, in \u001b[0;36mGroupBy._cython_agg_general\u001b[0;34m(self, how, alt, numeric_only, min_count, **kwargs)\u001b[0m\n\u001b[1;32m   1995\u001b[0m     result \u001b[38;5;241m=\u001b[39m \u001b[38;5;28mself\u001b[39m\u001b[38;5;241m.\u001b[39m_agg_py_fallback(how, values, ndim\u001b[38;5;241m=\u001b[39mdata\u001b[38;5;241m.\u001b[39mndim, alt\u001b[38;5;241m=\u001b[39malt)\n\u001b[1;32m   1996\u001b[0m     \u001b[38;5;28;01mreturn\u001b[39;00m result\n\u001b[0;32m-> 1998\u001b[0m new_mgr \u001b[38;5;241m=\u001b[39m \u001b[43mdata\u001b[49m\u001b[38;5;241;43m.\u001b[39;49m\u001b[43mgrouped_reduce\u001b[49m\u001b[43m(\u001b[49m\u001b[43marray_func\u001b[49m\u001b[43m)\u001b[49m\n\u001b[1;32m   1999\u001b[0m res \u001b[38;5;241m=\u001b[39m \u001b[38;5;28mself\u001b[39m\u001b[38;5;241m.\u001b[39m_wrap_agged_manager(new_mgr)\n\u001b[1;32m   2000\u001b[0m \u001b[38;5;28;01mif\u001b[39;00m how \u001b[38;5;129;01min\u001b[39;00m [\u001b[38;5;124m\"\u001b[39m\u001b[38;5;124midxmin\u001b[39m\u001b[38;5;124m\"\u001b[39m, \u001b[38;5;124m\"\u001b[39m\u001b[38;5;124midxmax\u001b[39m\u001b[38;5;124m\"\u001b[39m]:\n",
      "File \u001b[0;32m~/dev/uni/formal-lang-course/.venv/lib/python3.12/site-packages/pandas/core/internals/base.py:367\u001b[0m, in \u001b[0;36mSingleDataManager.grouped_reduce\u001b[0;34m(self, func)\u001b[0m\n\u001b[1;32m    365\u001b[0m \u001b[38;5;28;01mdef\u001b[39;00m \u001b[38;5;21mgrouped_reduce\u001b[39m(\u001b[38;5;28mself\u001b[39m, func):\n\u001b[1;32m    366\u001b[0m     arr \u001b[38;5;241m=\u001b[39m \u001b[38;5;28mself\u001b[39m\u001b[38;5;241m.\u001b[39marray\n\u001b[0;32m--> 367\u001b[0m     res \u001b[38;5;241m=\u001b[39m \u001b[43mfunc\u001b[49m\u001b[43m(\u001b[49m\u001b[43marr\u001b[49m\u001b[43m)\u001b[49m\n\u001b[1;32m    368\u001b[0m     index \u001b[38;5;241m=\u001b[39m default_index(\u001b[38;5;28mlen\u001b[39m(res))\n\u001b[1;32m    370\u001b[0m     mgr \u001b[38;5;241m=\u001b[39m \u001b[38;5;28mtype\u001b[39m(\u001b[38;5;28mself\u001b[39m)\u001b[38;5;241m.\u001b[39mfrom_array(res, index)\n",
      "File \u001b[0;32m~/dev/uni/formal-lang-course/.venv/lib/python3.12/site-packages/pandas/core/groupby/groupby.py:1995\u001b[0m, in \u001b[0;36mGroupBy._cython_agg_general.<locals>.array_func\u001b[0;34m(values)\u001b[0m\n\u001b[1;32m   1992\u001b[0m     \u001b[38;5;28;01mreturn\u001b[39;00m result\n\u001b[1;32m   1994\u001b[0m \u001b[38;5;28;01massert\u001b[39;00m alt \u001b[38;5;129;01mis\u001b[39;00m \u001b[38;5;129;01mnot\u001b[39;00m \u001b[38;5;28;01mNone\u001b[39;00m\n\u001b[0;32m-> 1995\u001b[0m result \u001b[38;5;241m=\u001b[39m \u001b[38;5;28;43mself\u001b[39;49m\u001b[38;5;241;43m.\u001b[39;49m\u001b[43m_agg_py_fallback\u001b[49m\u001b[43m(\u001b[49m\u001b[43mhow\u001b[49m\u001b[43m,\u001b[49m\u001b[43m \u001b[49m\u001b[43mvalues\u001b[49m\u001b[43m,\u001b[49m\u001b[43m \u001b[49m\u001b[43mndim\u001b[49m\u001b[38;5;241;43m=\u001b[39;49m\u001b[43mdata\u001b[49m\u001b[38;5;241;43m.\u001b[39;49m\u001b[43mndim\u001b[49m\u001b[43m,\u001b[49m\u001b[43m \u001b[49m\u001b[43malt\u001b[49m\u001b[38;5;241;43m=\u001b[39;49m\u001b[43malt\u001b[49m\u001b[43m)\u001b[49m\n\u001b[1;32m   1996\u001b[0m \u001b[38;5;28;01mreturn\u001b[39;00m result\n",
      "File \u001b[0;32m~/dev/uni/formal-lang-course/.venv/lib/python3.12/site-packages/pandas/core/groupby/groupby.py:1946\u001b[0m, in \u001b[0;36mGroupBy._agg_py_fallback\u001b[0;34m(self, how, values, ndim, alt)\u001b[0m\n\u001b[1;32m   1944\u001b[0m     msg \u001b[38;5;241m=\u001b[39m \u001b[38;5;124mf\u001b[39m\u001b[38;5;124m\"\u001b[39m\u001b[38;5;124magg function failed [how->\u001b[39m\u001b[38;5;132;01m{\u001b[39;00mhow\u001b[38;5;132;01m}\u001b[39;00m\u001b[38;5;124m,dtype->\u001b[39m\u001b[38;5;132;01m{\u001b[39;00mser\u001b[38;5;241m.\u001b[39mdtype\u001b[38;5;132;01m}\u001b[39;00m\u001b[38;5;124m]\u001b[39m\u001b[38;5;124m\"\u001b[39m\n\u001b[1;32m   1945\u001b[0m     \u001b[38;5;66;03m# preserve the kind of exception that raised\u001b[39;00m\n\u001b[0;32m-> 1946\u001b[0m     \u001b[38;5;28;01mraise\u001b[39;00m \u001b[38;5;28mtype\u001b[39m(err)(msg) \u001b[38;5;28;01mfrom\u001b[39;00m \u001b[38;5;21;01merr\u001b[39;00m\n\u001b[1;32m   1948\u001b[0m \u001b[38;5;28;01mif\u001b[39;00m ser\u001b[38;5;241m.\u001b[39mdtype \u001b[38;5;241m==\u001b[39m \u001b[38;5;28mobject\u001b[39m:\n\u001b[1;32m   1949\u001b[0m     res_values \u001b[38;5;241m=\u001b[39m res_values\u001b[38;5;241m.\u001b[39mastype(\u001b[38;5;28mobject\u001b[39m, copy\u001b[38;5;241m=\u001b[39m\u001b[38;5;28;01mFalse\u001b[39;00m)\n",
      "\u001b[0;31mTypeError\u001b[0m: agg function failed [how->mean,dtype->object]"
     ]
    },
    {
     "data": {
      "image/png": "[encoded data removed]",
      "text/plain": [
       "<Figure size 1000x500 with 2 Axes>"
      ]
     },
     "metadata": {},
     "output_type": "display_data"
    }
   ],
   "source": [
    "import matplotlib.pyplot as plt\n",
    "\n",
    "df = pd.DataFrame(results)\n",
    "\n",
    "average_times = (\n",
    "    df.groupby([\"algorithm\", \"start_nodes_percentage\"])[\"time\"].mean().reset_index()\n",
    ")\n",
    "\n",
    "fig, axes = plt.subplots(1, 2, figsize=(10, 5))\n",
    "\n",
    "for i, algo in enumerate(average_times[\"algorithm\"].unique()):\n",
    "    algo_data = average_times[average_times[\"algorithm\"] == algo]\n",
    "\n",
    "    grouped_data = algo_data.groupby(\"start_nodes_percentage\")[\"algorithm\"].mean()\n",
    "\n",
    "    axes[i].bar(grouped_data.index, grouped_data.values)\n",
    "\n",
    "    axes[i].set_title(f\"{algo}\")\n",
    "    axes[i].set_xlabel(\"Start Nodes %\")\n",
    "    axes[i].set_ylabel(\"Average Time\")\n",
    "\n",
    "display(average_times)\n",
    "plt.tight_layout()\n",
    "plt.show()\n"
   ]
  },
  {
   "cell_type": "code",
   "execution_count": 34,
   "metadata": {},
   "outputs": [
    {
     "data": {
      "text/html": [
       "<div>\n",
       "<style scoped>\n",
       "    .dataframe tbody tr th:only-of-type {\n",
       "        vertical-align: middle;\n",
       "    }\n",
       "\n",
       "    .dataframe tbody tr th {\n",
       "        vertical-align: top;\n",
       "    }\n",
       "\n",
       "    .dataframe thead th {\n",
       "        text-align: right;\n",
       "    }\n",
       "</style>\n",
       "<table border=\"1\" class=\"dataframe\">\n",
       "  <thead>\n",
       "    <tr style=\"text-align: right;\">\n",
       "      <th></th>\n",
       "      <th>algorithm</th>\n",
       "      <th>start_nodes_percentage</th>\n",
       "      <th>time</th>\n",
       "    </tr>\n",
       "  </thead>\n",
       "  <tbody>\n",
       "    <tr>\n",
       "      <th>0</th>\n",
       "      <td>experimental_ms_bfs_based_rpq</td>\n",
       "      <td>1001001001001001001001001001001001001001001001...</td>\n",
       "      <td>0.443528</td>\n",
       "    </tr>\n",
       "    <tr>\n",
       "      <th>1</th>\n",
       "      <td>experimental_ms_bfs_based_rpq</td>\n",
       "      <td>3030303030303030303030303030303030303030303030...</td>\n",
       "      <td>0.131700</td>\n",
       "    </tr>\n",
       "    <tr>\n",
       "      <th>2</th>\n",
       "      <td>experimental_ms_bfs_based_rpq</td>\n",
       "      <td>5050505050505050505050505050505050505050505050...</td>\n",
       "      <td>0.222956</td>\n",
       "    </tr>\n",
       "    <tr>\n",
       "      <th>3</th>\n",
       "      <td>experimental_ms_bfs_based_rpq</td>\n",
       "      <td>5555555555555555555555555555555555555555555555...</td>\n",
       "      <td>0.028379</td>\n",
       "    </tr>\n",
       "    <tr>\n",
       "      <th>4</th>\n",
       "      <td>experimental_ms_bfs_based_rpq</td>\n",
       "      <td>8080808080808080808080808080808080808080808080...</td>\n",
       "      <td>0.352963</td>\n",
       "    </tr>\n",
       "    <tr>\n",
       "      <th>5</th>\n",
       "      <td>experimental_tensor_based_rpq</td>\n",
       "      <td>1001001001001001001001001001001001001001001001...</td>\n",
       "      <td>6.638526</td>\n",
       "    </tr>\n",
       "    <tr>\n",
       "      <th>6</th>\n",
       "      <td>experimental_tensor_based_rpq</td>\n",
       "      <td>3030303030303030303030303030303030303030303030...</td>\n",
       "      <td>1.881332</td>\n",
       "    </tr>\n",
       "    <tr>\n",
       "      <th>7</th>\n",
       "      <td>experimental_tensor_based_rpq</td>\n",
       "      <td>5050505050505050505050505050505050505050505050...</td>\n",
       "      <td>2.835523</td>\n",
       "    </tr>\n",
       "    <tr>\n",
       "      <th>8</th>\n",
       "      <td>experimental_tensor_based_rpq</td>\n",
       "      <td>5555555555555555555555555555555555555555555555...</td>\n",
       "      <td>0.997613</td>\n",
       "    </tr>\n",
       "    <tr>\n",
       "      <th>9</th>\n",
       "      <td>experimental_tensor_based_rpq</td>\n",
       "      <td>8080808080808080808080808080808080808080808080...</td>\n",
       "      <td>4.929722</td>\n",
       "    </tr>\n",
       "  </tbody>\n",
       "</table>\n",
       "</div>"
      ],
      "text/plain": [
       "                       algorithm  \\\n",
       "0  experimental_ms_bfs_based_rpq   \n",
       "1  experimental_ms_bfs_based_rpq   \n",
       "2  experimental_ms_bfs_based_rpq   \n",
       "3  experimental_ms_bfs_based_rpq   \n",
       "4  experimental_ms_bfs_based_rpq   \n",
       "5  experimental_tensor_based_rpq   \n",
       "6  experimental_tensor_based_rpq   \n",
       "7  experimental_tensor_based_rpq   \n",
       "8  experimental_tensor_based_rpq   \n",
       "9  experimental_tensor_based_rpq   \n",
       "\n",
       "                              start_nodes_percentage      time  \n",
       "0  1001001001001001001001001001001001001001001001...  0.443528  \n",
       "1  3030303030303030303030303030303030303030303030...  0.131700  \n",
       "2  5050505050505050505050505050505050505050505050...  0.222956  \n",
       "3  5555555555555555555555555555555555555555555555...  0.028379  \n",
       "4  8080808080808080808080808080808080808080808080...  0.352963  \n",
       "5  1001001001001001001001001001001001001001001001...  6.638526  \n",
       "6  3030303030303030303030303030303030303030303030...  1.881332  \n",
       "7  5050505050505050505050505050505050505050505050...  2.835523  \n",
       "8  5555555555555555555555555555555555555555555555...  0.997613  \n",
       "9  8080808080808080808080808080808080808080808080...  4.929722  "
      ]
     },
     "execution_count": 34,
     "metadata": {},
     "output_type": "execute_result"
    }
   ],
   "source": [
    "df.groupby([\"algorithm\", \"start_nodes_percentage\"])[\"time\"].mean().reset_index()"
   ]
  },
  {
   "cell_type": "markdown",
   "metadata": {},
   "source": [
    "# Описание эксперимента"
   ]
  }
 ],
 "metadata": {
  "kernelspec": {
   "display_name": ".venv",
   "language": "python",
   "name": "python3"
  },
  "language_info": {
   "codemirror_mode": {
    "name": "ipython",
    "version": 3
   },
   "file_extension": ".py",
   "mimetype": "text/x-python",
   "name": "python",
   "nbconvert_exporter": "python",
   "pygments_lexer": "ipython3",
   "version": "3.12.5"
  }
 },
 "nbformat": 4,
 "nbformat_minor": 2
}
