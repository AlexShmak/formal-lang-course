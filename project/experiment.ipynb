{
 "cells": [
  {
   "cell_type": "markdown",
   "metadata": {},
   "source": [
    "# Практическая часть эксперимента"
   ]
  },
  {
   "cell_type": "code",
   "execution_count": 1,
   "metadata": {},
   "outputs": [],
   "source": [
    "import sys\n",
    "\n",
    "sys.path.append(\"/home/alex/dev/uni/formal-lang-course/\")"
   ]
  },
  {
   "cell_type": "code",
   "execution_count": 2,
   "metadata": {},
   "outputs": [
    {
     "name": "stdout",
     "output_type": "stream",
     "text": [
      "import sources directory\n"
     ]
    }
   ],
   "source": [
    "import time\n",
    "\n",
    "import cfpq_data as cd\n",
    "import pandas as pd\n",
    "from scipy.sparse import (\n",
    "    csc_matrix,\n",
    "    csr_matrix,\n",
    "    dok_matrix,\n",
    "    lil_matrix,\n",
    ")\n",
    "from task1 import GraphInfo\n",
    "from task5 import experimental_ms_bfs_based_rpq, experimental_tensor_based_rpq"
   ]
  },
  {
   "cell_type": "markdown",
   "metadata": {},
   "source": [
    "Выбранные графы:\n",
    "* `generations`\n",
    "* `travel`"
   ]
  },
  {
   "cell_type": "code",
   "execution_count": 3,
   "metadata": {},
   "outputs": [],
   "source": [
    "graph_names = [\"generations\", \"travel\"]\n",
    "\n",
    "matrix_types = {\n",
    "    csr_matrix: \"csr\",\n",
    "    csc_matrix: \"csc\",\n",
    "    dok_matrix: \"dok\",\n",
    "    lil_matrix: \"lil\",\n",
    "}"
   ]
  },
  {
   "cell_type": "code",
   "execution_count": 4,
   "metadata": {},
   "outputs": [],
   "source": [
    "def get_counted_labels(graph) -> dict[str, int]:\n",
    "    labelsNotCounted = [edge[2] for edge in list(graph.edges(data=\"label\"))]\n",
    "    labelsCounted: dict[str, int] = {}\n",
    "    while len(labelsNotCounted) != 0:\n",
    "        label = labelsNotCounted.pop()\n",
    "        if label not in labelsCounted:\n",
    "            labelsCounted[label] = 1\n",
    "        else:\n",
    "            labelsCounted[label] += 1\n",
    "\n",
    "    orderedLabelsCounted = dict(\n",
    "        sorted(labelsCounted.items(), key=lambda x: x[1], reverse=True)\n",
    "    )\n",
    "\n",
    "    return orderedLabelsCounted"
   ]
  },
  {
   "cell_type": "markdown",
   "metadata": {},
   "source": [
    "Запросы:\n",
    "* `l1* | l2*`\n",
    "* `(l1 | l2)* l3`\n",
    "* `(l3 | l4)+ l1*`\n",
    "* `l1 l2 l3 (l4|l1)*`"
   ]
  },
  {
   "cell_type": "code",
   "execution_count": 5,
   "metadata": {},
   "outputs": [
    {
     "name": "stderr",
     "output_type": "stream",
     "text": [
      "[2024-10-16 01:31:14]>INFO>Found graph with name='generations'\n",
      "[2024-10-16 01:31:15]>INFO>Load archive graph_archive=PosixPath('/home/alex/dev/uni/formal-lang-course/.venv/lib/python3.12/site-packages/cfpq_data/data/graphs/generations.tar.gz')\n",
      "[2024-10-16 01:31:15]>INFO>Unzip graph name='generations' to file graph=PosixPath('/home/alex/dev/uni/formal-lang-course/.venv/lib/python3.12/site-packages/cfpq_data/data/graphs/generations/generations.csv')\n",
      "[2024-10-16 01:31:15]>INFO>Remove archive graph_archive=PosixPath('/home/alex/dev/uni/formal-lang-course/.venv/lib/python3.12/site-packages/cfpq_data/data/graphs/generations.tar.gz')\n",
      "[2024-10-16 01:31:15]>INFO>Load graph=<networkx.classes.multidigraph.MultiDiGraph object at 0x7f55541af1a0> from path=PosixPath('/home/alex/dev/uni/formal-lang-course/.venv/lib/python3.12/site-packages/cfpq_data/data/graphs/generations/generations.csv')\n",
      "[2024-10-16 01:31:15]>INFO>Construct labels_frequency=defaultdict(<class 'int'>, {'rest': 45, 'first': 45, 'onProperty': 27, 'type': 78, 'hasValue': 12, 'someValuesFrom': 15, 'equivalentClass': 17, 'intersectionOf': 18, 'inverseOf': 2, 'range': 1, 'hasSibling': 1, 'sameAs': 2, 'hasParent': 2, 'hasSex': 4, 'hasChild': 2, 'versionInfo': 1, 'oneOf': 1}) for graph=<networkx.classes.multidigraph.MultiDiGraph object at 0x7f55541af1a0>\n",
      "[2024-10-16 01:31:15]>INFO>Sort edge labels=['type', 'first', 'rest', 'onProperty', 'intersectionOf', 'equivalentClass', 'someValuesFrom', 'hasValue', 'hasSex', 'hasChild', 'hasParent', 'inverseOf', 'sameAs', 'hasSibling', 'oneOf', 'range', 'versionInfo'] of graph=<networkx.classes.multidigraph.MultiDiGraph object at 0x7f55541af1a0>\n",
      "[2024-10-16 01:31:15]>INFO>Found graph with name='travel'\n",
      "[2024-10-16 01:31:15]>INFO>Load archive graph_archive=PosixPath('/home/alex/dev/uni/formal-lang-course/.venv/lib/python3.12/site-packages/cfpq_data/data/graphs/travel.tar.gz')\n",
      "[2024-10-16 01:31:15]>INFO>Unzip graph name='travel' to file graph=PosixPath('/home/alex/dev/uni/formal-lang-course/.venv/lib/python3.12/site-packages/cfpq_data/data/graphs/travel/travel.csv')\n",
      "[2024-10-16 01:31:15]>INFO>Remove archive graph_archive=PosixPath('/home/alex/dev/uni/formal-lang-course/.venv/lib/python3.12/site-packages/cfpq_data/data/graphs/travel.tar.gz')\n",
      "[2024-10-16 01:31:15]>INFO>Load graph=<networkx.classes.multidigraph.MultiDiGraph object at 0x7f5552ad1580> from path=PosixPath('/home/alex/dev/uni/formal-lang-course/.venv/lib/python3.12/site-packages/cfpq_data/data/graphs/travel/travel.csv')\n",
      "[2024-10-16 01:31:15]>INFO>Construct labels_frequency=defaultdict(<class 'int'>, {'type': 90, 'subClassOf': 30, 'disjointWith': 20, 'first': 24, 'rest': 24, 'onProperty': 15, 'someValuesFrom': 10, 'domain': 10, 'range': 10, 'oneOf': 2, 'comment': 9, 'equivalentClass': 7, 'intersectionOf': 7, 'minCardinality': 2, 'inverseOf': 2, 'differentFrom': 6, 'hasAccommodation': 1, 'hasPart': 2, 'unionOf': 1, 'hasValue': 3, 'complementOf': 1, 'versionInfo': 1}) for graph=<networkx.classes.multidigraph.MultiDiGraph object at 0x7f5552ad1580>\n",
      "[2024-10-16 01:31:15]>INFO>Sort edge labels=['type', 'subClassOf', 'first', 'rest', 'disjointWith', 'onProperty', 'domain', 'range', 'someValuesFrom', 'comment', 'equivalentClass', 'intersectionOf', 'differentFrom', 'hasValue', 'hasPart', 'inverseOf', 'minCardinality', 'oneOf', 'complementOf', 'hasAccommodation', 'unionOf', 'versionInfo'] of graph=<networkx.classes.multidigraph.MultiDiGraph object at 0x7f5552ad1580>\n"
     ]
    }
   ],
   "source": [
    "def build_regexes(counted_labels) -> list[str]:\n",
    "    orderedLabels = list(counted_labels.keys())\n",
    "    l1, l2, l3, l4 = (\n",
    "        orderedLabels[0],\n",
    "        orderedLabels[1],\n",
    "        orderedLabels[2],\n",
    "        orderedLabels[3],\n",
    "    )\n",
    "\n",
    "    return [\n",
    "        f\"{l1}* | {l2}\",\n",
    "        f\"({l1} | {l2})* {l3}\",\n",
    "        f\"({l1} | {l2})+ {l3}*\",\n",
    "        f\"{l1} {l2} {l3} ({l4} | {l1})*\",\n",
    "    ]\n",
    "\n",
    "\n",
    "regexes = {\n",
    "    graph_name: build_regexes(get_counted_labels(GraphInfo(graph_name)._graph))\n",
    "    for graph_name in graph_names\n",
    "}"
   ]
  },
  {
   "cell_type": "code",
   "execution_count": 6,
   "metadata": {},
   "outputs": [],
   "source": [
    "results = {\n",
    "    \"algorithm\": [],\n",
    "    \"graph_name\": [],\n",
    "    \"matrix_format\": [],\n",
    "    \"regex\": [],\n",
    "    \"start_nodes_percentage\": [],\n",
    "    \"time\": [],\n",
    "}"
   ]
  },
  {
   "cell_type": "markdown",
   "metadata": {},
   "source": [
    "`dok_matrix` не используется при постановке эксперимента с помощью `tensor_based_rpq`, так как для проведения эксперимента потребуется слишком большое количество времени и ресурсов, что видно из следующего блока."
   ]
  },
  {
   "cell_type": "code",
   "execution_count": 7,
   "metadata": {},
   "outputs": [
    {
     "name": "stderr",
     "output_type": "stream",
     "text": [
      "[2024-10-16 01:31:15]>INFO>Found graph with name='generations'\n",
      "[2024-10-16 01:31:15]>INFO>Load archive graph_archive=PosixPath('/home/alex/dev/uni/formal-lang-course/.venv/lib/python3.12/site-packages/cfpq_data/data/graphs/generations.tar.gz')\n",
      "[2024-10-16 01:31:15]>INFO>Unzip graph name='generations' to file graph=PosixPath('/home/alex/dev/uni/formal-lang-course/.venv/lib/python3.12/site-packages/cfpq_data/data/graphs/generations/generations.csv')\n",
      "[2024-10-16 01:31:15]>INFO>Remove archive graph_archive=PosixPath('/home/alex/dev/uni/formal-lang-course/.venv/lib/python3.12/site-packages/cfpq_data/data/graphs/generations.tar.gz')\n",
      "[2024-10-16 01:31:15]>INFO>Load graph=<networkx.classes.multidigraph.MultiDiGraph object at 0x7f554f383020> from path=PosixPath('/home/alex/dev/uni/formal-lang-course/.venv/lib/python3.12/site-packages/cfpq_data/data/graphs/generations/generations.csv')\n",
      "[2024-10-16 01:31:15]>INFO>Construct labels_frequency=defaultdict(<class 'int'>, {'rest': 45, 'first': 45, 'onProperty': 27, 'type': 78, 'hasValue': 12, 'someValuesFrom': 15, 'equivalentClass': 17, 'intersectionOf': 18, 'inverseOf': 2, 'range': 1, 'hasSibling': 1, 'sameAs': 2, 'hasParent': 2, 'hasSex': 4, 'hasChild': 2, 'versionInfo': 1, 'oneOf': 1}) for graph=<networkx.classes.multidigraph.MultiDiGraph object at 0x7f554f383020>\n",
      "[2024-10-16 01:31:15]>INFO>Sort edge labels=['type', 'first', 'rest', 'onProperty', 'intersectionOf', 'equivalentClass', 'someValuesFrom', 'hasValue', 'hasSex', 'hasChild', 'hasParent', 'inverseOf', 'sameAs', 'hasSibling', 'oneOf', 'range', 'versionInfo'] of graph=<networkx.classes.multidigraph.MultiDiGraph object at 0x7f554f383020>\n",
      "[2024-10-16 01:31:15]>INFO>Generate set of source vertices of 6 nodes for graph=<networkx.classes.multidigraph.MultiDiGraph object at 0x7f554f383020> for multiple-source evaluation\n"
     ]
    },
    {
     "name": "stdout",
     "output_type": "stream",
     "text": [
      "tensor_based_rqp | dok_matrix | (type* | rest): 48.039889335632324\n",
      "tensor_based_rqp | dok_matrix | ((type | rest)* first): 89.08848404884338\n",
      "tensor_based_rqp | dok_matrix | ((type | rest)+ first*): 84.97422695159912\n"
     ]
    },
    {
     "name": "stderr",
     "output_type": "stream",
     "text": [
      "[2024-10-16 01:38:54]>INFO>Found graph with name='travel'\n",
      "[2024-10-16 01:38:54]>INFO>Load archive graph_archive=PosixPath('/home/alex/dev/uni/formal-lang-course/.venv/lib/python3.12/site-packages/cfpq_data/data/graphs/travel.tar.gz')\n",
      "[2024-10-16 01:38:54]>INFO>Unzip graph name='travel' to file graph=PosixPath('/home/alex/dev/uni/formal-lang-course/.venv/lib/python3.12/site-packages/cfpq_data/data/graphs/travel/travel.csv')\n",
      "[2024-10-16 01:38:54]>INFO>Remove archive graph_archive=PosixPath('/home/alex/dev/uni/formal-lang-course/.venv/lib/python3.12/site-packages/cfpq_data/data/graphs/travel.tar.gz')\n",
      "[2024-10-16 01:38:54]>INFO>Load graph=<networkx.classes.multidigraph.MultiDiGraph object at 0x7f55541afad0> from path=PosixPath('/home/alex/dev/uni/formal-lang-course/.venv/lib/python3.12/site-packages/cfpq_data/data/graphs/travel/travel.csv')\n",
      "[2024-10-16 01:38:54]>INFO>Construct labels_frequency=defaultdict(<class 'int'>, {'type': 90, 'subClassOf': 30, 'disjointWith': 20, 'first': 24, 'rest': 24, 'onProperty': 15, 'someValuesFrom': 10, 'domain': 10, 'range': 10, 'oneOf': 2, 'comment': 9, 'equivalentClass': 7, 'intersectionOf': 7, 'minCardinality': 2, 'inverseOf': 2, 'differentFrom': 6, 'hasAccommodation': 1, 'hasPart': 2, 'unionOf': 1, 'hasValue': 3, 'complementOf': 1, 'versionInfo': 1}) for graph=<networkx.classes.multidigraph.MultiDiGraph object at 0x7f55541afad0>\n",
      "[2024-10-16 01:38:54]>INFO>Sort edge labels=['type', 'subClassOf', 'first', 'rest', 'disjointWith', 'onProperty', 'domain', 'range', 'someValuesFrom', 'comment', 'equivalentClass', 'intersectionOf', 'differentFrom', 'hasValue', 'hasPart', 'inverseOf', 'minCardinality', 'oneOf', 'complementOf', 'hasAccommodation', 'unionOf', 'versionInfo'] of graph=<networkx.classes.multidigraph.MultiDiGraph object at 0x7f55541afad0>\n",
      "[2024-10-16 01:38:54]>INFO>Generate set of source vertices of 6 nodes for graph=<networkx.classes.multidigraph.MultiDiGraph object at 0x7f55541afad0> for multiple-source evaluation\n"
     ]
    },
    {
     "name": "stdout",
     "output_type": "stream",
     "text": [
      "tensor_based_rqp | dok_matrix | (type rest first (onProperty | type)*): 237.14577174186707\n",
      "Time total for one repeat of tensor_based_rpq using dok_matrix, generations graph and 4 different regexes: 459.248\n",
      " Approximate time needed for the whole experiment: 18369.935 s = 5.103 h\n",
      "tensor_based_rqp | dok_matrix | (type* | rest): 45.85087966918945\n",
      "tensor_based_rqp | dok_matrix | ((type | rest)* first): 91.66425848007202\n",
      "tensor_based_rqp | dok_matrix | ((type | rest)+ first*): 91.60134100914001\n",
      "tensor_based_rqp | dok_matrix | (type rest first (onProperty | type)*): 240.81274700164795\n",
      "Time total for one repeat of tensor_based_rpq using dok_matrix, travel graph and 4 different regexes: 929.178\n",
      " Approximate time needed for the whole experiment: 37167.104 s = 10.324 h\n"
     ]
    }
   ],
   "source": [
    "matrix_types_test = {dok_matrix: \"dok\"}\n",
    "time_total = 0\n",
    "times = 20\n",
    "\n",
    "for graph_name in graph_names:\n",
    "    graph_test = GraphInfo(graph_name)._graph\n",
    "    start_nodes_test = cd.generate_multiple_source(\n",
    "        graph_test, int(0.05 * len(graph_test.nodes))\n",
    "    )\n",
    "    for matrix_type, matrix_format in matrix_types_test.items():\n",
    "        for regex in regexes[\"generations\"]:\n",
    "            st = time.time()\n",
    "            experimental_tensor_based_rpq(\n",
    "                regex,\n",
    "                graph_test,\n",
    "                start_nodes_test,\n",
    "                None,\n",
    "                matrix_type,\n",
    "                matrix_format,\n",
    "            )\n",
    "            fn = time.time()\n",
    "            elapsed_time = fn - st\n",
    "            time_total += fn - st\n",
    "            print(\n",
    "                f\"tensor_based_rqp | {matrix_type.__name__} | ({regex}): {elapsed_time}\"\n",
    "            )\n",
    "    print(\n",
    "        f\"Time total for one repeat of tensor_based_rpq using dok_matrix, {graph_name} graph and 4 different regexes: {time_total:.3f}\\n Approximate time needed for the whole experiment: {(time_total * times * len(graph_names)):.3f} s = {(time_total * times * len(graph_names) / 3600):.3f} h\"\n",
    "    )"
   ]
  },
  {
   "cell_type": "code",
   "execution_count": 8,
   "metadata": {},
   "outputs": [],
   "source": [
    "def conduct_experiment(rpq_function, matrix_types, graph_names, times, regexes):\n",
    "    for graph_name in graph_names:\n",
    "        graph = GraphInfo(graph_name)._graph\n",
    "        start_nodes_percentages = [0.05, 0.3, 0.5, 0.8, 1]\n",
    "        for percentage in start_nodes_percentages:\n",
    "            start_nodes = cd.generate_multiple_source(\n",
    "                graph, int(percentage * len(graph.nodes))\n",
    "            )\n",
    "            final_nodes = None\n",
    "\n",
    "            for regex in regexes[graph_name]:\n",
    "                for matrix_type, matrix_format in matrix_types.items():\n",
    "                    if (\n",
    "                        matrix_format == \"dok\"\n",
    "                        and rpq_function == experimental_tensor_based_rpq\n",
    "                    ):\n",
    "                        continue\n",
    "                    else:\n",
    "                        elapsed_time = 0\n",
    "                        for _ in range(times):\n",
    "                            st = time.time()\n",
    "                            rpq_function(\n",
    "                                regex,\n",
    "                                graph,\n",
    "                                start_nodes,\n",
    "                                final_nodes,\n",
    "                                matrix_type,\n",
    "                                matrix_format,\n",
    "                            )\n",
    "                            fn = time.time()\n",
    "                            elapsed_time += fn - st\n",
    "\n",
    "                        results[\"algorithm\"].append(rpq_function.__name__)\n",
    "                        results[\"graph_name\"].append(graph_name)\n",
    "                        results[\"matrix_format\"].append(matrix_format)\n",
    "                        results[\"regex\"].append(regex)\n",
    "                        results[\"start_nodes_percentage\"].append(\n",
    "                            f\"{int(percentage*100)}%\"\n",
    "                        )\n",
    "                        results[\"time\"].append(elapsed_time / times)\n",
    "\n",
    "                        print(\n",
    "                            f\"{graph_name} | {rpq_function.__name__} | {percentage * 100}% | ({regex}) | {matrix_type.__name__} | {elapsed_time / times:.3f}\"\n",
    "                        )"
   ]
  },
  {
   "cell_type": "code",
   "execution_count": 9,
   "metadata": {},
   "outputs": [
    {
     "name": "stderr",
     "output_type": "stream",
     "text": [
      "[2024-10-16 01:46:44]>INFO>Found graph with name='generations'\n",
      "[2024-10-16 01:46:45]>INFO>Load archive graph_archive=PosixPath('/home/alex/dev/uni/formal-lang-course/.venv/lib/python3.12/site-packages/cfpq_data/data/graphs/generations.tar.gz')\n",
      "[2024-10-16 01:46:45]>INFO>Unzip graph name='generations' to file graph=PosixPath('/home/alex/dev/uni/formal-lang-course/.venv/lib/python3.12/site-packages/cfpq_data/data/graphs/generations/generations.csv')\n",
      "[2024-10-16 01:46:45]>INFO>Remove archive graph_archive=PosixPath('/home/alex/dev/uni/formal-lang-course/.venv/lib/python3.12/site-packages/cfpq_data/data/graphs/generations.tar.gz')\n",
      "[2024-10-16 01:46:45]>INFO>Load graph=<networkx.classes.multidigraph.MultiDiGraph object at 0x7f5552065850> from path=PosixPath('/home/alex/dev/uni/formal-lang-course/.venv/lib/python3.12/site-packages/cfpq_data/data/graphs/generations/generations.csv')\n",
      "[2024-10-16 01:46:45]>INFO>Construct labels_frequency=defaultdict(<class 'int'>, {'rest': 45, 'first': 45, 'onProperty': 27, 'type': 78, 'hasValue': 12, 'someValuesFrom': 15, 'equivalentClass': 17, 'intersectionOf': 18, 'inverseOf': 2, 'range': 1, 'hasSibling': 1, 'sameAs': 2, 'hasParent': 2, 'hasSex': 4, 'hasChild': 2, 'versionInfo': 1, 'oneOf': 1}) for graph=<networkx.classes.multidigraph.MultiDiGraph object at 0x7f5552065850>\n",
      "[2024-10-16 01:46:45]>INFO>Sort edge labels=['type', 'first', 'rest', 'onProperty', 'intersectionOf', 'equivalentClass', 'someValuesFrom', 'hasValue', 'hasSex', 'hasChild', 'hasParent', 'inverseOf', 'sameAs', 'hasSibling', 'oneOf', 'range', 'versionInfo'] of graph=<networkx.classes.multidigraph.MultiDiGraph object at 0x7f5552065850>\n",
      "[2024-10-16 01:46:45]>INFO>Generate set of source vertices of 6 nodes for graph=<networkx.classes.multidigraph.MultiDiGraph object at 0x7f5552065850> for multiple-source evaluation\n"
     ]
    },
    {
     "name": "stdout",
     "output_type": "stream",
     "text": [
      "generations | experimental_tensor_based_rpq | 5.0% | (type* | rest) | csr_matrix | 0.267\n",
      "generations | experimental_tensor_based_rpq | 5.0% | (type* | rest) | csc_matrix | 0.274\n",
      "generations | experimental_tensor_based_rpq | 5.0% | (type* | rest) | lil_matrix | 0.262\n",
      "generations | experimental_tensor_based_rpq | 5.0% | ((type | rest)* first) | csr_matrix | 0.828\n",
      "generations | experimental_tensor_based_rpq | 5.0% | ((type | rest)* first) | csc_matrix | 0.842\n",
      "generations | experimental_tensor_based_rpq | 5.0% | ((type | rest)* first) | lil_matrix | 0.842\n",
      "generations | experimental_tensor_based_rpq | 5.0% | ((type | rest)+ first*) | csr_matrix | 0.173\n",
      "generations | experimental_tensor_based_rpq | 5.0% | ((type | rest)+ first*) | csc_matrix | 0.177\n",
      "generations | experimental_tensor_based_rpq | 5.0% | ((type | rest)+ first*) | lil_matrix | 0.184\n",
      "generations | experimental_tensor_based_rpq | 5.0% | (type rest first (onProperty | type)*) | csr_matrix | 2.185\n",
      "generations | experimental_tensor_based_rpq | 5.0% | (type rest first (onProperty | type)*) | csc_matrix | 2.235\n"
     ]
    },
    {
     "name": "stderr",
     "output_type": "stream",
     "text": [
      "[2024-10-16 01:50:14]>INFO>Generate set of source vertices of 38 nodes for graph=<networkx.classes.multidigraph.MultiDiGraph object at 0x7f5552065850> for multiple-source evaluation\n"
     ]
    },
    {
     "name": "stdout",
     "output_type": "stream",
     "text": [
      "generations | experimental_tensor_based_rpq | 5.0% | (type rest first (onProperty | type)*) | lil_matrix | 2.220\n",
      "generations | experimental_tensor_based_rpq | 30.0% | (type* | rest) | csr_matrix | 0.488\n",
      "generations | experimental_tensor_based_rpq | 30.0% | (type* | rest) | csc_matrix | 0.489\n",
      "generations | experimental_tensor_based_rpq | 30.0% | (type* | rest) | lil_matrix | 0.497\n",
      "generations | experimental_tensor_based_rpq | 30.0% | ((type | rest)* first) | csr_matrix | 1.560\n",
      "generations | experimental_tensor_based_rpq | 30.0% | ((type | rest)* first) | csc_matrix | 1.536\n",
      "generations | experimental_tensor_based_rpq | 30.0% | ((type | rest)* first) | lil_matrix | 1.529\n",
      "generations | experimental_tensor_based_rpq | 30.0% | ((type | rest)+ first*) | csr_matrix | 0.329\n",
      "generations | experimental_tensor_based_rpq | 30.0% | ((type | rest)+ first*) | csc_matrix | 0.353\n",
      "generations | experimental_tensor_based_rpq | 30.0% | ((type | rest)+ first*) | lil_matrix | 0.333\n",
      "generations | experimental_tensor_based_rpq | 30.0% | (type rest first (onProperty | type)*) | csr_matrix | 4.146\n",
      "generations | experimental_tensor_based_rpq | 30.0% | (type rest first (onProperty | type)*) | csc_matrix | 4.228\n"
     ]
    },
    {
     "name": "stderr",
     "output_type": "stream",
     "text": [
      "[2024-10-16 01:56:47]>INFO>Generate set of source vertices of 64 nodes for graph=<networkx.classes.multidigraph.MultiDiGraph object at 0x7f5552065850> for multiple-source evaluation\n"
     ]
    },
    {
     "name": "stdout",
     "output_type": "stream",
     "text": [
      "generations | experimental_tensor_based_rpq | 30.0% | (type rest first (onProperty | type)*) | lil_matrix | 4.139\n",
      "generations | experimental_tensor_based_rpq | 50.0% | (type* | rest) | csr_matrix | 0.731\n",
      "generations | experimental_tensor_based_rpq | 50.0% | (type* | rest) | csc_matrix | 0.740\n",
      "generations | experimental_tensor_based_rpq | 50.0% | (type* | rest) | lil_matrix | 0.768\n",
      "generations | experimental_tensor_based_rpq | 50.0% | ((type | rest)* first) | csr_matrix | 2.322\n",
      "generations | experimental_tensor_based_rpq | 50.0% | ((type | rest)* first) | csc_matrix | 2.345\n",
      "generations | experimental_tensor_based_rpq | 50.0% | ((type | rest)* first) | lil_matrix | 2.408\n",
      "generations | experimental_tensor_based_rpq | 50.0% | ((type | rest)+ first*) | csr_matrix | 0.496\n",
      "generations | experimental_tensor_based_rpq | 50.0% | ((type | rest)+ first*) | csc_matrix | 0.531\n",
      "generations | experimental_tensor_based_rpq | 50.0% | ((type | rest)+ first*) | lil_matrix | 0.526\n",
      "generations | experimental_tensor_based_rpq | 50.0% | (type rest first (onProperty | type)*) | csr_matrix | 6.329\n",
      "generations | experimental_tensor_based_rpq | 50.0% | (type rest first (onProperty | type)*) | csc_matrix | 6.440\n"
     ]
    },
    {
     "name": "stderr",
     "output_type": "stream",
     "text": [
      "[2024-10-16 02:06:47]>INFO>Generate set of source vertices of 103 nodes for graph=<networkx.classes.multidigraph.MultiDiGraph object at 0x7f5552065850> for multiple-source evaluation\n"
     ]
    },
    {
     "name": "stdout",
     "output_type": "stream",
     "text": [
      "generations | experimental_tensor_based_rpq | 50.0% | (type rest first (onProperty | type)*) | lil_matrix | 6.365\n",
      "generations | experimental_tensor_based_rpq | 80.0% | (type* | rest) | csr_matrix | 1.271\n",
      "generations | experimental_tensor_based_rpq | 80.0% | (type* | rest) | csc_matrix | 1.305\n",
      "generations | experimental_tensor_based_rpq | 80.0% | (type* | rest) | lil_matrix | 1.280\n",
      "generations | experimental_tensor_based_rpq | 80.0% | ((type | rest)* first) | csr_matrix | 4.070\n",
      "generations | experimental_tensor_based_rpq | 80.0% | ((type | rest)* first) | csc_matrix | 4.058\n",
      "generations | experimental_tensor_based_rpq | 80.0% | ((type | rest)* first) | lil_matrix | 4.078\n",
      "generations | experimental_tensor_based_rpq | 80.0% | ((type | rest)+ first*) | csr_matrix | 0.832\n",
      "generations | experimental_tensor_based_rpq | 80.0% | ((type | rest)+ first*) | csc_matrix | 0.886\n",
      "generations | experimental_tensor_based_rpq | 80.0% | ((type | rest)+ first*) | lil_matrix | 0.886\n",
      "generations | experimental_tensor_based_rpq | 80.0% | (type rest first (onProperty | type)*) | csr_matrix | 10.983\n",
      "generations | experimental_tensor_based_rpq | 80.0% | (type rest first (onProperty | type)*) | csc_matrix | 11.101\n"
     ]
    },
    {
     "name": "stderr",
     "output_type": "stream",
     "text": [
      "[2024-10-16 02:24:07]>INFO>Generate set of source vertices of 129 nodes for graph=<networkx.classes.multidigraph.MultiDiGraph object at 0x7f5552065850> for multiple-source evaluation\n"
     ]
    },
    {
     "name": "stdout",
     "output_type": "stream",
     "text": [
      "generations | experimental_tensor_based_rpq | 80.0% | (type rest first (onProperty | type)*) | lil_matrix | 11.239\n",
      "generations | experimental_tensor_based_rpq | 100% | (type* | rest) | csr_matrix | 1.764\n",
      "generations | experimental_tensor_based_rpq | 100% | (type* | rest) | csc_matrix | 1.782\n",
      "generations | experimental_tensor_based_rpq | 100% | (type* | rest) | lil_matrix | 1.704\n",
      "generations | experimental_tensor_based_rpq | 100% | ((type | rest)* first) | csr_matrix | 5.340\n",
      "generations | experimental_tensor_based_rpq | 100% | ((type | rest)* first) | csc_matrix | 5.350\n",
      "generations | experimental_tensor_based_rpq | 100% | ((type | rest)* first) | lil_matrix | 5.339\n",
      "generations | experimental_tensor_based_rpq | 100% | ((type | rest)+ first*) | csr_matrix | 1.110\n",
      "generations | experimental_tensor_based_rpq | 100% | ((type | rest)+ first*) | csc_matrix | 1.151\n",
      "generations | experimental_tensor_based_rpq | 100% | ((type | rest)+ first*) | lil_matrix | 1.125\n",
      "generations | experimental_tensor_based_rpq | 100% | (type rest first (onProperty | type)*) | csr_matrix | 14.456\n",
      "generations | experimental_tensor_based_rpq | 100% | (type rest first (onProperty | type)*) | csc_matrix | 14.541\n"
     ]
    },
    {
     "name": "stderr",
     "output_type": "stream",
     "text": [
      "[2024-10-16 02:46:50]>INFO>Found graph with name='travel'\n",
      "[2024-10-16 02:46:50]>INFO>Load archive graph_archive=PosixPath('/home/alex/dev/uni/formal-lang-course/.venv/lib/python3.12/site-packages/cfpq_data/data/graphs/travel.tar.gz')\n",
      "[2024-10-16 02:46:50]>INFO>Unzip graph name='travel' to file graph=PosixPath('/home/alex/dev/uni/formal-lang-course/.venv/lib/python3.12/site-packages/cfpq_data/data/graphs/travel/travel.csv')\n",
      "[2024-10-16 02:46:50]>INFO>Remove archive graph_archive=PosixPath('/home/alex/dev/uni/formal-lang-course/.venv/lib/python3.12/site-packages/cfpq_data/data/graphs/travel.tar.gz')\n",
      "[2024-10-16 02:46:50]>INFO>Load graph=<networkx.classes.multidigraph.MultiDiGraph object at 0x7f55a01d1670> from path=PosixPath('/home/alex/dev/uni/formal-lang-course/.venv/lib/python3.12/site-packages/cfpq_data/data/graphs/travel/travel.csv')\n",
      "[2024-10-16 02:46:50]>INFO>Construct labels_frequency=defaultdict(<class 'int'>, {'type': 90, 'subClassOf': 30, 'disjointWith': 20, 'first': 24, 'rest': 24, 'onProperty': 15, 'someValuesFrom': 10, 'domain': 10, 'range': 10, 'oneOf': 2, 'comment': 9, 'equivalentClass': 7, 'intersectionOf': 7, 'minCardinality': 2, 'inverseOf': 2, 'differentFrom': 6, 'hasAccommodation': 1, 'hasPart': 2, 'unionOf': 1, 'hasValue': 3, 'complementOf': 1, 'versionInfo': 1}) for graph=<networkx.classes.multidigraph.MultiDiGraph object at 0x7f55a01d1670>\n",
      "[2024-10-16 02:46:50]>INFO>Sort edge labels=['type', 'subClassOf', 'first', 'rest', 'disjointWith', 'onProperty', 'domain', 'range', 'someValuesFrom', 'comment', 'equivalentClass', 'intersectionOf', 'differentFrom', 'hasValue', 'hasPart', 'inverseOf', 'minCardinality', 'oneOf', 'complementOf', 'hasAccommodation', 'unionOf', 'versionInfo'] of graph=<networkx.classes.multidigraph.MultiDiGraph object at 0x7f55a01d1670>\n",
      "[2024-10-16 02:46:50]>INFO>Generate set of source vertices of 6 nodes for graph=<networkx.classes.multidigraph.MultiDiGraph object at 0x7f55a01d1670> for multiple-source evaluation\n"
     ]
    },
    {
     "name": "stdout",
     "output_type": "stream",
     "text": [
      "generations | experimental_tensor_based_rpq | 100% | (type rest first (onProperty | type)*) | lil_matrix | 14.495\n",
      "travel | experimental_tensor_based_rpq | 5.0% | (type* | subClassOf) | csr_matrix | 0.259\n",
      "travel | experimental_tensor_based_rpq | 5.0% | (type* | subClassOf) | csc_matrix | 0.269\n",
      "travel | experimental_tensor_based_rpq | 5.0% | (type* | subClassOf) | lil_matrix | 0.266\n",
      "travel | experimental_tensor_based_rpq | 5.0% | ((type | subClassOf)* rest) | csr_matrix | 0.815\n",
      "travel | experimental_tensor_based_rpq | 5.0% | ((type | subClassOf)* rest) | csc_matrix | 0.825\n",
      "travel | experimental_tensor_based_rpq | 5.0% | ((type | subClassOf)* rest) | lil_matrix | 0.828\n",
      "travel | experimental_tensor_based_rpq | 5.0% | ((type | subClassOf)+ rest*) | csr_matrix | 0.817\n",
      "travel | experimental_tensor_based_rpq | 5.0% | ((type | subClassOf)+ rest*) | csc_matrix | 0.822\n",
      "travel | experimental_tensor_based_rpq | 5.0% | ((type | subClassOf)+ rest*) | lil_matrix | 0.818\n",
      "travel | experimental_tensor_based_rpq | 5.0% | (type subClassOf rest (first | type)*) | csr_matrix | 2.181\n",
      "travel | experimental_tensor_based_rpq | 5.0% | (type subClassOf rest (first | type)*) | csc_matrix | 2.224\n"
     ]
    },
    {
     "name": "stderr",
     "output_type": "stream",
     "text": [
      "[2024-10-16 02:50:56]>INFO>Generate set of source vertices of 39 nodes for graph=<networkx.classes.multidigraph.MultiDiGraph object at 0x7f55a01d1670> for multiple-source evaluation\n"
     ]
    },
    {
     "name": "stdout",
     "output_type": "stream",
     "text": [
      "travel | experimental_tensor_based_rpq | 5.0% | (type subClassOf rest (first | type)*) | lil_matrix | 2.189\n",
      "travel | experimental_tensor_based_rpq | 30.0% | (type* | subClassOf) | csr_matrix | 0.490\n",
      "travel | experimental_tensor_based_rpq | 30.0% | (type* | subClassOf) | csc_matrix | 0.494\n",
      "travel | experimental_tensor_based_rpq | 30.0% | (type* | subClassOf) | lil_matrix | 0.501\n",
      "travel | experimental_tensor_based_rpq | 30.0% | ((type | subClassOf)* rest) | csr_matrix | 1.538\n",
      "travel | experimental_tensor_based_rpq | 30.0% | ((type | subClassOf)* rest) | csc_matrix | 1.537\n",
      "travel | experimental_tensor_based_rpq | 30.0% | ((type | subClassOf)* rest) | lil_matrix | 1.546\n",
      "travel | experimental_tensor_based_rpq | 30.0% | ((type | subClassOf)+ rest*) | csr_matrix | 1.525\n",
      "travel | experimental_tensor_based_rpq | 30.0% | ((type | subClassOf)+ rest*) | csc_matrix | 1.542\n",
      "travel | experimental_tensor_based_rpq | 30.0% | ((type | subClassOf)+ rest*) | lil_matrix | 1.564\n",
      "travel | experimental_tensor_based_rpq | 30.0% | (type subClassOf rest (first | type)*) | csr_matrix | 4.177\n",
      "travel | experimental_tensor_based_rpq | 30.0% | (type subClassOf rest (first | type)*) | csc_matrix | 4.183\n"
     ]
    },
    {
     "name": "stderr",
     "output_type": "stream",
     "text": [
      "[2024-10-16 02:58:42]>INFO>Generate set of source vertices of 65 nodes for graph=<networkx.classes.multidigraph.MultiDiGraph object at 0x7f55a01d1670> for multiple-source evaluation\n"
     ]
    },
    {
     "name": "stdout",
     "output_type": "stream",
     "text": [
      "travel | experimental_tensor_based_rpq | 30.0% | (type subClassOf rest (first | type)*) | lil_matrix | 4.170\n",
      "travel | experimental_tensor_based_rpq | 50.0% | (type* | subClassOf) | csr_matrix | 0.744\n",
      "travel | experimental_tensor_based_rpq | 50.0% | (type* | subClassOf) | csc_matrix | 0.749\n",
      "travel | experimental_tensor_based_rpq | 50.0% | (type* | subClassOf) | lil_matrix | 0.763\n",
      "travel | experimental_tensor_based_rpq | 50.0% | ((type | subClassOf)* rest) | csr_matrix | 2.334\n",
      "travel | experimental_tensor_based_rpq | 50.0% | ((type | subClassOf)* rest) | csc_matrix | 2.362\n",
      "travel | experimental_tensor_based_rpq | 50.0% | ((type | subClassOf)* rest) | lil_matrix | 2.368\n",
      "travel | experimental_tensor_based_rpq | 50.0% | ((type | subClassOf)+ rest*) | csr_matrix | 2.342\n",
      "travel | experimental_tensor_based_rpq | 50.0% | ((type | subClassOf)+ rest*) | csc_matrix | 2.360\n",
      "travel | experimental_tensor_based_rpq | 50.0% | ((type | subClassOf)+ rest*) | lil_matrix | 2.358\n",
      "travel | experimental_tensor_based_rpq | 50.0% | (type subClassOf rest (first | type)*) | csr_matrix | 6.355\n",
      "travel | experimental_tensor_based_rpq | 50.0% | (type subClassOf rest (first | type)*) | csc_matrix | 6.405\n"
     ]
    },
    {
     "name": "stderr",
     "output_type": "stream",
     "text": [
      "[2024-10-16 03:10:32]>INFO>Generate set of source vertices of 104 nodes for graph=<networkx.classes.multidigraph.MultiDiGraph object at 0x7f55a01d1670> for multiple-source evaluation\n"
     ]
    },
    {
     "name": "stdout",
     "output_type": "stream",
     "text": [
      "travel | experimental_tensor_based_rpq | 50.0% | (type subClassOf rest (first | type)*) | lil_matrix | 6.398\n",
      "travel | experimental_tensor_based_rpq | 80.0% | (type* | subClassOf) | csr_matrix | 1.262\n",
      "travel | experimental_tensor_based_rpq | 80.0% | (type* | subClassOf) | csc_matrix | 1.276\n",
      "travel | experimental_tensor_based_rpq | 80.0% | (type* | subClassOf) | lil_matrix | 1.285\n",
      "travel | experimental_tensor_based_rpq | 80.0% | ((type | subClassOf)* rest) | csr_matrix | 3.998\n",
      "travel | experimental_tensor_based_rpq | 80.0% | ((type | subClassOf)* rest) | csc_matrix | 4.056\n",
      "travel | experimental_tensor_based_rpq | 80.0% | ((type | subClassOf)* rest) | lil_matrix | 4.027\n",
      "travel | experimental_tensor_based_rpq | 80.0% | ((type | subClassOf)+ rest*) | csr_matrix | 4.023\n",
      "travel | experimental_tensor_based_rpq | 80.0% | ((type | subClassOf)+ rest*) | csc_matrix | 4.057\n",
      "travel | experimental_tensor_based_rpq | 80.0% | ((type | subClassOf)+ rest*) | lil_matrix | 4.042\n",
      "travel | experimental_tensor_based_rpq | 80.0% | (type subClassOf rest (first | type)*) | csr_matrix | 10.858\n",
      "travel | experimental_tensor_based_rpq | 80.0% | (type subClassOf rest (first | type)*) | csc_matrix | 11.024\n"
     ]
    },
    {
     "name": "stderr",
     "output_type": "stream",
     "text": [
      "[2024-10-16 03:30:48]>INFO>Generate set of source vertices of 131 nodes for graph=<networkx.classes.multidigraph.MultiDiGraph object at 0x7f55a01d1670> for multiple-source evaluation\n"
     ]
    },
    {
     "name": "stdout",
     "output_type": "stream",
     "text": [
      "travel | experimental_tensor_based_rpq | 80.0% | (type subClassOf rest (first | type)*) | lil_matrix | 10.892\n",
      "travel | experimental_tensor_based_rpq | 100% | (type* | subClassOf) | csr_matrix | 1.743\n",
      "travel | experimental_tensor_based_rpq | 100% | (type* | subClassOf) | csc_matrix | 1.755\n",
      "travel | experimental_tensor_based_rpq | 100% | (type* | subClassOf) | lil_matrix | 1.749\n",
      "travel | experimental_tensor_based_rpq | 100% | ((type | subClassOf)* rest) | csr_matrix | 5.514\n",
      "travel | experimental_tensor_based_rpq | 100% | ((type | subClassOf)* rest) | csc_matrix | 5.588\n",
      "travel | experimental_tensor_based_rpq | 100% | ((type | subClassOf)* rest) | lil_matrix | 5.570\n",
      "travel | experimental_tensor_based_rpq | 100% | ((type | subClassOf)+ rest*) | csr_matrix | 5.557\n",
      "travel | experimental_tensor_based_rpq | 100% | ((type | subClassOf)+ rest*) | csc_matrix | 5.614\n",
      "travel | experimental_tensor_based_rpq | 100% | ((type | subClassOf)+ rest*) | lil_matrix | 5.560\n",
      "travel | experimental_tensor_based_rpq | 100% | (type subClassOf rest (first | type)*) | csr_matrix | 15.057\n",
      "travel | experimental_tensor_based_rpq | 100% | (type subClassOf rest (first | type)*) | csc_matrix | 15.159\n"
     ]
    },
    {
     "name": "stderr",
     "output_type": "stream",
     "text": [
      "[2024-10-16 03:58:48]>INFO>Found graph with name='generations'\n",
      "[2024-10-16 03:58:48]>INFO>Load archive graph_archive=PosixPath('/home/alex/dev/uni/formal-lang-course/.venv/lib/python3.12/site-packages/cfpq_data/data/graphs/generations.tar.gz')\n",
      "[2024-10-16 03:58:48]>INFO>Unzip graph name='generations' to file graph=PosixPath('/home/alex/dev/uni/formal-lang-course/.venv/lib/python3.12/site-packages/cfpq_data/data/graphs/generations/generations.csv')\n",
      "[2024-10-16 03:58:48]>INFO>Remove archive graph_archive=PosixPath('/home/alex/dev/uni/formal-lang-course/.venv/lib/python3.12/site-packages/cfpq_data/data/graphs/generations.tar.gz')\n",
      "[2024-10-16 03:58:48]>INFO>Load graph=<networkx.classes.multidigraph.MultiDiGraph object at 0x7f55901528a0> from path=PosixPath('/home/alex/dev/uni/formal-lang-course/.venv/lib/python3.12/site-packages/cfpq_data/data/graphs/generations/generations.csv')\n",
      "[2024-10-16 03:58:48]>INFO>Construct labels_frequency=defaultdict(<class 'int'>, {'rest': 45, 'first': 45, 'onProperty': 27, 'type': 78, 'hasValue': 12, 'someValuesFrom': 15, 'equivalentClass': 17, 'intersectionOf': 18, 'inverseOf': 2, 'range': 1, 'hasSibling': 1, 'sameAs': 2, 'hasParent': 2, 'hasSex': 4, 'hasChild': 2, 'versionInfo': 1, 'oneOf': 1}) for graph=<networkx.classes.multidigraph.MultiDiGraph object at 0x7f55901528a0>\n",
      "[2024-10-16 03:58:48]>INFO>Sort edge labels=['type', 'first', 'rest', 'onProperty', 'intersectionOf', 'equivalentClass', 'someValuesFrom', 'hasValue', 'hasSex', 'hasChild', 'hasParent', 'inverseOf', 'sameAs', 'hasSibling', 'oneOf', 'range', 'versionInfo'] of graph=<networkx.classes.multidigraph.MultiDiGraph object at 0x7f55901528a0>\n",
      "[2024-10-16 03:58:48]>INFO>Generate set of source vertices of 6 nodes for graph=<networkx.classes.multidigraph.MultiDiGraph object at 0x7f55901528a0> for multiple-source evaluation\n"
     ]
    },
    {
     "name": "stdout",
     "output_type": "stream",
     "text": [
      "travel | experimental_tensor_based_rpq | 100% | (type subClassOf rest (first | type)*) | lil_matrix | 15.116\n"
     ]
    },
    {
     "name": "stderr",
     "output_type": "stream",
     "text": [
      "/home/alex/dev/uni/formal-lang-course/.venv/lib/python3.12/site-packages/scipy/sparse/_index.py:142: SparseEfficiencyWarning: Changing the sparsity structure of a csr_matrix is expensive. lil and dok are more efficient.\n",
      "  self._set_arrayXarray_sparse(i, j, x)\n"
     ]
    },
    {
     "name": "stdout",
     "output_type": "stream",
     "text": [
      "generations | experimental_ms_bfs_based_rpq | 5.0% | (type* | rest) | csr_matrix | 0.017\n"
     ]
    },
    {
     "name": "stderr",
     "output_type": "stream",
     "text": [
      "/home/alex/dev/uni/formal-lang-course/.venv/lib/python3.12/site-packages/scipy/sparse/_index.py:142: SparseEfficiencyWarning: Changing the sparsity structure of a csc_matrix is expensive. lil and dok are more efficient.\n",
      "  self._set_arrayXarray_sparse(i, j, x)\n"
     ]
    },
    {
     "name": "stdout",
     "output_type": "stream",
     "text": [
      "generations | experimental_ms_bfs_based_rpq | 5.0% | (type* | rest) | csc_matrix | 0.019\n",
      "generations | experimental_ms_bfs_based_rpq | 5.0% | (type* | rest) | dok_matrix | 0.023\n",
      "generations | experimental_ms_bfs_based_rpq | 5.0% | (type* | rest) | lil_matrix | 0.026\n",
      "generations | experimental_ms_bfs_based_rpq | 5.0% | ((type | rest)* first) | csr_matrix | 0.022\n",
      "generations | experimental_ms_bfs_based_rpq | 5.0% | ((type | rest)* first) | csc_matrix | 0.020\n",
      "generations | experimental_ms_bfs_based_rpq | 5.0% | ((type | rest)* first) | dok_matrix | 0.024\n",
      "generations | experimental_ms_bfs_based_rpq | 5.0% | ((type | rest)* first) | lil_matrix | 0.029\n",
      "generations | experimental_ms_bfs_based_rpq | 5.0% | ((type | rest)+ first*) | csr_matrix | 0.020\n",
      "generations | experimental_ms_bfs_based_rpq | 5.0% | ((type | rest)+ first*) | csc_matrix | 0.021\n",
      "generations | experimental_ms_bfs_based_rpq | 5.0% | ((type | rest)+ first*) | dok_matrix | 0.028\n",
      "generations | experimental_ms_bfs_based_rpq | 5.0% | ((type | rest)+ first*) | lil_matrix | 0.035\n",
      "generations | experimental_ms_bfs_based_rpq | 5.0% | (type rest first (onProperty | type)*) | csr_matrix | 0.026\n",
      "generations | experimental_ms_bfs_based_rpq | 5.0% | (type rest first (onProperty | type)*) | csc_matrix | 0.027\n",
      "generations | experimental_ms_bfs_based_rpq | 5.0% | (type rest first (onProperty | type)*) | dok_matrix | 0.033\n"
     ]
    },
    {
     "name": "stderr",
     "output_type": "stream",
     "text": [
      "[2024-10-16 03:58:56]>INFO>Generate set of source vertices of 38 nodes for graph=<networkx.classes.multidigraph.MultiDiGraph object at 0x7f55901528a0> for multiple-source evaluation\n"
     ]
    },
    {
     "name": "stdout",
     "output_type": "stream",
     "text": [
      "generations | experimental_ms_bfs_based_rpq | 5.0% | (type rest first (onProperty | type)*) | lil_matrix | 0.038\n",
      "generations | experimental_ms_bfs_based_rpq | 30.0% | (type* | rest) | csr_matrix | 0.079\n",
      "generations | experimental_ms_bfs_based_rpq | 30.0% | (type* | rest) | csc_matrix | 0.081\n",
      "generations | experimental_ms_bfs_based_rpq | 30.0% | (type* | rest) | dok_matrix | 0.120\n",
      "generations | experimental_ms_bfs_based_rpq | 30.0% | (type* | rest) | lil_matrix | 0.115\n",
      "generations | experimental_ms_bfs_based_rpq | 30.0% | ((type | rest)* first) | csr_matrix | 0.142\n",
      "generations | experimental_ms_bfs_based_rpq | 30.0% | ((type | rest)* first) | csc_matrix | 0.140\n",
      "generations | experimental_ms_bfs_based_rpq | 30.0% | ((type | rest)* first) | dok_matrix | 0.180\n",
      "generations | experimental_ms_bfs_based_rpq | 30.0% | ((type | rest)* first) | lil_matrix | 0.158\n",
      "generations | experimental_ms_bfs_based_rpq | 30.0% | ((type | rest)+ first*) | csr_matrix | 0.083\n",
      "generations | experimental_ms_bfs_based_rpq | 30.0% | ((type | rest)+ first*) | csc_matrix | 0.086\n",
      "generations | experimental_ms_bfs_based_rpq | 30.0% | ((type | rest)+ first*) | dok_matrix | 0.129\n",
      "generations | experimental_ms_bfs_based_rpq | 30.0% | ((type | rest)+ first*) | lil_matrix | 0.127\n",
      "generations | experimental_ms_bfs_based_rpq | 30.0% | (type rest first (onProperty | type)*) | csr_matrix | 0.094\n",
      "generations | experimental_ms_bfs_based_rpq | 30.0% | (type rest first (onProperty | type)*) | csc_matrix | 0.100\n",
      "generations | experimental_ms_bfs_based_rpq | 30.0% | (type rest first (onProperty | type)*) | dok_matrix | 0.144\n"
     ]
    },
    {
     "name": "stderr",
     "output_type": "stream",
     "text": [
      "[2024-10-16 03:59:35]>INFO>Generate set of source vertices of 64 nodes for graph=<networkx.classes.multidigraph.MultiDiGraph object at 0x7f55901528a0> for multiple-source evaluation\n"
     ]
    },
    {
     "name": "stdout",
     "output_type": "stream",
     "text": [
      "generations | experimental_ms_bfs_based_rpq | 30.0% | (type rest first (onProperty | type)*) | lil_matrix | 0.132\n",
      "generations | experimental_ms_bfs_based_rpq | 50.0% | (type* | rest) | csr_matrix | 0.124\n",
      "generations | experimental_ms_bfs_based_rpq | 50.0% | (type* | rest) | csc_matrix | 0.129\n",
      "generations | experimental_ms_bfs_based_rpq | 50.0% | (type* | rest) | dok_matrix | 0.195\n",
      "generations | experimental_ms_bfs_based_rpq | 50.0% | (type* | rest) | lil_matrix | 0.181\n",
      "generations | experimental_ms_bfs_based_rpq | 50.0% | ((type | rest)* first) | csr_matrix | 0.229\n",
      "generations | experimental_ms_bfs_based_rpq | 50.0% | ((type | rest)* first) | csc_matrix | 0.228\n",
      "generations | experimental_ms_bfs_based_rpq | 50.0% | ((type | rest)* first) | dok_matrix | 0.291\n",
      "generations | experimental_ms_bfs_based_rpq | 50.0% | ((type | rest)* first) | lil_matrix | 0.264\n",
      "generations | experimental_ms_bfs_based_rpq | 50.0% | ((type | rest)+ first*) | csr_matrix | 0.134\n",
      "generations | experimental_ms_bfs_based_rpq | 50.0% | ((type | rest)+ first*) | csc_matrix | 0.139\n",
      "generations | experimental_ms_bfs_based_rpq | 50.0% | ((type | rest)+ first*) | dok_matrix | 0.214\n",
      "generations | experimental_ms_bfs_based_rpq | 50.0% | ((type | rest)+ first*) | lil_matrix | 0.205\n",
      "generations | experimental_ms_bfs_based_rpq | 50.0% | (type rest first (onProperty | type)*) | csr_matrix | 0.154\n",
      "generations | experimental_ms_bfs_based_rpq | 50.0% | (type rest first (onProperty | type)*) | csc_matrix | 0.158\n",
      "generations | experimental_ms_bfs_based_rpq | 50.0% | (type rest first (onProperty | type)*) | dok_matrix | 0.228\n"
     ]
    },
    {
     "name": "stderr",
     "output_type": "stream",
     "text": [
      "[2024-10-16 04:00:36]>INFO>Generate set of source vertices of 103 nodes for graph=<networkx.classes.multidigraph.MultiDiGraph object at 0x7f55901528a0> for multiple-source evaluation\n"
     ]
    },
    {
     "name": "stdout",
     "output_type": "stream",
     "text": [
      "generations | experimental_ms_bfs_based_rpq | 50.0% | (type rest first (onProperty | type)*) | lil_matrix | 0.212\n",
      "generations | experimental_ms_bfs_based_rpq | 80.0% | (type* | rest) | csr_matrix | 0.196\n",
      "generations | experimental_ms_bfs_based_rpq | 80.0% | (type* | rest) | csc_matrix | 0.204\n",
      "generations | experimental_ms_bfs_based_rpq | 80.0% | (type* | rest) | dok_matrix | 0.306\n",
      "generations | experimental_ms_bfs_based_rpq | 80.0% | (type* | rest) | lil_matrix | 0.288\n",
      "generations | experimental_ms_bfs_based_rpq | 80.0% | ((type | rest)* first) | csr_matrix | 0.365\n",
      "generations | experimental_ms_bfs_based_rpq | 80.0% | ((type | rest)* first) | csc_matrix | 0.365\n",
      "generations | experimental_ms_bfs_based_rpq | 80.0% | ((type | rest)* first) | dok_matrix | 0.466\n",
      "generations | experimental_ms_bfs_based_rpq | 80.0% | ((type | rest)* first) | lil_matrix | 0.417\n",
      "generations | experimental_ms_bfs_based_rpq | 80.0% | ((type | rest)+ first*) | csr_matrix | 0.206\n",
      "generations | experimental_ms_bfs_based_rpq | 80.0% | ((type | rest)+ first*) | csc_matrix | 0.221\n",
      "generations | experimental_ms_bfs_based_rpq | 80.0% | ((type | rest)+ first*) | dok_matrix | 0.346\n",
      "generations | experimental_ms_bfs_based_rpq | 80.0% | ((type | rest)+ first*) | lil_matrix | 0.324\n",
      "generations | experimental_ms_bfs_based_rpq | 80.0% | (type rest first (onProperty | type)*) | csr_matrix | 0.241\n",
      "generations | experimental_ms_bfs_based_rpq | 80.0% | (type rest first (onProperty | type)*) | csc_matrix | 0.252\n",
      "generations | experimental_ms_bfs_based_rpq | 80.0% | (type rest first (onProperty | type)*) | dok_matrix | 0.358\n"
     ]
    },
    {
     "name": "stderr",
     "output_type": "stream",
     "text": [
      "[2024-10-16 04:02:14]>INFO>Generate set of source vertices of 129 nodes for graph=<networkx.classes.multidigraph.MultiDiGraph object at 0x7f55901528a0> for multiple-source evaluation\n"
     ]
    },
    {
     "name": "stdout",
     "output_type": "stream",
     "text": [
      "generations | experimental_ms_bfs_based_rpq | 80.0% | (type rest first (onProperty | type)*) | lil_matrix | 0.330\n",
      "generations | experimental_ms_bfs_based_rpq | 100% | (type* | rest) | csr_matrix | 0.242\n",
      "generations | experimental_ms_bfs_based_rpq | 100% | (type* | rest) | csc_matrix | 0.256\n",
      "generations | experimental_ms_bfs_based_rpq | 100% | (type* | rest) | dok_matrix | 0.390\n",
      "generations | experimental_ms_bfs_based_rpq | 100% | (type* | rest) | lil_matrix | 0.362\n",
      "generations | experimental_ms_bfs_based_rpq | 100% | ((type | rest)* first) | csr_matrix | 0.462\n",
      "generations | experimental_ms_bfs_based_rpq | 100% | ((type | rest)* first) | csc_matrix | 0.461\n",
      "generations | experimental_ms_bfs_based_rpq | 100% | ((type | rest)* first) | dok_matrix | 0.587\n",
      "generations | experimental_ms_bfs_based_rpq | 100% | ((type | rest)* first) | lil_matrix | 0.518\n",
      "generations | experimental_ms_bfs_based_rpq | 100% | ((type | rest)+ first*) | csr_matrix | 0.259\n",
      "generations | experimental_ms_bfs_based_rpq | 100% | ((type | rest)+ first*) | csc_matrix | 0.272\n",
      "generations | experimental_ms_bfs_based_rpq | 100% | ((type | rest)+ first*) | dok_matrix | 0.435\n",
      "generations | experimental_ms_bfs_based_rpq | 100% | ((type | rest)+ first*) | lil_matrix | 0.410\n",
      "generations | experimental_ms_bfs_based_rpq | 100% | (type rest first (onProperty | type)*) | csr_matrix | 0.302\n",
      "generations | experimental_ms_bfs_based_rpq | 100% | (type rest first (onProperty | type)*) | csc_matrix | 0.313\n",
      "generations | experimental_ms_bfs_based_rpq | 100% | (type rest first (onProperty | type)*) | dok_matrix | 0.454\n"
     ]
    },
    {
     "name": "stderr",
     "output_type": "stream",
     "text": [
      "[2024-10-16 04:04:17]>INFO>Found graph with name='travel'\n"
     ]
    },
    {
     "name": "stdout",
     "output_type": "stream",
     "text": [
      "generations | experimental_ms_bfs_based_rpq | 100% | (type rest first (onProperty | type)*) | lil_matrix | 0.415\n"
     ]
    },
    {
     "name": "stderr",
     "output_type": "stream",
     "text": [
      "[2024-10-16 04:04:17]>INFO>Load archive graph_archive=PosixPath('/home/alex/dev/uni/formal-lang-course/.venv/lib/python3.12/site-packages/cfpq_data/data/graphs/travel.tar.gz')\n",
      "[2024-10-16 04:04:17]>INFO>Unzip graph name='travel' to file graph=PosixPath('/home/alex/dev/uni/formal-lang-course/.venv/lib/python3.12/site-packages/cfpq_data/data/graphs/travel/travel.csv')\n",
      "[2024-10-16 04:04:17]>INFO>Remove archive graph_archive=PosixPath('/home/alex/dev/uni/formal-lang-course/.venv/lib/python3.12/site-packages/cfpq_data/data/graphs/travel.tar.gz')\n",
      "[2024-10-16 04:04:17]>INFO>Load graph=<networkx.classes.multidigraph.MultiDiGraph object at 0x7f5526f86390> from path=PosixPath('/home/alex/dev/uni/formal-lang-course/.venv/lib/python3.12/site-packages/cfpq_data/data/graphs/travel/travel.csv')\n",
      "[2024-10-16 04:04:17]>INFO>Construct labels_frequency=defaultdict(<class 'int'>, {'type': 90, 'subClassOf': 30, 'disjointWith': 20, 'first': 24, 'rest': 24, 'onProperty': 15, 'someValuesFrom': 10, 'domain': 10, 'range': 10, 'oneOf': 2, 'comment': 9, 'equivalentClass': 7, 'intersectionOf': 7, 'minCardinality': 2, 'inverseOf': 2, 'differentFrom': 6, 'hasAccommodation': 1, 'hasPart': 2, 'unionOf': 1, 'hasValue': 3, 'complementOf': 1, 'versionInfo': 1}) for graph=<networkx.classes.multidigraph.MultiDiGraph object at 0x7f5526f86390>\n",
      "[2024-10-16 04:04:17]>INFO>Sort edge labels=['type', 'subClassOf', 'first', 'rest', 'disjointWith', 'onProperty', 'domain', 'range', 'someValuesFrom', 'comment', 'equivalentClass', 'intersectionOf', 'differentFrom', 'hasValue', 'hasPart', 'inverseOf', 'minCardinality', 'oneOf', 'complementOf', 'hasAccommodation', 'unionOf', 'versionInfo'] of graph=<networkx.classes.multidigraph.MultiDiGraph object at 0x7f5526f86390>\n",
      "[2024-10-16 04:04:17]>INFO>Generate set of source vertices of 6 nodes for graph=<networkx.classes.multidigraph.MultiDiGraph object at 0x7f5526f86390> for multiple-source evaluation\n",
      "/home/alex/dev/uni/formal-lang-course/.venv/lib/python3.12/site-packages/scipy/sparse/_index.py:142: SparseEfficiencyWarning: Changing the sparsity structure of a csr_matrix is expensive. lil and dok are more efficient.\n",
      "  self._set_arrayXarray_sparse(i, j, x)\n"
     ]
    },
    {
     "name": "stdout",
     "output_type": "stream",
     "text": [
      "travel | experimental_ms_bfs_based_rpq | 5.0% | (type* | subClassOf) | csr_matrix | 0.020\n"
     ]
    },
    {
     "name": "stderr",
     "output_type": "stream",
     "text": [
      "/home/alex/dev/uni/formal-lang-course/.venv/lib/python3.12/site-packages/scipy/sparse/_index.py:142: SparseEfficiencyWarning: Changing the sparsity structure of a csc_matrix is expensive. lil and dok are more efficient.\n",
      "  self._set_arrayXarray_sparse(i, j, x)\n"
     ]
    },
    {
     "name": "stdout",
     "output_type": "stream",
     "text": [
      "travel | experimental_ms_bfs_based_rpq | 5.0% | (type* | subClassOf) | csc_matrix | 0.018\n",
      "travel | experimental_ms_bfs_based_rpq | 5.0% | (type* | subClassOf) | dok_matrix | 0.023\n",
      "travel | experimental_ms_bfs_based_rpq | 5.0% | (type* | subClassOf) | lil_matrix | 0.028\n",
      "travel | experimental_ms_bfs_based_rpq | 5.0% | ((type | subClassOf)* rest) | csr_matrix | 0.023\n",
      "travel | experimental_ms_bfs_based_rpq | 5.0% | ((type | subClassOf)* rest) | csc_matrix | 0.021\n",
      "travel | experimental_ms_bfs_based_rpq | 5.0% | ((type | subClassOf)* rest) | dok_matrix | 0.026\n",
      "travel | experimental_ms_bfs_based_rpq | 5.0% | ((type | subClassOf)* rest) | lil_matrix | 0.033\n",
      "travel | experimental_ms_bfs_based_rpq | 5.0% | ((type | subClassOf)+ rest*) | csr_matrix | 0.031\n",
      "travel | experimental_ms_bfs_based_rpq | 5.0% | ((type | subClassOf)+ rest*) | csc_matrix | 0.032\n",
      "travel | experimental_ms_bfs_based_rpq | 5.0% | ((type | subClassOf)+ rest*) | dok_matrix | 0.045\n",
      "travel | experimental_ms_bfs_based_rpq | 5.0% | ((type | subClassOf)+ rest*) | lil_matrix | 0.054\n",
      "travel | experimental_ms_bfs_based_rpq | 5.0% | (type subClassOf rest (first | type)*) | csr_matrix | 0.025\n",
      "travel | experimental_ms_bfs_based_rpq | 5.0% | (type subClassOf rest (first | type)*) | csc_matrix | 0.026\n",
      "travel | experimental_ms_bfs_based_rpq | 5.0% | (type subClassOf rest (first | type)*) | dok_matrix | 0.033\n"
     ]
    },
    {
     "name": "stderr",
     "output_type": "stream",
     "text": [
      "[2024-10-16 04:04:27]>INFO>Generate set of source vertices of 39 nodes for graph=<networkx.classes.multidigraph.MultiDiGraph object at 0x7f5526f86390> for multiple-source evaluation\n"
     ]
    },
    {
     "name": "stdout",
     "output_type": "stream",
     "text": [
      "travel | experimental_ms_bfs_based_rpq | 5.0% | (type subClassOf rest (first | type)*) | lil_matrix | 0.038\n",
      "travel | experimental_ms_bfs_based_rpq | 30.0% | (type* | subClassOf) | csr_matrix | 0.079\n",
      "travel | experimental_ms_bfs_based_rpq | 30.0% | (type* | subClassOf) | csc_matrix | 0.083\n",
      "travel | experimental_ms_bfs_based_rpq | 30.0% | (type* | subClassOf) | dok_matrix | 0.120\n",
      "travel | experimental_ms_bfs_based_rpq | 30.0% | (type* | subClassOf) | lil_matrix | 0.119\n",
      "travel | experimental_ms_bfs_based_rpq | 30.0% | ((type | subClassOf)* rest) | csr_matrix | 0.150\n",
      "travel | experimental_ms_bfs_based_rpq | 30.0% | ((type | subClassOf)* rest) | csc_matrix | 0.145\n",
      "travel | experimental_ms_bfs_based_rpq | 30.0% | ((type | subClassOf)* rest) | dok_matrix | 0.183\n",
      "travel | experimental_ms_bfs_based_rpq | 30.0% | ((type | subClassOf)* rest) | lil_matrix | 0.167\n",
      "travel | experimental_ms_bfs_based_rpq | 30.0% | ((type | subClassOf)+ rest*) | csr_matrix | 0.142\n",
      "travel | experimental_ms_bfs_based_rpq | 30.0% | ((type | subClassOf)+ rest*) | csc_matrix | 0.145\n",
      "travel | experimental_ms_bfs_based_rpq | 30.0% | ((type | subClassOf)+ rest*) | dok_matrix | 0.203\n",
      "travel | experimental_ms_bfs_based_rpq | 30.0% | ((type | subClassOf)+ rest*) | lil_matrix | 0.195\n",
      "travel | experimental_ms_bfs_based_rpq | 30.0% | (type subClassOf rest (first | type)*) | csr_matrix | 0.142\n",
      "travel | experimental_ms_bfs_based_rpq | 30.0% | (type subClassOf rest (first | type)*) | csc_matrix | 0.143\n",
      "travel | experimental_ms_bfs_based_rpq | 30.0% | (type subClassOf rest (first | type)*) | dok_matrix | 0.193\n"
     ]
    },
    {
     "name": "stderr",
     "output_type": "stream",
     "text": [
      "[2024-10-16 04:05:15]>INFO>Generate set of source vertices of 65 nodes for graph=<networkx.classes.multidigraph.MultiDiGraph object at 0x7f5526f86390> for multiple-source evaluation\n"
     ]
    },
    {
     "name": "stdout",
     "output_type": "stream",
     "text": [
      "travel | experimental_ms_bfs_based_rpq | 30.0% | (type subClassOf rest (first | type)*) | lil_matrix | 0.180\n",
      "travel | experimental_ms_bfs_based_rpq | 50.0% | (type* | subClassOf) | csr_matrix | 0.127\n",
      "travel | experimental_ms_bfs_based_rpq | 50.0% | (type* | subClassOf) | csc_matrix | 0.133\n",
      "travel | experimental_ms_bfs_based_rpq | 50.0% | (type* | subClassOf) | dok_matrix | 0.194\n",
      "travel | experimental_ms_bfs_based_rpq | 50.0% | (type* | subClassOf) | lil_matrix | 0.190\n",
      "travel | experimental_ms_bfs_based_rpq | 50.0% | ((type | subClassOf)* rest) | csr_matrix | 0.283\n",
      "travel | experimental_ms_bfs_based_rpq | 50.0% | ((type | subClassOf)* rest) | csc_matrix | 0.282\n",
      "travel | experimental_ms_bfs_based_rpq | 50.0% | ((type | subClassOf)* rest) | dok_matrix | 0.355\n",
      "travel | experimental_ms_bfs_based_rpq | 50.0% | ((type | subClassOf)* rest) | lil_matrix | 0.322\n",
      "travel | experimental_ms_bfs_based_rpq | 50.0% | ((type | subClassOf)+ rest*) | csr_matrix | 0.229\n",
      "travel | experimental_ms_bfs_based_rpq | 50.0% | ((type | subClassOf)+ rest*) | csc_matrix | 0.237\n",
      "travel | experimental_ms_bfs_based_rpq | 50.0% | ((type | subClassOf)+ rest*) | dok_matrix | 0.336\n",
      "travel | experimental_ms_bfs_based_rpq | 50.0% | ((type | subClassOf)+ rest*) | lil_matrix | 0.306\n",
      "travel | experimental_ms_bfs_based_rpq | 50.0% | (type subClassOf rest (first | type)*) | csr_matrix | 0.225\n",
      "travel | experimental_ms_bfs_based_rpq | 50.0% | (type subClassOf rest (first | type)*) | csc_matrix | 0.229\n",
      "travel | experimental_ms_bfs_based_rpq | 50.0% | (type subClassOf rest (first | type)*) | dok_matrix | 0.312\n"
     ]
    },
    {
     "name": "stderr",
     "output_type": "stream",
     "text": [
      "[2024-10-16 04:06:36]>INFO>Generate set of source vertices of 104 nodes for graph=<networkx.classes.multidigraph.MultiDiGraph object at 0x7f5526f86390> for multiple-source evaluation\n"
     ]
    },
    {
     "name": "stdout",
     "output_type": "stream",
     "text": [
      "travel | experimental_ms_bfs_based_rpq | 50.0% | (type subClassOf rest (first | type)*) | lil_matrix | 0.290\n",
      "travel | experimental_ms_bfs_based_rpq | 80.0% | (type* | subClassOf) | csr_matrix | 0.196\n",
      "travel | experimental_ms_bfs_based_rpq | 80.0% | (type* | subClassOf) | csc_matrix | 0.207\n",
      "travel | experimental_ms_bfs_based_rpq | 80.0% | (type* | subClassOf) | dok_matrix | 0.311\n",
      "travel | experimental_ms_bfs_based_rpq | 80.0% | (type* | subClassOf) | lil_matrix | 0.293\n",
      "travel | experimental_ms_bfs_based_rpq | 80.0% | ((type | subClassOf)* rest) | csr_matrix | 0.444\n",
      "travel | experimental_ms_bfs_based_rpq | 80.0% | ((type | subClassOf)* rest) | csc_matrix | 0.449\n",
      "travel | experimental_ms_bfs_based_rpq | 80.0% | ((type | subClassOf)* rest) | dok_matrix | 0.559\n",
      "travel | experimental_ms_bfs_based_rpq | 80.0% | ((type | subClassOf)* rest) | lil_matrix | 0.506\n",
      "travel | experimental_ms_bfs_based_rpq | 80.0% | ((type | subClassOf)+ rest*) | csr_matrix | 0.363\n",
      "travel | experimental_ms_bfs_based_rpq | 80.0% | ((type | subClassOf)+ rest*) | csc_matrix | 0.375\n",
      "travel | experimental_ms_bfs_based_rpq | 80.0% | ((type | subClassOf)+ rest*) | dok_matrix | 0.530\n",
      "travel | experimental_ms_bfs_based_rpq | 80.0% | ((type | subClassOf)+ rest*) | lil_matrix | 0.491\n",
      "travel | experimental_ms_bfs_based_rpq | 80.0% | (type subClassOf rest (first | type)*) | csr_matrix | 0.355\n",
      "travel | experimental_ms_bfs_based_rpq | 80.0% | (type subClassOf rest (first | type)*) | csc_matrix | 0.365\n",
      "travel | experimental_ms_bfs_based_rpq | 80.0% | (type subClassOf rest (first | type)*) | dok_matrix | 0.498\n"
     ]
    },
    {
     "name": "stderr",
     "output_type": "stream",
     "text": [
      "[2024-10-16 04:08:44]>INFO>Generate set of source vertices of 131 nodes for graph=<networkx.classes.multidigraph.MultiDiGraph object at 0x7f5526f86390> for multiple-source evaluation\n"
     ]
    },
    {
     "name": "stdout",
     "output_type": "stream",
     "text": [
      "travel | experimental_ms_bfs_based_rpq | 80.0% | (type subClassOf rest (first | type)*) | lil_matrix | 0.457\n",
      "travel | experimental_ms_bfs_based_rpq | 100% | (type* | subClassOf) | csr_matrix | 0.250\n",
      "travel | experimental_ms_bfs_based_rpq | 100% | (type* | subClassOf) | csc_matrix | 0.260\n",
      "travel | experimental_ms_bfs_based_rpq | 100% | (type* | subClassOf) | dok_matrix | 0.392\n",
      "travel | experimental_ms_bfs_based_rpq | 100% | (type* | subClassOf) | lil_matrix | 0.371\n",
      "travel | experimental_ms_bfs_based_rpq | 100% | ((type | subClassOf)* rest) | csr_matrix | 0.571\n",
      "travel | experimental_ms_bfs_based_rpq | 100% | ((type | subClassOf)* rest) | csc_matrix | 0.569\n",
      "travel | experimental_ms_bfs_based_rpq | 100% | ((type | subClassOf)* rest) | dok_matrix | 0.717\n",
      "travel | experimental_ms_bfs_based_rpq | 100% | ((type | subClassOf)* rest) | lil_matrix | 0.632\n",
      "travel | experimental_ms_bfs_based_rpq | 100% | ((type | subClassOf)+ rest*) | csr_matrix | 0.462\n",
      "travel | experimental_ms_bfs_based_rpq | 100% | ((type | subClassOf)+ rest*) | csc_matrix | 0.472\n",
      "travel | experimental_ms_bfs_based_rpq | 100% | ((type | subClassOf)+ rest*) | dok_matrix | 0.681\n",
      "travel | experimental_ms_bfs_based_rpq | 100% | ((type | subClassOf)+ rest*) | lil_matrix | 0.616\n",
      "travel | experimental_ms_bfs_based_rpq | 100% | (type subClassOf rest (first | type)*) | csr_matrix | 0.443\n",
      "travel | experimental_ms_bfs_based_rpq | 100% | (type subClassOf rest (first | type)*) | csc_matrix | 0.457\n",
      "travel | experimental_ms_bfs_based_rpq | 100% | (type subClassOf rest (first | type)*) | dok_matrix | 0.630\n",
      "travel | experimental_ms_bfs_based_rpq | 100% | (type subClassOf rest (first | type)*) | lil_matrix | 0.584\n"
     ]
    }
   ],
   "source": [
    "import json\n",
    "\n",
    "rpq_functions = [experimental_tensor_based_rpq, experimental_ms_bfs_based_rpq]\n",
    "times = 20\n",
    "for rpq_function in rpq_functions:\n",
    "    conduct_experiment(rpq_function, matrix_types, graph_names, times, regexes)\n",
    "\n",
    "with open(\"results.json\", \"w\") as f:\n",
    "    json.dump(results, f)\n",
    "\n",
    "df = pd.DataFrame(results)"
   ]
  },
  {
   "cell_type": "code",
   "execution_count": 10,
   "metadata": {},
   "outputs": [
    {
     "data": {
      "text/html": [
       "<div>\n",
       "<style scoped>\n",
       "    .dataframe tbody tr th:only-of-type {\n",
       "        vertical-align: middle;\n",
       "    }\n",
       "\n",
       "    .dataframe tbody tr th {\n",
       "        vertical-align: top;\n",
       "    }\n",
       "\n",
       "    .dataframe thead th {\n",
       "        text-align: right;\n",
       "    }\n",
       "</style>\n",
       "<table border=\"1\" class=\"dataframe\">\n",
       "  <thead>\n",
       "    <tr style=\"text-align: right;\">\n",
       "      <th></th>\n",
       "      <th>algorithm</th>\n",
       "      <th>graph_name</th>\n",
       "      <th>matrix_format</th>\n",
       "      <th>regex</th>\n",
       "      <th>start_nodes_percentage</th>\n",
       "      <th>time</th>\n",
       "    </tr>\n",
       "  </thead>\n",
       "  <tbody>\n",
       "    <tr>\n",
       "      <th>0</th>\n",
       "      <td>experimental_tensor_based_rpq</td>\n",
       "      <td>generations</td>\n",
       "      <td>csr</td>\n",
       "      <td>type* | rest</td>\n",
       "      <td>5%</td>\n",
       "      <td>0.266902</td>\n",
       "    </tr>\n",
       "    <tr>\n",
       "      <th>1</th>\n",
       "      <td>experimental_tensor_based_rpq</td>\n",
       "      <td>generations</td>\n",
       "      <td>csc</td>\n",
       "      <td>type* | rest</td>\n",
       "      <td>5%</td>\n",
       "      <td>0.274210</td>\n",
       "    </tr>\n",
       "    <tr>\n",
       "      <th>2</th>\n",
       "      <td>experimental_tensor_based_rpq</td>\n",
       "      <td>generations</td>\n",
       "      <td>lil</td>\n",
       "      <td>type* | rest</td>\n",
       "      <td>5%</td>\n",
       "      <td>0.262266</td>\n",
       "    </tr>\n",
       "    <tr>\n",
       "      <th>3</th>\n",
       "      <td>experimental_tensor_based_rpq</td>\n",
       "      <td>generations</td>\n",
       "      <td>csr</td>\n",
       "      <td>(type | rest)* first</td>\n",
       "      <td>5%</td>\n",
       "      <td>0.827805</td>\n",
       "    </tr>\n",
       "    <tr>\n",
       "      <th>4</th>\n",
       "      <td>experimental_tensor_based_rpq</td>\n",
       "      <td>generations</td>\n",
       "      <td>csc</td>\n",
       "      <td>(type | rest)* first</td>\n",
       "      <td>5%</td>\n",
       "      <td>0.841877</td>\n",
       "    </tr>\n",
       "    <tr>\n",
       "      <th>...</th>\n",
       "      <td>...</td>\n",
       "      <td>...</td>\n",
       "      <td>...</td>\n",
       "      <td>...</td>\n",
       "      <td>...</td>\n",
       "      <td>...</td>\n",
       "    </tr>\n",
       "    <tr>\n",
       "      <th>275</th>\n",
       "      <td>experimental_ms_bfs_based_rpq</td>\n",
       "      <td>travel</td>\n",
       "      <td>lil</td>\n",
       "      <td>(type | subClassOf)+ rest*</td>\n",
       "      <td>100%</td>\n",
       "      <td>0.616280</td>\n",
       "    </tr>\n",
       "    <tr>\n",
       "      <th>276</th>\n",
       "      <td>experimental_ms_bfs_based_rpq</td>\n",
       "      <td>travel</td>\n",
       "      <td>csr</td>\n",
       "      <td>type subClassOf rest (first | type)*</td>\n",
       "      <td>100%</td>\n",
       "      <td>0.442907</td>\n",
       "    </tr>\n",
       "    <tr>\n",
       "      <th>277</th>\n",
       "      <td>experimental_ms_bfs_based_rpq</td>\n",
       "      <td>travel</td>\n",
       "      <td>csc</td>\n",
       "      <td>type subClassOf rest (first | type)*</td>\n",
       "      <td>100%</td>\n",
       "      <td>0.456750</td>\n",
       "    </tr>\n",
       "    <tr>\n",
       "      <th>278</th>\n",
       "      <td>experimental_ms_bfs_based_rpq</td>\n",
       "      <td>travel</td>\n",
       "      <td>dok</td>\n",
       "      <td>type subClassOf rest (first | type)*</td>\n",
       "      <td>100%</td>\n",
       "      <td>0.629531</td>\n",
       "    </tr>\n",
       "    <tr>\n",
       "      <th>279</th>\n",
       "      <td>experimental_ms_bfs_based_rpq</td>\n",
       "      <td>travel</td>\n",
       "      <td>lil</td>\n",
       "      <td>type subClassOf rest (first | type)*</td>\n",
       "      <td>100%</td>\n",
       "      <td>0.583781</td>\n",
       "    </tr>\n",
       "  </tbody>\n",
       "</table>\n",
       "<p>280 rows × 6 columns</p>\n",
       "</div>"
      ],
      "text/plain": [
       "                         algorithm   graph_name matrix_format  \\\n",
       "0    experimental_tensor_based_rpq  generations           csr   \n",
       "1    experimental_tensor_based_rpq  generations           csc   \n",
       "2    experimental_tensor_based_rpq  generations           lil   \n",
       "3    experimental_tensor_based_rpq  generations           csr   \n",
       "4    experimental_tensor_based_rpq  generations           csc   \n",
       "..                             ...          ...           ...   \n",
       "275  experimental_ms_bfs_based_rpq       travel           lil   \n",
       "276  experimental_ms_bfs_based_rpq       travel           csr   \n",
       "277  experimental_ms_bfs_based_rpq       travel           csc   \n",
       "278  experimental_ms_bfs_based_rpq       travel           dok   \n",
       "279  experimental_ms_bfs_based_rpq       travel           lil   \n",
       "\n",
       "                                    regex start_nodes_percentage      time  \n",
       "0                            type* | rest                     5%  0.266902  \n",
       "1                            type* | rest                     5%  0.274210  \n",
       "2                            type* | rest                     5%  0.262266  \n",
       "3                    (type | rest)* first                     5%  0.827805  \n",
       "4                    (type | rest)* first                     5%  0.841877  \n",
       "..                                    ...                    ...       ...  \n",
       "275            (type | subClassOf)+ rest*                   100%  0.616280  \n",
       "276  type subClassOf rest (first | type)*                   100%  0.442907  \n",
       "277  type subClassOf rest (first | type)*                   100%  0.456750  \n",
       "278  type subClassOf rest (first | type)*                   100%  0.629531  \n",
       "279  type subClassOf rest (first | type)*                   100%  0.583781  \n",
       "\n",
       "[280 rows x 6 columns]"
      ]
     },
     "execution_count": 10,
     "metadata": {},
     "output_type": "execute_result"
    }
   ],
   "source": [
    "df"
   ]
  },
  {
   "cell_type": "code",
   "execution_count": 34,
   "metadata": {},
   "outputs": [
    {
     "data": {
      "image/png": "[encoded data removed]",
      "text/plain": [
       "<Figure size 1000x600 with 2 Axes>"
      ]
     },
     "metadata": {},
     "output_type": "display_data"
    }
   ],
   "source": [
    "import matplotlib.pyplot as plt\n",
    "\n",
    "# number of graphs\n",
    "n_graphs = len(graph_names)\n",
    "\n",
    "# Create subplots\n",
    "fig, axes = plt.subplots(1, n_graphs, figsize=(5 * n_graphs, 6), sharey=True)\n",
    "\n",
    "# Loop through each graph_name and create a bar plot\n",
    "for ax, graph in zip(axes, graph_names):\n",
    "    # Group by algorithm and matrix_format, calculating the mean time\n",
    "    grouped = (\n",
    "        df[df[\"graph_name\"] == graph]\n",
    "        .groupby([\"algorithm\", \"matrix_format\"])[\"time\"]\n",
    "        .mean()\n",
    "        .unstack()\n",
    "    )\n",
    "\n",
    "    # Plotting\n",
    "    grouped.plot(kind=\"bar\", ax=ax)\n",
    "    ax.set_title(f\"Mean Time for {graph}\")\n",
    "    ax.set_xlabel(\"Algorithm\")\n",
    "    ax.set_ylabel(\"Mean Time\")\n",
    "    ax.set_xticks(range(len(grouped.index)))\n",
    "    ax.set_xticklabels(grouped.index, rotation=0)\n",
    "    ax.legend(title=\"Matrix Format\")\n",
    "\n",
    "# Adjust layout and show\n",
    "plt.tight_layout()\n",
    "plt.show()"
   ]
  },
  {
   "cell_type": "code",
   "execution_count": 35,
   "metadata": {},
   "outputs": [
    {
     "data": {
      "image/png": "[encoded data removed]",
      "text/plain": [
       "<Figure size 1400x600 with 2 Axes>"
      ]
     },
     "metadata": {},
     "output_type": "display_data"
    }
   ],
   "source": [
    "# Group by 'algorithm' and 'start_nodes_percentage', then calculate the average 'time'\n",
    "avg_time = (\n",
    "    df.groupby([\"algorithm\", \"start_nodes_percentage\"])[\"time\"].mean().reset_index()\n",
    ")\n",
    "\n",
    "# Pivot the DataFrame to get algorithms as columns\n",
    "pivot_df = avg_time.pivot(\n",
    "    index=\"start_nodes_percentage\", columns=\"algorithm\", values=\"time\"\n",
    ")\n",
    "\n",
    "# Create a figure with two subplots\n",
    "fig, axes = plt.subplots(1, 2, figsize=(14, 6))\n",
    "\n",
    "# Plotting the line chart\n",
    "for algorithm in pivot_df.columns:\n",
    "    axes[0].plot(pivot_df.index, pivot_df[algorithm], marker=\"o\", label=algorithm)\n",
    "\n",
    "axes[0].set_title(\"Average Time vs Start Nodes Percentage\")\n",
    "axes[0].set_xlabel(\"Start Nodes Percentage\")\n",
    "axes[0].set_ylabel(\"Average Time\")\n",
    "axes[0].set_xticks(pivot_df.index)  # Ensure all x-ticks are shown\n",
    "axes[0].legend(title=\"Algorithm\")\n",
    "axes[0].grid()\n",
    "\n",
    "# Plotting the bar chart\n",
    "pivot_df.plot(kind=\"bar\", ax=axes[1], width=0.8)\n",
    "\n",
    "axes[1].set_title(\"Average Time vs Start Nodes Percentage\")\n",
    "axes[1].set_xlabel(\"Start Nodes Percentage\")\n",
    "axes[1].set_ylabel(\"Average Time\")\n",
    "axes[1].set_xticks(range(len(pivot_df.index)))  # Ensure all x-ticks are shown\n",
    "axes[1].set_xticklabels(pivot_df.index, rotation=0)\n",
    "axes[1].legend(title=\"Algorithm\")\n",
    "axes[1].grid(axis=\"y\")\n",
    "\n",
    "# Adjust layout and show the plots\n",
    "plt.tight_layout()\n",
    "plt.show()"
   ]
  },
  {
   "cell_type": "markdown",
   "metadata": {},
   "source": [
    "# Описание эксперимента"
   ]
  }
 ],
 "metadata": {
  "kernelspec": {
   "display_name": ".venv",
   "language": "python",
   "name": "python3"
  },
  "language_info": {
   "codemirror_mode": {
    "name": "ipython",
    "version": 3
   },
   "file_extension": ".py",
   "mimetype": "text/x-python",
   "name": "python",
   "nbconvert_exporter": "python",
   "pygments_lexer": "ipython3",
   "version": "3.12.5"
  }
 },
 "nbformat": 4,
 "nbformat_minor": 2
}
